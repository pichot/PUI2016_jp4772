{
 "cells": [
  {
   "cell_type": "markdown",
   "metadata": {},
   "source": [
    "Assignment 3: Finish z-test lab and turn it in as a notebook :\n",
    "\n",
    "What I am looking for here is:\n",
    "\n",
    "seeing a good Null/alternative hypothesis statement and treatment, with a clear Null and Alternative spelled out AND -\n",
    "written out as a formula, and\n",
    "a good interpretation of the Z value you obtain in terms of ability or inability to reject the Null Hypothesis.\n",
    "Here is the forumla for the Z test:\n",
    "\n",
    "Z ~ (mean(pop) - mean(sample)) / (stdev / sqrt(N))\n",
    "\n",
    "And the value you obtain is how many standard deviations away from the mean(pop) your mean(sample) is.\n",
    "\n",
    "The chapter of Statistics In a Nutshell that covers these topics is called Inferential statistics. It is chapter 3 in the hard copies of the book in the CUSP library, but it was moved to chapter 7 in the online book version which is in the link. Same content more or less.\n",
    "\n",
    "GRADING:\n",
    "\n",
    "Your notebook must display\n",
    "\n",
    "the complete formulation of the hypothesis to be tested\n",
    "The formula for the hypothesis\n",
    "the chosen statistical significance, states in the right place of the workflow\n",
    "the calculation of the Z statistics\n",
    "the interpretation of the Z statistics"
   ]
  },
  {
   "cell_type": "markdown",
   "metadata": {
    "collapsed": true
   },
   "source": [
    "'https://raw.githubusercontent.com/fedhere/PUI2016_fb55/master/Lab3_fb55/times.txt'"
   ]
  },
  {
   "cell_type": "code",
   "execution_count": null,
   "metadata": {
    "collapsed": true
   },
   "outputs": [],
   "source": []
  }
 ],
 "metadata": {
  "kernelspec": {
   "display_name": "Python 2",
   "language": "python",
   "name": "python2"
  },
  "language_info": {
   "codemirror_mode": {
    "name": "ipython",
    "version": 2
   },
   "file_extension": ".py",
   "mimetype": "text/x-python",
   "name": "python",
   "nbconvert_exporter": "python",
   "pygments_lexer": "ipython2",
   "version": "2.7.12"
  }
 },
 "nbformat": 4,
 "nbformat_minor": 1
}
