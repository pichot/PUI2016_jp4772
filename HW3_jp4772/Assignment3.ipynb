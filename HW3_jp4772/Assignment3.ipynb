{
 "cells": [
  {
   "cell_type": "markdown",
   "metadata": {},
   "source": [
    "# Assignment 3\n",
    "\n",
    "### Jonathan Pichot, jp4772"
   ]
  },
  {
   "cell_type": "code",
   "execution_count": 15,
   "metadata": {
    "collapsed": false
   },
   "outputs": [],
   "source": [
    "import numpy as np\n",
    "import pandas as pd"
   ]
  },
  {
   "cell_type": "code",
   "execution_count": 4,
   "metadata": {
    "collapsed": false
   },
   "outputs": [
    {
     "data": {
      "text/html": [
       "<div>\n",
       "<table border=\"1\" class=\"dataframe\">\n",
       "  <thead>\n",
       "    <tr style=\"text-align: right;\">\n",
       "      <th></th>\n",
       "      <th>0</th>\n",
       "    </tr>\n",
       "  </thead>\n",
       "  <tbody>\n",
       "    <tr>\n",
       "      <th>0</th>\n",
       "      <td>31.622239</td>\n",
       "    </tr>\n",
       "    <tr>\n",
       "      <th>1</th>\n",
       "      <td>32.821376</td>\n",
       "    </tr>\n",
       "    <tr>\n",
       "      <th>2</th>\n",
       "      <td>30.229101</td>\n",
       "    </tr>\n",
       "  </tbody>\n",
       "</table>\n",
       "</div>"
      ],
      "text/plain": [
       "           0\n",
       "0  31.622239\n",
       "1  32.821376\n",
       "2  30.229101"
      ]
     },
     "execution_count": 4,
     "metadata": {},
     "output_type": "execute_result"
    }
   ],
   "source": [
    "# Grab the data from github. Specify that there is no header in the list.\n",
    "times = pd.read_csv('https://raw.githubusercontent.com/fedhere/PUI2016_fb55/master/Lab3_fb55/times.txt', header=None)\n",
    "times.head(3)"
   ]
  },
  {
   "cell_type": "code",
   "execution_count": 6,
   "metadata": {
    "collapsed": false
   },
   "outputs": [
    {
     "data": {
      "text/html": [
       "<div>\n",
       "<table border=\"1\" class=\"dataframe\">\n",
       "  <thead>\n",
       "    <tr style=\"text-align: right;\">\n",
       "      <th></th>\n",
       "      <th>time</th>\n",
       "    </tr>\n",
       "  </thead>\n",
       "  <tbody>\n",
       "    <tr>\n",
       "      <th>0</th>\n",
       "      <td>31.622239</td>\n",
       "    </tr>\n",
       "    <tr>\n",
       "      <th>1</th>\n",
       "      <td>32.821376</td>\n",
       "    </tr>\n",
       "    <tr>\n",
       "      <th>2</th>\n",
       "      <td>30.229101</td>\n",
       "    </tr>\n",
       "  </tbody>\n",
       "</table>\n",
       "</div>"
      ],
      "text/plain": [
       "        time\n",
       "0  31.622239\n",
       "1  32.821376\n",
       "2  30.229101"
      ]
     },
     "execution_count": 6,
     "metadata": {},
     "output_type": "execute_result"
    }
   ],
   "source": [
    "# Give the column a name\n",
    "times.columns = [\"time\"]\n",
    "times.head(3)"
   ]
  },
  {
   "cell_type": "markdown",
   "metadata": {},
   "source": [
    "## Question: is the new Bus route improving commute times?\n",
    "A new bus route for line X8 is implemented. MTA wants to know if it improves commute time (travel time at peak hours).\n",
    "\n",
    "**Null Hypothesis**  \n",
    "The null hypothesis–the hypothesis in which the expected effect is not significantly significant–is that the new commute times of the X8 bus are *the same or longer* then the previous times of the old route. Written mathetically, the hypothesis is:\n",
    "\n",
    "$H_0: T_{new} >= T_{old}$\n",
    "\n",
    "$T_{new}$ being the mean of the new commute times  \n",
    "$T_{old}$ being the mean of the old commute times\n",
    "\n",
    "**Alternative Hypothesis**  \n",
    "The alternative hypothesis is that the new commute times of the X8 bus are *shorter* then the previous times of the old route. Written mathetically, the hypothesis is:\n",
    "\n",
    "$H_1: T_{new} < T_{old}$\n",
    "\n",
    "**Confidence Level**  \n",
    "For the test to be significant, we will be testing to a 95% confidence level ($2 \\sigma$). This represents 2 standard deviations from the mean.\n"
   ]
  },
  {
   "cell_type": "code",
   "execution_count": 14,
   "metadata": {
    "collapsed": false
   },
   "outputs": [
    {
     "name": "stdout",
     "output_type": "stream",
     "text": [
      "H0 mean:  36\n",
      "H0 standard deviation:  6\n",
      "H1 mean:  34.4661616883\n",
      "H1 standard deviation:  7.13728013375\n"
     ]
    }
   ],
   "source": [
    "# We were given the mean and standard deviation of the old commute times\n",
    "\n",
    "h0_mean = 36\n",
    "h0_std = 6\n",
    "\n",
    "h1_mean = times.time.mean()\n",
    "h1_std = times.time.std()\n",
    "\n",
    "print \"H0 mean: \", h0_mean\n",
    "print \"H0 standard deviation: \", h0_std\n",
    "print \"H1 mean: \", h1_mean\n",
    "print \"H1 standard deviation: \", h1_std"
   ]
  },
  {
   "cell_type": "markdown",
   "metadata": {},
   "source": [
    "Interestingly, the mean of the new times is lower than that of the old times, but is it low enough? To test this, we can use a Z-test to see if the difference is significant. We calculate this using the formula below:\n",
    "\n",
    "$$\n",
    "Z = \\frac{T_{old} - T_{new} }{\\sigma / \\sqrt{N}}\n",
    "$$"
   ]
  },
  {
   "cell_type": "code",
   "execution_count": 13,
   "metadata": {
    "collapsed": false
   },
   "outputs": [
    {
     "name": "stdout",
     "output_type": "stream",
     "text": [
      "Z-test score:  2.55639718617\n"
     ]
    }
   ],
   "source": [
    "# Define the Z-test in python\n",
    "\n",
    "Z = (h0_mean - h1_mean)/(h0_std/np.sqrt(len(times.time)))\n",
    "print 'Z-test score: ', Z"
   ]
  },
  {
   "cell_type": "markdown",
   "metadata": {},
   "source": [
    "🎉 **Significance!** 🎉   \n",
    "With a Z-test value of 2.556, we now know that the mean of $H_1$ (the alternative hypothesis) is over 2 times the standard deviation of our original mean. This is thus larger than our confidence interval that we decided above ($2 \\sigma$). Since:  \n",
    "\n",
    "$$2 \\sigma < 2.556 \\sigma$$\n",
    "\n",
    "We can then accept the alternative hypothesis and say that the X8 bus does indeed shorten commute times in comparison to the old route. X8 🚍  FTW."
   ]
  }
 ],
 "metadata": {
  "kernelspec": {
   "display_name": "Python 2",
   "language": "python",
   "name": "python2"
  },
  "language_info": {
   "codemirror_mode": {
    "name": "ipython",
    "version": 2
   },
   "file_extension": ".py",
   "mimetype": "text/x-python",
   "name": "python",
   "nbconvert_exporter": "python",
   "pygments_lexer": "ipython2",
   "version": "2.7.12"
  }
 },
 "nbformat": 4,
 "nbformat_minor": 1
}
