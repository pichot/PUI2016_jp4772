{
 "cells": [
  {
   "cell_type": "markdown",
   "metadata": {},
   "source": [
    "# Working with Data - Computer Lab for Guest Lecture Julia Lane\n",
    "\n",
    "In this computer lab we will learn more more details and practice data work to enhance the content of the lecture presented by Julia Lane on responsible data use. We will address a research question, think about data and measurement errors, and manipulate data. \n",
    "\n",
    "OUTLINE: \n",
    "1. Define a research question \n",
    "2. Think about what data are available \n",
    "3. Think about possible measurement errors \n",
    "4. Think about the interpretation of your results \n",
    "5. Inform your results by linking datasets "
   ]
  },
  {
   "cell_type": "markdown",
   "metadata": {
    "raw_mimetype": "text/markdown"
   },
   "source": [
    "# 1. Define a reserach question\n",
    "Which Community Districts in NYC show the highest number of complaints?\n",
    "\n",
    "# 2. Think about what data are available\n",
    "Find suitable data by searching the CUSP Data Catalog https://datahub.cusp.nyu.edu/catalog. You can use Urban Profiler to investigate the Metadata associated with each dataset. Using this tool will help you to decide which attributes of the data you need to answer your question so you don't have to load the entire dataset. "
   ]
  },
  {
   "cell_type": "code",
   "execution_count": 117,
   "metadata": {
    "collapsed": false
   },
   "outputs": [],
   "source": [
    "import os\n",
    "import pandas as pd\n",
    "import numpy as np\n",
    "import re\n",
    "import seaborn\n",
    "import statsmodels.formula.api as smf\n",
    "import matplotlib.pyplot as plt\n",
    "\n",
    "if os.getenv(\"PUIDATA\"):\n",
    "    data_path = os.getenv(\"PUIDATA\")\n",
    "else:\n",
    "    os.system('mkdir data')\n",
    "    data_path = \"./data\"\n",
    "    \n",
    "%matplotlib inline"
   ]
  },
  {
   "cell_type": "code",
   "execution_count": 2,
   "metadata": {
    "collapsed": false
   },
   "outputs": [],
   "source": [
    "csv311 = data_path + \"/311.csv\""
   ]
  },
  {
   "cell_type": "code",
   "execution_count": 12,
   "metadata": {
    "collapsed": false
   },
   "outputs": [
    {
     "data": {
      "text/plain": [
       "0"
      ]
     },
     "execution_count": 12,
     "metadata": {},
     "output_type": "execute_result"
    }
   ],
   "source": [
    "# Download 311 data\n",
    "# Using custom Socrata view to only export 2015 data\n",
    "os.system(\"curl -o \" + csv311 + \" http://cosmo.nyu.edu/~fb55/PUI2016/data/311_Service_Requests_from_2010_to_Present.csv\")"
   ]
  },
  {
   "cell_type": "code",
   "execution_count": 13,
   "metadata": {
    "collapsed": false
   },
   "outputs": [
    {
     "name": "stderr",
     "output_type": "stream",
     "text": [
      "/Users/pichot/.pyenv/versions/anaconda3-4.1.0/lib/python3.5/site-packages/IPython/core/interactiveshell.py:2723: DtypeWarning: Columns (17,40,47) have mixed types. Specify dtype option on import or set low_memory=False.\n",
      "  interactivity=interactivity, compiler=compiler, result=result)\n"
     ]
    }
   ],
   "source": [
    "df311 = pd.read_csv(csv311)"
   ]
  },
  {
   "cell_type": "markdown",
   "metadata": {},
   "source": [
    "# 3. Think about possible measurement errors\n",
    "Do you see any problems regarding possible measurement error? Think about who is represented in the data, ommissions, duplications, content error, missing data, etc. "
   ]
  },
  {
   "cell_type": "code",
   "execution_count": 10,
   "metadata": {
    "collapsed": false
   },
   "outputs": [
    {
     "data": {
      "text/html": [
       "<div>\n",
       "<table border=\"1\" class=\"dataframe\">\n",
       "  <thead>\n",
       "    <tr style=\"text-align: right;\">\n",
       "      <th></th>\n",
       "      <th>Unique Key</th>\n",
       "      <th>Created Date</th>\n",
       "      <th>Closed Date</th>\n",
       "      <th>Agency</th>\n",
       "      <th>Agency Name</th>\n",
       "      <th>Complaint Type</th>\n",
       "      <th>Descriptor</th>\n",
       "      <th>Location Type</th>\n",
       "      <th>Incident Zip</th>\n",
       "      <th>Incident Address</th>\n",
       "      <th>...</th>\n",
       "      <th>Bridge Highway Name</th>\n",
       "      <th>Bridge Highway Direction</th>\n",
       "      <th>Road Ramp</th>\n",
       "      <th>Bridge Highway Segment</th>\n",
       "      <th>Garage Lot Name</th>\n",
       "      <th>Ferry Direction</th>\n",
       "      <th>Ferry Terminal Name</th>\n",
       "      <th>Latitude</th>\n",
       "      <th>Longitude</th>\n",
       "      <th>Location</th>\n",
       "    </tr>\n",
       "  </thead>\n",
       "  <tbody>\n",
       "    <tr>\n",
       "      <th>0</th>\n",
       "      <td>34212771</td>\n",
       "      <td>09/01/2016 12:00:06 AM</td>\n",
       "      <td>09/01/2016 06:02:10 AM</td>\n",
       "      <td>NYPD</td>\n",
       "      <td>New York City Police Department</td>\n",
       "      <td>Noise - Residential</td>\n",
       "      <td>Loud Television</td>\n",
       "      <td>Residential Building/House</td>\n",
       "      <td>11413.0</td>\n",
       "      <td>137-47 CARSON STREET</td>\n",
       "      <td>...</td>\n",
       "      <td>NaN</td>\n",
       "      <td>NaN</td>\n",
       "      <td>NaN</td>\n",
       "      <td>NaN</td>\n",
       "      <td>NaN</td>\n",
       "      <td>NaN</td>\n",
       "      <td>NaN</td>\n",
       "      <td>40.675208</td>\n",
       "      <td>-73.754949</td>\n",
       "      <td>(40.67520813178531, -73.75494944502233)</td>\n",
       "    </tr>\n",
       "    <tr>\n",
       "      <th>1</th>\n",
       "      <td>34212392</td>\n",
       "      <td>09/01/2016 12:00:35 AM</td>\n",
       "      <td>09/02/2016 04:53:48 PM</td>\n",
       "      <td>NYPD</td>\n",
       "      <td>New York City Police Department</td>\n",
       "      <td>Blocked Driveway</td>\n",
       "      <td>No Access</td>\n",
       "      <td>Street/Sidewalk</td>\n",
       "      <td>10469.0</td>\n",
       "      <td>943 EAST 217 STREET</td>\n",
       "      <td>...</td>\n",
       "      <td>NaN</td>\n",
       "      <td>NaN</td>\n",
       "      <td>NaN</td>\n",
       "      <td>NaN</td>\n",
       "      <td>NaN</td>\n",
       "      <td>NaN</td>\n",
       "      <td>NaN</td>\n",
       "      <td>40.879986</td>\n",
       "      <td>-73.856707</td>\n",
       "      <td>(40.87998640855491, -73.85670741555177)</td>\n",
       "    </tr>\n",
       "    <tr>\n",
       "      <th>2</th>\n",
       "      <td>34214520</td>\n",
       "      <td>09/01/2016 12:00:37 AM</td>\n",
       "      <td>09/01/2016 01:05:43 AM</td>\n",
       "      <td>NYPD</td>\n",
       "      <td>New York City Police Department</td>\n",
       "      <td>Blocked Driveway</td>\n",
       "      <td>No Access</td>\n",
       "      <td>Street/Sidewalk</td>\n",
       "      <td>11369.0</td>\n",
       "      <td>98-02 25 AVENUE</td>\n",
       "      <td>...</td>\n",
       "      <td>NaN</td>\n",
       "      <td>NaN</td>\n",
       "      <td>NaN</td>\n",
       "      <td>NaN</td>\n",
       "      <td>NaN</td>\n",
       "      <td>NaN</td>\n",
       "      <td>NaN</td>\n",
       "      <td>40.764632</td>\n",
       "      <td>-73.871623</td>\n",
       "      <td>(40.76463242381882, -73.87162284918391)</td>\n",
       "    </tr>\n",
       "    <tr>\n",
       "      <th>3</th>\n",
       "      <td>34212483</td>\n",
       "      <td>09/01/2016 12:00:54 AM</td>\n",
       "      <td>09/01/2016 03:15:32 AM</td>\n",
       "      <td>NYPD</td>\n",
       "      <td>New York City Police Department</td>\n",
       "      <td>Blocked Driveway</td>\n",
       "      <td>No Access</td>\n",
       "      <td>Street/Sidewalk</td>\n",
       "      <td>10466.0</td>\n",
       "      <td>1017 EAST 226 STREET</td>\n",
       "      <td>...</td>\n",
       "      <td>NaN</td>\n",
       "      <td>NaN</td>\n",
       "      <td>NaN</td>\n",
       "      <td>NaN</td>\n",
       "      <td>NaN</td>\n",
       "      <td>NaN</td>\n",
       "      <td>NaN</td>\n",
       "      <td>40.885559</td>\n",
       "      <td>-73.850782</td>\n",
       "      <td>(40.885558858976104, -73.85078238918491)</td>\n",
       "    </tr>\n",
       "    <tr>\n",
       "      <th>4</th>\n",
       "      <td>34214231</td>\n",
       "      <td>09/01/2016 12:01:15 AM</td>\n",
       "      <td>09/06/2016 09:27:00 AM</td>\n",
       "      <td>DOT</td>\n",
       "      <td>Department of Transportation</td>\n",
       "      <td>Street Condition</td>\n",
       "      <td>Pothole</td>\n",
       "      <td>NaN</td>\n",
       "      <td>10040.0</td>\n",
       "      <td>4700 BROADWAY</td>\n",
       "      <td>...</td>\n",
       "      <td>NaN</td>\n",
       "      <td>NaN</td>\n",
       "      <td>NaN</td>\n",
       "      <td>NaN</td>\n",
       "      <td>NaN</td>\n",
       "      <td>NaN</td>\n",
       "      <td>NaN</td>\n",
       "      <td>40.864140</td>\n",
       "      <td>-73.929501</td>\n",
       "      <td>(40.864140093130686, -73.92950060219349)</td>\n",
       "    </tr>\n",
       "  </tbody>\n",
       "</table>\n",
       "<p>5 rows × 53 columns</p>\n",
       "</div>"
      ],
      "text/plain": [
       "   Unique Key            Created Date             Closed Date Agency  \\\n",
       "0    34212771  09/01/2016 12:00:06 AM  09/01/2016 06:02:10 AM   NYPD   \n",
       "1    34212392  09/01/2016 12:00:35 AM  09/02/2016 04:53:48 PM   NYPD   \n",
       "2    34214520  09/01/2016 12:00:37 AM  09/01/2016 01:05:43 AM   NYPD   \n",
       "3    34212483  09/01/2016 12:00:54 AM  09/01/2016 03:15:32 AM   NYPD   \n",
       "4    34214231  09/01/2016 12:01:15 AM  09/06/2016 09:27:00 AM    DOT   \n",
       "\n",
       "                       Agency Name       Complaint Type       Descriptor  \\\n",
       "0  New York City Police Department  Noise - Residential  Loud Television   \n",
       "1  New York City Police Department     Blocked Driveway        No Access   \n",
       "2  New York City Police Department     Blocked Driveway        No Access   \n",
       "3  New York City Police Department     Blocked Driveway        No Access   \n",
       "4     Department of Transportation     Street Condition          Pothole   \n",
       "\n",
       "                Location Type  Incident Zip      Incident Address  \\\n",
       "0  Residential Building/House       11413.0  137-47 CARSON STREET   \n",
       "1             Street/Sidewalk       10469.0   943 EAST 217 STREET   \n",
       "2             Street/Sidewalk       11369.0       98-02 25 AVENUE   \n",
       "3             Street/Sidewalk       10466.0  1017 EAST 226 STREET   \n",
       "4                         NaN       10040.0         4700 BROADWAY   \n",
       "\n",
       "                     ...                    Bridge Highway Name  \\\n",
       "0                    ...                                    NaN   \n",
       "1                    ...                                    NaN   \n",
       "2                    ...                                    NaN   \n",
       "3                    ...                                    NaN   \n",
       "4                    ...                                    NaN   \n",
       "\n",
       "  Bridge Highway Direction Road Ramp Bridge Highway Segment Garage Lot Name  \\\n",
       "0                      NaN       NaN                    NaN             NaN   \n",
       "1                      NaN       NaN                    NaN             NaN   \n",
       "2                      NaN       NaN                    NaN             NaN   \n",
       "3                      NaN       NaN                    NaN             NaN   \n",
       "4                      NaN       NaN                    NaN             NaN   \n",
       "\n",
       "  Ferry Direction Ferry Terminal Name   Latitude  Longitude  \\\n",
       "0             NaN                 NaN  40.675208 -73.754949   \n",
       "1             NaN                 NaN  40.879986 -73.856707   \n",
       "2             NaN                 NaN  40.764632 -73.871623   \n",
       "3             NaN                 NaN  40.885559 -73.850782   \n",
       "4             NaN                 NaN  40.864140 -73.929501   \n",
       "\n",
       "                                   Location  \n",
       "0   (40.67520813178531, -73.75494944502233)  \n",
       "1   (40.87998640855491, -73.85670741555177)  \n",
       "2   (40.76463242381882, -73.87162284918391)  \n",
       "3  (40.885558858976104, -73.85078238918491)  \n",
       "4  (40.864140093130686, -73.92950060219349)  \n",
       "\n",
       "[5 rows x 53 columns]"
      ]
     },
     "execution_count": 10,
     "metadata": {},
     "output_type": "execute_result"
    }
   ],
   "source": [
    "df311.head()"
   ]
  },
  {
   "cell_type": "code",
   "execution_count": 14,
   "metadata": {
    "collapsed": false
   },
   "outputs": [
    {
     "data": {
      "text/plain": [
       "34897"
      ]
     },
     "execution_count": 14,
     "metadata": {},
     "output_type": "execute_result"
    }
   ],
   "source": [
    "len(df311)"
   ]
  },
  {
   "cell_type": "code",
   "execution_count": 15,
   "metadata": {
    "collapsed": false
   },
   "outputs": [
    {
     "data": {
      "text/plain": [
       "Unique Key                          int64\n",
       "Created Date                       object\n",
       "Closed Date                        object\n",
       "Agency                             object\n",
       "Agency Name                        object\n",
       "Complaint Type                     object\n",
       "Descriptor                         object\n",
       "Location Type                      object\n",
       "Incident Zip                      float64\n",
       "Incident Address                   object\n",
       "Street Name                        object\n",
       "Cross Street 1                     object\n",
       "Cross Street 2                     object\n",
       "Intersection Street 1              object\n",
       "Intersection Street 2              object\n",
       "Address Type                       object\n",
       "City                               object\n",
       "Landmark                           object\n",
       "Facility Type                      object\n",
       "Status                             object\n",
       "Due Date                           object\n",
       "Resolution Description             object\n",
       "Resolution Action Updated Date     object\n",
       "Community Board                    object\n",
       "Borough                            object\n",
       "X Coordinate (State Plane)        float64\n",
       "Y Coordinate (State Plane)        float64\n",
       "Park Facility Name                 object\n",
       "Park Borough                       object\n",
       "School Name                        object\n",
       "School Number                      object\n",
       "School Region                      object\n",
       "School Code                        object\n",
       "School Phone Number                object\n",
       "School Address                     object\n",
       "School City                        object\n",
       "School State                       object\n",
       "School Zip                         object\n",
       "School Not Found                   object\n",
       "School or Citywide Complaint      float64\n",
       "Vehicle Type                       object\n",
       "Taxi Company Borough               object\n",
       "Taxi Pick Up Location              object\n",
       "Bridge Highway Name                object\n",
       "Bridge Highway Direction           object\n",
       "Road Ramp                          object\n",
       "Bridge Highway Segment             object\n",
       "Garage Lot Name                    object\n",
       "Ferry Direction                    object\n",
       "Ferry Terminal Name                object\n",
       "Latitude                          float64\n",
       "Longitude                         float64\n",
       "Location                           object\n",
       "dtype: object"
      ]
     },
     "execution_count": 15,
     "metadata": {},
     "output_type": "execute_result"
    }
   ],
   "source": [
    "df311.dtypes"
   ]
  },
  {
   "cell_type": "code",
   "execution_count": 16,
   "metadata": {
    "collapsed": false
   },
   "outputs": [
    {
     "data": {
      "text/plain": [
       "array(['13 QUEENS', '12 BRONX', '03 QUEENS', '12 MANHATTAN',\n",
       "       '09 MANHATTAN', '08 QUEENS', '01 QUEENS', '07 BRONX', '01 BROOKLYN',\n",
       "       '03 MANHATTAN', '09 QUEENS', '05 BRONX', '03 BROOKLYN',\n",
       "       '07 MANHATTAN', '12 BROOKLYN', '0 Unspecified', '09 BROOKLYN',\n",
       "       '07 QUEENS', '15 BROOKLYN', '08 MANHATTAN', '10 BROOKLYN',\n",
       "       '08 BROOKLYN', '04 MANHATTAN', '02 MANHATTAN', '12 QUEENS',\n",
       "       '04 BRONX', '04 BROOKLYN', '01 BRONX', 'Unspecified MANHATTAN',\n",
       "       '10 QUEENS', '18 BROOKLYN', '11 BROOKLYN', '10 MANHATTAN',\n",
       "       '11 QUEENS', '16 BROOKLYN', '05 BROOKLYN', '05 MANHATTAN',\n",
       "       '55 BROOKLYN', '08 BRONX', '09 BRONX', '17 BROOKLYN',\n",
       "       '01 MANHATTAN', '05 QUEENS', '06 QUEENS', '02 BRONX', '11 BRONX',\n",
       "       '04 QUEENS', 'Unspecified BROOKLYN', '02 QUEENS',\n",
       "       '01 STATEN ISLAND', '03 STATEN ISLAND', '14 BROOKLYN',\n",
       "       '07 BROOKLYN', '02 STATEN ISLAND', '10 BRONX', '11 MANHATTAN',\n",
       "       '06 BROOKLYN', '13 BROOKLYN', '06 MANHATTAN', 'Unspecified BRONX',\n",
       "       '02 BROOKLYN', '06 BRONX', '14 QUEENS', '03 BRONX', '83 QUEENS',\n",
       "       'Unspecified QUEENS', 'Unspecified STATEN ISLAND', '80 QUEENS',\n",
       "       '82 QUEENS', '81 QUEENS', '95 STATEN ISLAND', '64 MANHATTAN',\n",
       "       '26 BRONX', '27 BRONX'], dtype=object)"
      ]
     },
     "execution_count": 16,
     "metadata": {},
     "output_type": "execute_result"
    }
   ],
   "source": [
    "# Check if all Boroughs and Community Districts are represented in the Data\n",
    "df311[\"Community Board\"].unique()"
   ]
  },
  {
   "cell_type": "code",
   "execution_count": 17,
   "metadata": {
    "collapsed": false
   },
   "outputs": [],
   "source": [
    "# Remove all unspecified community boards\n",
    "df311 = df311[~df311[\"Community Board\"].str.contains('Unspecified')]"
   ]
  },
  {
   "cell_type": "code",
   "execution_count": 18,
   "metadata": {
    "collapsed": false
   },
   "outputs": [],
   "source": [
    "df311 = df311[df311[\"Community Board\"] != \"BRONX\"]\n",
    "df311 = df311[df311[\"Community Board\"] != \"BROOKLYN\"]\n",
    "df311 = df311[df311[\"Community Board\"] != \"MANHATTAN\"]\n",
    "df311 = df311[df311[\"Community Board\"] != \"QUEENS\"]\n",
    "df311 = df311[df311[\"Community Board\"] != \"STATEN ISLAND\"]"
   ]
  },
  {
   "cell_type": "code",
   "execution_count": 19,
   "metadata": {
    "collapsed": true
   },
   "outputs": [],
   "source": [
    "df311 = df311[df311[\"Community Board\"] != \"26 BRONX\"]\n",
    "df311 = df311[df311[\"Community Board\"] != \"27 BRONX\"]\n",
    "df311 = df311[df311[\"Community Board\"] != \"55 BROOKLYN\"]\n",
    "df311 = df311[df311[\"Community Board\"] != \"64 MANHATTAN\"]\n",
    "df311 = df311[df311[\"Community Board\"] != \"80 QUEENS\"]\n",
    "df311 = df311[df311[\"Community Board\"] != \"81 QUEENS\"]\n",
    "df311 = df311[df311[\"Community Board\"] != \"82 QUEENS\"]\n",
    "df311 = df311[df311[\"Community Board\"] != \"83 QUEENS\"]\n",
    "df311 = df311[df311[\"Community Board\"] != \"95 STATEN ISLAND\"]"
   ]
  },
  {
   "cell_type": "code",
   "execution_count": 20,
   "metadata": {
    "collapsed": false
   },
   "outputs": [
    {
     "data": {
      "text/plain": [
       "32846"
      ]
     },
     "execution_count": 20,
     "metadata": {},
     "output_type": "execute_result"
    }
   ],
   "source": [
    "# How many unique values do we have? \n",
    "len(df311)"
   ]
  },
  {
   "cell_type": "code",
   "execution_count": 21,
   "metadata": {
    "collapsed": false
   },
   "outputs": [
    {
     "data": {
      "text/plain": [
       "59"
      ]
     },
     "execution_count": 21,
     "metadata": {},
     "output_type": "execute_result"
    }
   ],
   "source": [
    "# Why do we have so many? Some of them are unspecified, missing. Some might be invalid entries. \n",
    "# We should have 59 Community Districts.\n",
    "len(df311[\"Community Board\"].unique())"
   ]
  },
  {
   "cell_type": "markdown",
   "metadata": {},
   "source": [
    "We have 59 now!"
   ]
  },
  {
   "cell_type": "code",
   "execution_count": 22,
   "metadata": {
    "collapsed": false
   },
   "outputs": [
    {
     "data": {
      "text/html": [
       "<div>\n",
       "<table border=\"1\" class=\"dataframe\">\n",
       "  <thead>\n",
       "    <tr style=\"text-align: right;\">\n",
       "      <th></th>\n",
       "      <th>Unique Key</th>\n",
       "      <th>Created Date</th>\n",
       "      <th>Closed Date</th>\n",
       "      <th>Agency</th>\n",
       "      <th>Agency Name</th>\n",
       "      <th>Complaint Type</th>\n",
       "      <th>Descriptor</th>\n",
       "      <th>Location Type</th>\n",
       "      <th>Incident Zip</th>\n",
       "      <th>Incident Address</th>\n",
       "      <th>...</th>\n",
       "      <th>Bridge Highway Name</th>\n",
       "      <th>Bridge Highway Direction</th>\n",
       "      <th>Road Ramp</th>\n",
       "      <th>Bridge Highway Segment</th>\n",
       "      <th>Garage Lot Name</th>\n",
       "      <th>Ferry Direction</th>\n",
       "      <th>Ferry Terminal Name</th>\n",
       "      <th>Latitude</th>\n",
       "      <th>Longitude</th>\n",
       "      <th>Location</th>\n",
       "    </tr>\n",
       "  </thead>\n",
       "  <tbody>\n",
       "  </tbody>\n",
       "</table>\n",
       "<p>0 rows × 53 columns</p>\n",
       "</div>"
      ],
      "text/plain": [
       "Empty DataFrame\n",
       "Columns: [Unique Key, Created Date, Closed Date, Agency, Agency Name, Complaint Type, Descriptor, Location Type, Incident Zip, Incident Address, Street Name, Cross Street 1, Cross Street 2, Intersection Street 1, Intersection Street 2, Address Type, City, Landmark, Facility Type, Status, Due Date, Resolution Description, Resolution Action Updated Date, Community Board, Borough, X Coordinate (State Plane), Y Coordinate (State Plane), Park Facility Name, Park Borough, School Name, School Number, School Region, School Code, School Phone Number, School Address, School City, School State, School Zip, School Not Found, School or Citywide Complaint, Vehicle Type, Taxi Company Borough, Taxi Pick Up Location, Bridge Highway Name, Bridge Highway Direction, Road Ramp, Bridge Highway Segment, Garage Lot Name, Ferry Direction, Ferry Terminal Name, Latitude, Longitude, Location]\n",
       "Index: []\n",
       "\n",
       "[0 rows x 53 columns]"
      ]
     },
     "execution_count": 22,
     "metadata": {},
     "output_type": "execute_result"
    }
   ],
   "source": [
    "# Check for duplicates? Are these plausible?\n",
    "df311[df311.duplicated()]"
   ]
  },
  {
   "cell_type": "markdown",
   "metadata": {},
   "source": [
    "No duplicates. Removing unspecified and invalid districts appears to have taken care of most of this for us."
   ]
  },
  {
   "cell_type": "code",
   "execution_count": null,
   "metadata": {
    "collapsed": false
   },
   "outputs": [],
   "source": [
    "# What about missing values? Can you detect any patterns?"
   ]
  },
  {
   "cell_type": "code",
   "execution_count": 23,
   "metadata": {
    "collapsed": false
   },
   "outputs": [
    {
     "data": {
      "text/plain": [
       "Index(['Unique Key', 'Created Date', 'Closed Date', 'Agency', 'Agency Name',\n",
       "       'Complaint Type', 'Descriptor', 'Location Type', 'Incident Zip',\n",
       "       'Incident Address', 'Street Name', 'Cross Street 1', 'Cross Street 2',\n",
       "       'Intersection Street 1', 'Intersection Street 2', 'Address Type',\n",
       "       'City', 'Landmark', 'Facility Type', 'Status', 'Due Date',\n",
       "       'Resolution Description', 'Resolution Action Updated Date',\n",
       "       'Community Board', 'Borough', 'X Coordinate (State Plane)',\n",
       "       'Y Coordinate (State Plane)', 'Park Facility Name', 'Park Borough',\n",
       "       'School Name', 'School Number', 'School Region', 'School Code',\n",
       "       'School Phone Number', 'School Address', 'School City', 'School State',\n",
       "       'School Zip', 'School Not Found', 'School or Citywide Complaint',\n",
       "       'Vehicle Type', 'Taxi Company Borough', 'Taxi Pick Up Location',\n",
       "       'Bridge Highway Name', 'Bridge Highway Direction', 'Road Ramp',\n",
       "       'Bridge Highway Segment', 'Garage Lot Name', 'Ferry Direction',\n",
       "       'Ferry Terminal Name', 'Latitude', 'Longitude', 'Location'],\n",
       "      dtype='object')"
      ]
     },
     "execution_count": 23,
     "metadata": {},
     "output_type": "execute_result"
    }
   ],
   "source": [
    "df311.columns"
   ]
  },
  {
   "cell_type": "code",
   "execution_count": 24,
   "metadata": {
    "collapsed": false
   },
   "outputs": [
    {
     "data": {
      "text/plain": [
       "Unique Key                        False\n",
       "Created Date                      False\n",
       "Closed Date                        True\n",
       "Agency                            False\n",
       "Agency Name                       False\n",
       "Complaint Type                    False\n",
       "Descriptor                         True\n",
       "Location Type                      True\n",
       "Incident Zip                       True\n",
       "Incident Address                   True\n",
       "Street Name                        True\n",
       "Cross Street 1                     True\n",
       "Cross Street 2                     True\n",
       "Intersection Street 1              True\n",
       "Intersection Street 2              True\n",
       "Address Type                       True\n",
       "City                               True\n",
       "Landmark                           True\n",
       "Facility Type                      True\n",
       "Status                            False\n",
       "Due Date                           True\n",
       "Resolution Description             True\n",
       "Resolution Action Updated Date     True\n",
       "Community Board                   False\n",
       "Borough                           False\n",
       "X Coordinate (State Plane)         True\n",
       "Y Coordinate (State Plane)         True\n",
       "Park Facility Name                False\n",
       "Park Borough                      False\n",
       "School Name                       False\n",
       "School Number                      True\n",
       "School Region                      True\n",
       "School Code                        True\n",
       "School Phone Number               False\n",
       "School Address                    False\n",
       "School City                       False\n",
       "School State                      False\n",
       "School Zip                        False\n",
       "School Not Found                   True\n",
       "School or Citywide Complaint       True\n",
       "Vehicle Type                       True\n",
       "Taxi Company Borough               True\n",
       "Taxi Pick Up Location              True\n",
       "Bridge Highway Name                True\n",
       "Bridge Highway Direction           True\n",
       "Road Ramp                          True\n",
       "Bridge Highway Segment             True\n",
       "Garage Lot Name                    True\n",
       "Ferry Direction                    True\n",
       "Ferry Terminal Name                True\n",
       "Latitude                           True\n",
       "Longitude                          True\n",
       "Location                           True\n",
       "dtype: bool"
      ]
     },
     "execution_count": 24,
     "metadata": {},
     "output_type": "execute_result"
    }
   ],
   "source": [
    "df311.isnull().any()"
   ]
  },
  {
   "cell_type": "markdown",
   "metadata": {},
   "source": [
    "There are some columns with missing data, but those tend to be columns that are filled depending on the type of complaint."
   ]
  },
  {
   "cell_type": "code",
   "execution_count": null,
   "metadata": {
    "collapsed": true
   },
   "outputs": [],
   "source": [
    "# Data Editing: Is it possible to replace missing values? Is it possible to use Complaint Type \n",
    "# to fill missings in Resolution Descriptor?"
   ]
  },
  {
   "cell_type": "code",
   "execution_count": 25,
   "metadata": {
    "collapsed": false
   },
   "outputs": [
    {
     "data": {
      "text/html": [
       "<div>\n",
       "<table border=\"1\" class=\"dataframe\">\n",
       "  <thead>\n",
       "    <tr style=\"text-align: right;\">\n",
       "      <th></th>\n",
       "      <th>Unique Key</th>\n",
       "      <th>Created Date</th>\n",
       "      <th>Closed Date</th>\n",
       "      <th>Agency</th>\n",
       "      <th>Agency Name</th>\n",
       "      <th>Complaint Type</th>\n",
       "      <th>Descriptor</th>\n",
       "      <th>Location Type</th>\n",
       "      <th>Incident Zip</th>\n",
       "      <th>Incident Address</th>\n",
       "      <th>...</th>\n",
       "      <th>Bridge Highway Name</th>\n",
       "      <th>Bridge Highway Direction</th>\n",
       "      <th>Road Ramp</th>\n",
       "      <th>Bridge Highway Segment</th>\n",
       "      <th>Garage Lot Name</th>\n",
       "      <th>Ferry Direction</th>\n",
       "      <th>Ferry Terminal Name</th>\n",
       "      <th>Latitude</th>\n",
       "      <th>Longitude</th>\n",
       "      <th>Location</th>\n",
       "    </tr>\n",
       "  </thead>\n",
       "  <tbody>\n",
       "  </tbody>\n",
       "</table>\n",
       "<p>0 rows × 53 columns</p>\n",
       "</div>"
      ],
      "text/plain": [
       "Empty DataFrame\n",
       "Columns: [Unique Key, Created Date, Closed Date, Agency, Agency Name, Complaint Type, Descriptor, Location Type, Incident Zip, Incident Address, Street Name, Cross Street 1, Cross Street 2, Intersection Street 1, Intersection Street 2, Address Type, City, Landmark, Facility Type, Status, Due Date, Resolution Description, Resolution Action Updated Date, Community Board, Borough, X Coordinate (State Plane), Y Coordinate (State Plane), Park Facility Name, Park Borough, School Name, School Number, School Region, School Code, School Phone Number, School Address, School City, School State, School Zip, School Not Found, School or Citywide Complaint, Vehicle Type, Taxi Company Borough, Taxi Pick Up Location, Bridge Highway Name, Bridge Highway Direction, Road Ramp, Bridge Highway Segment, Garage Lot Name, Ferry Direction, Ferry Terminal Name, Latitude, Longitude, Location]\n",
       "Index: []\n",
       "\n",
       "[0 rows x 53 columns]"
      ]
     },
     "execution_count": 25,
     "metadata": {},
     "output_type": "execute_result"
    }
   ],
   "source": [
    "df311[df311[\"Complaint Type\"].isnull()]"
   ]
  },
  {
   "cell_type": "code",
   "execution_count": 26,
   "metadata": {
    "collapsed": false
   },
   "outputs": [
    {
     "data": {
      "text/plain": [
       "array(['Homeless Encampment', 'Homeless Person Assistance',\n",
       "       'Homeless Person Assistance', ..., 'Homeless Person Assistance',\n",
       "       'Homeless Person Assistance', 'Poison Ivy'], dtype=object)"
      ]
     },
     "execution_count": 26,
     "metadata": {},
     "output_type": "execute_result"
    }
   ],
   "source": [
    "df311[df311.Descriptor.isnull()][\"Complaint Type\"].values"
   ]
  },
  {
   "cell_type": "code",
   "execution_count": 27,
   "metadata": {
    "collapsed": false
   },
   "outputs": [],
   "source": [
    "# Yes, it is possible to fill in Descriptor with Complaint Type if Descriptor is null\n",
    "df311.ix[df311.Descriptor.isnull(), \"Descriptor\"] = df311.ix[df311.Descriptor.isnull(), \"Complaint Type\"]"
   ]
  },
  {
   "cell_type": "code",
   "execution_count": 28,
   "metadata": {
    "collapsed": false
   },
   "outputs": [
    {
     "data": {
      "text/html": [
       "<div>\n",
       "<table border=\"1\" class=\"dataframe\">\n",
       "  <thead>\n",
       "    <tr style=\"text-align: right;\">\n",
       "      <th></th>\n",
       "      <th>Unique Key</th>\n",
       "      <th>Created Date</th>\n",
       "      <th>Closed Date</th>\n",
       "      <th>Agency</th>\n",
       "      <th>Agency Name</th>\n",
       "      <th>Complaint Type</th>\n",
       "      <th>Descriptor</th>\n",
       "      <th>Location Type</th>\n",
       "      <th>Incident Zip</th>\n",
       "      <th>Incident Address</th>\n",
       "      <th>...</th>\n",
       "      <th>Bridge Highway Name</th>\n",
       "      <th>Bridge Highway Direction</th>\n",
       "      <th>Road Ramp</th>\n",
       "      <th>Bridge Highway Segment</th>\n",
       "      <th>Garage Lot Name</th>\n",
       "      <th>Ferry Direction</th>\n",
       "      <th>Ferry Terminal Name</th>\n",
       "      <th>Latitude</th>\n",
       "      <th>Longitude</th>\n",
       "      <th>Location</th>\n",
       "    </tr>\n",
       "  </thead>\n",
       "  <tbody>\n",
       "  </tbody>\n",
       "</table>\n",
       "<p>0 rows × 53 columns</p>\n",
       "</div>"
      ],
      "text/plain": [
       "Empty DataFrame\n",
       "Columns: [Unique Key, Created Date, Closed Date, Agency, Agency Name, Complaint Type, Descriptor, Location Type, Incident Zip, Incident Address, Street Name, Cross Street 1, Cross Street 2, Intersection Street 1, Intersection Street 2, Address Type, City, Landmark, Facility Type, Status, Due Date, Resolution Description, Resolution Action Updated Date, Community Board, Borough, X Coordinate (State Plane), Y Coordinate (State Plane), Park Facility Name, Park Borough, School Name, School Number, School Region, School Code, School Phone Number, School Address, School City, School State, School Zip, School Not Found, School or Citywide Complaint, Vehicle Type, Taxi Company Borough, Taxi Pick Up Location, Bridge Highway Name, Bridge Highway Direction, Road Ramp, Bridge Highway Segment, Garage Lot Name, Ferry Direction, Ferry Terminal Name, Latitude, Longitude, Location]\n",
       "Index: []\n",
       "\n",
       "[0 rows x 53 columns]"
      ]
     },
     "execution_count": 28,
     "metadata": {},
     "output_type": "execute_result"
    }
   ],
   "source": [
    "df311[df311.Descriptor.isnull()]"
   ]
  },
  {
   "cell_type": "code",
   "execution_count": null,
   "metadata": {
    "collapsed": false
   },
   "outputs": [],
   "source": [
    "# Generate marker for unplausible Community Districts\n",
    "# How do these districts look like? "
   ]
  },
  {
   "cell_type": "markdown",
   "metadata": {
    "collapsed": true
   },
   "source": [
    "Already did this above. These districts either had higher than normal numbers, were 'Unspecified', or were just the names of the Boroughs."
   ]
  },
  {
   "cell_type": "code",
   "execution_count": null,
   "metadata": {
    "collapsed": true
   },
   "outputs": [],
   "source": [
    "# Drop the marked districts"
   ]
  },
  {
   "cell_type": "markdown",
   "metadata": {
    "collapsed": true
   },
   "source": [
    "Ditto."
   ]
  },
  {
   "cell_type": "code",
   "execution_count": null,
   "metadata": {
    "collapsed": true
   },
   "outputs": [],
   "source": [
    "# Produce your result: Generate an indicator which ranks the Community District by complaint numbers \n",
    "# on the Community district level"
   ]
  },
  {
   "cell_type": "code",
   "execution_count": 29,
   "metadata": {
    "collapsed": false
   },
   "outputs": [
    {
     "data": {
      "text/plain": [
       "Community Board\n",
       "01 BRONX             280\n",
       "01 BROOKLYN          791\n",
       "01 MANHATTAN         353\n",
       "01 QUEENS            687\n",
       "01 STATEN ISLAND     659\n",
       "02 BRONX             219\n",
       "02 BROOKLYN          551\n",
       "02 MANHATTAN         393\n",
       "02 QUEENS            377\n",
       "02 STATEN ISLAND     433\n",
       "03 BRONX             294\n",
       "03 BROOKLYN          865\n",
       "03 MANHATTAN         593\n",
       "03 QUEENS            552\n",
       "03 STATEN ISLAND     495\n",
       "04 BRONX             820\n",
       "04 BROOKLYN          746\n",
       "04 MANHATTAN         541\n",
       "04 QUEENS            443\n",
       "05 BRONX             588\n",
       "05 BROOKLYN          871\n",
       "05 MANHATTAN         589\n",
       "05 QUEENS            648\n",
       "06 BRONX             366\n",
       "06 BROOKLYN          464\n",
       "06 MANHATTAN         418\n",
       "06 QUEENS            289\n",
       "07 BRONX             562\n",
       "07 BROOKLYN          449\n",
       "07 MANHATTAN         542\n",
       "07 QUEENS            765\n",
       "08 BRONX             379\n",
       "08 BROOKLYN          608\n",
       "08 MANHATTAN         431\n",
       "08 QUEENS            433\n",
       "09 BRONX             606\n",
       "09 BROOKLYN          593\n",
       "09 MANHATTAN         556\n",
       "09 QUEENS            707\n",
       "10 BRONX             393\n",
       "10 BROOKLYN          474\n",
       "10 MANHATTAN         693\n",
       "10 QUEENS            719\n",
       "11 BRONX             480\n",
       "11 BROOKLYN          552\n",
       "11 MANHATTAN         434\n",
       "11 QUEENS            310\n",
       "12 BRONX             666\n",
       "12 BROOKLYN          546\n",
       "12 MANHATTAN        1162\n",
       "12 QUEENS            968\n",
       "13 BROOKLYN          261\n",
       "13 QUEENS            674\n",
       "14 BROOKLYN          555\n",
       "14 QUEENS            396\n",
       "15 BROOKLYN          535\n",
       "16 BROOKLYN          346\n",
       "17 BROOKLYN          883\n",
       "18 BROOKLYN          843\n",
       "Name: Unique Key, dtype: int64"
      ]
     },
     "execution_count": 29,
     "metadata": {},
     "output_type": "execute_result"
    }
   ],
   "source": [
    "df311.groupby('Community Board').count()[\"Unique Key\"]"
   ]
  },
  {
   "cell_type": "code",
   "execution_count": 30,
   "metadata": {
    "collapsed": false
   },
   "outputs": [],
   "source": [
    "# Safe reduced data frame (Community District level)\n",
    "dfComplaints = pd.DataFrame(index=df311.groupby('Community Board').count()[\"Unique Key\"].index)"
   ]
  },
  {
   "cell_type": "code",
   "execution_count": 31,
   "metadata": {
    "collapsed": true
   },
   "outputs": [],
   "source": [
    "dfComplaints[\"complaints\"] = df311.groupby('Community Board').count()[\"Unique Key\"]"
   ]
  },
  {
   "cell_type": "code",
   "execution_count": 32,
   "metadata": {
    "collapsed": false
   },
   "outputs": [
    {
     "data": {
      "text/html": [
       "<div>\n",
       "<table border=\"1\" class=\"dataframe\">\n",
       "  <thead>\n",
       "    <tr style=\"text-align: right;\">\n",
       "      <th></th>\n",
       "      <th>complaints</th>\n",
       "    </tr>\n",
       "    <tr>\n",
       "      <th>Community Board</th>\n",
       "      <th></th>\n",
       "    </tr>\n",
       "  </thead>\n",
       "  <tbody>\n",
       "    <tr>\n",
       "      <th>01 BRONX</th>\n",
       "      <td>280</td>\n",
       "    </tr>\n",
       "    <tr>\n",
       "      <th>01 BROOKLYN</th>\n",
       "      <td>791</td>\n",
       "    </tr>\n",
       "    <tr>\n",
       "      <th>01 MANHATTAN</th>\n",
       "      <td>353</td>\n",
       "    </tr>\n",
       "    <tr>\n",
       "      <th>01 QUEENS</th>\n",
       "      <td>687</td>\n",
       "    </tr>\n",
       "    <tr>\n",
       "      <th>01 STATEN ISLAND</th>\n",
       "      <td>659</td>\n",
       "    </tr>\n",
       "  </tbody>\n",
       "</table>\n",
       "</div>"
      ],
      "text/plain": [
       "                  complaints\n",
       "Community Board             \n",
       "01 BRONX                 280\n",
       "01 BROOKLYN              791\n",
       "01 MANHATTAN             353\n",
       "01 QUEENS                687\n",
       "01 STATEN ISLAND         659"
      ]
     },
     "execution_count": 32,
     "metadata": {},
     "output_type": "execute_result"
    }
   ],
   "source": [
    "dfComplaints.head()"
   ]
  },
  {
   "cell_type": "code",
   "execution_count": 40,
   "metadata": {
    "collapsed": true
   },
   "outputs": [],
   "source": [
    "dfComplaints.to_csv(data_path + \"/dfComplaints.csv\")"
   ]
  },
  {
   "cell_type": "markdown",
   "metadata": {},
   "source": [
    "# 4. Think about the interpretation of your results?\n",
    "What do you have to keep in mind when interpreting your results? Are they generable? Does the way the data is collected influence your results? To better inform city agancies it might be good to explore in more detail the underlying dempgraphics/infrastructure of a Community District becasue this might influence 311 calls. You can do this by merging external data on the Community District level to your analysis data. "
   ]
  },
  {
   "cell_type": "code",
   "execution_count": 34,
   "metadata": {
    "collapsed": false
   },
   "outputs": [],
   "source": [
    "# Population by Community District\n",
    "dfPop = pd.read_csv(\"http://cosmo.nyu.edu/~fb55/PUI2016/data/Final_Demographics.csv\")"
   ]
  },
  {
   "cell_type": "code",
   "execution_count": null,
   "metadata": {
    "collapsed": false
   },
   "outputs": [],
   "source": [
    "# Check variables in file"
   ]
  },
  {
   "cell_type": "code",
   "execution_count": 35,
   "metadata": {
    "collapsed": false
   },
   "outputs": [
    {
     "data": {
      "text/plain": [
       "array(['FIPS', 'cd_id', 'Total Population',\n",
       "       'Population Density (per sq. mile)', '% Total Population: Male',\n",
       "       '% Total Population: 18 to 24 Years',\n",
       "       '% Total Population: 25 to 34 Years',\n",
       "       '% Total Population: 35 to 44 Years',\n",
       "       '% Population 5 Years And Over: Speak Only English',\n",
       "       '% Population 5 Years And Over: Spanish or Spanish Creole',\n",
       "       '% Population 5 Years And Over: Spanish or Spanish Creole: Speak English \"very Well\"',\n",
       "       '% Population 5 Years And Over: Spanish or Spanish Creole: Speak English Less Than \"very Well\"',\n",
       "       'Population 25 Years and over:',\n",
       "       'Population 25 Years and over: Less Than High School',\n",
       "       'Population 25 Years and over: High School Graduate (includes equivalency)',\n",
       "       'Population 25 Years and over: Some college',\n",
       "       \"Population 25 Years and over: Bachelor's degree\",\n",
       "       \"Population 25 Years and over: Master's degree\",\n",
       "       'Population 25 Years and over: Professional school degree',\n",
       "       'Population 25 Years and over: Doctorate degree',\n",
       "       '% Population 25 Years and over: Less Than High School',\n",
       "       '% Population 25 Years and over: High School Graduate (includes equivalency)',\n",
       "       '% Population 25 Years and over: Some college',\n",
       "       \"% Population 25 Years and over: Bachelor's degree\",\n",
       "       \"% Population 25 Years and over: Master's degree\",\n",
       "       '% Population 25 Years and over: Professional school degree',\n",
       "       '% Population 25 Years and over: Doctorate degree',\n",
       "       'Population 25 Years and over:.1',\n",
       "       'Population 25 Years and over: Less Than High School.1',\n",
       "       'Population 25 Years and over: High School Graduate or more (includes equivalency)',\n",
       "       'Population 25 Years and over: Some college or more',\n",
       "       \"Population 25 Years and over: Bachelor's degree or more\",\n",
       "       \"Population 25 Years and over: Master's degree or more\",\n",
       "       'Population 25 Years and over: Professional school degree or more',\n",
       "       'Population 25 Years and over: Doctorate degree.1',\n",
       "       '% Population 25 Years and over: Less Than High School.1',\n",
       "       '% Population 25 Years and over: High School Graduate or more (includes equivalency)',\n",
       "       '% Population 25 Years and over: Some college or more',\n",
       "       \"% Population 25 Years and over: Bachelor's degree or more\",\n",
       "       \"% Population 25 Years and over: Master's degree or more\",\n",
       "       '% Population 25 Years and over: Professional school degree or more',\n",
       "       '% Population 25 Years and over: Doctorate degree.1',\n",
       "       'Population 3 Years and over:',\n",
       "       'Population 3 Years and over: Enrolled in School',\n",
       "       'Population 3 Years and over: Not Enrolled in School',\n",
       "       '% Population 3 Years and over: Enrolled in School',\n",
       "       '% Population 3 Years and over: Not Enrolled in School',\n",
       "       'Population 3 Years and over Enrolled In School',\n",
       "       'Population 3 Years and over Enrolled In School: Public School',\n",
       "       'Population 3 Years and over Enrolled In School: Public School: Pre-school',\n",
       "       'Population 3 Years and over Enrolled In School: Public School: K-8',\n",
       "       'Population 3 Years and over Enrolled In School: Public School: 9-12',\n",
       "       'Population 3 Years and over Enrolled In School: Public School: College',\n",
       "       'Population 3 Years and over Enrolled In School: Private School',\n",
       "       'Population 3 Years and over Enrolled In School: Private School: Pre-school',\n",
       "       'Population 3 Years and over Enrolled In School: Private School: K-8',\n",
       "       'Population 3 Years and over Enrolled In School: Private School: 9-12',\n",
       "       'Population 3 Years and over Enrolled In School: Private School: College',\n",
       "       '% Population 3 Years and over Enrolled In School: Public School',\n",
       "       '% Population 3 Years and over Enrolled In School: Public School: Pre-school',\n",
       "       '% Population 3 Years and over Enrolled In School: Public School: K-8',\n",
       "       '% Population 3 Years and over Enrolled In School: Public School: 9-12',\n",
       "       '% Population 3 Years and over Enrolled In School: Public School: College',\n",
       "       '% Population 3 Years and over Enrolled In School: Private School',\n",
       "       '% Population 3 Years and over Enrolled In School: Private School: Pre-school',\n",
       "       '% Population 3 Years and over Enrolled In School: Private School: K-8',\n",
       "       '% Population 3 Years and over Enrolled In School: Private School: 9-12',\n",
       "       '% Population 3 Years and over Enrolled In School: Private School: College',\n",
       "       'Employed civilian Population 16 Years and over:',\n",
       "       'Employed civilian Population 16 Years and over: Management, business, and financial operations  occupations',\n",
       "       'Employed civilian Population 16 Years and over: Professional and related occupations',\n",
       "       'Employed civilian Population 16 Years and over: Healthcare support occupations',\n",
       "       'Employed civilian Population 16 Years and over: Protective service occupations',\n",
       "       'Employed civilian Population 16 Years and over: Food preparation and serving related occupations',\n",
       "       'Employed civilian Population 16 Years and over: Building and grounds cleaning and maintenance  occupations',\n",
       "       'Employed civilian Population 16 Years and over: Personal care and service occupations',\n",
       "       'Employed civilian Population 16 Years and over: Sales and related occupations',\n",
       "       'Employed civilian Population 16 Years and over: Office and administrative support occupations',\n",
       "       'Employed civilian Population 16 Years and over: Farming, fishing, and forestry occupations',\n",
       "       'Employed civilian Population 16 Years and over: Construction, extraction, and maintenance  occupations',\n",
       "       'Employed civilian Population 16 Years and over: Production occupations',\n",
       "       'Employed civilian Population 16 Years and over: Transportation and material moving occupations',\n",
       "       '% Employed civilian Population 16 Years and over: Management, business, and financial operations  occupations',\n",
       "       '% Employed civilian Population 16 Years and over: Professional and related occupations',\n",
       "       '% Employed civilian Population 16 Years and over: Healthcare support occupations',\n",
       "       '% Employed civilian Population 16 Years and over: Protective service occupations',\n",
       "       '% Employed civilian Population 16 Years and over: Food preparation and serving related occupations',\n",
       "       '% Employed civilian Population 16 Years and over: Building and grounds cleaning and maintenance  occupations',\n",
       "       '% Employed civilian Population 16 Years and over: Personal care and service occupations',\n",
       "       '% Employed civilian Population 16 Years and over: Sales and related occupations',\n",
       "       '% Employed civilian Population 16 Years and over: Office and administrative support occupations',\n",
       "       '% Employed civilian Population 16 Years and over: Farming, fishing, and forestry occupations',\n",
       "       '% Employed civilian Population 16 Years and over: Construction, extraction, and maintenance  occupations',\n",
       "       '% Employed civilian Population 16 Years and over: Production occupations',\n",
       "       '% Employed civilian Population 16 Years and over: Transportation and material moving occupations',\n",
       "       'Employed Civilian Population 16 Years And Over:',\n",
       "       'Employed Civilian Population 16 Years And Over: Private Sector',\n",
       "       'Employed Civilian Population 16 Years And Over: Public Sector',\n",
       "       'Employed Civilian Population 16 Years And Over: Self-Employed (incorporated and not incorporated)',\n",
       "       'Employed Civilian Population 16 Years And Over: Private Non-Profit',\n",
       "       'Employed Civilian Population 16 Years And Over: Unpaid Family Workers',\n",
       "       '% Employed Civilian Population 16 Years And Over: Private Sector',\n",
       "       '% Employed Civilian Population 16 Years And Over: Public Sector',\n",
       "       '% Employed Civilian Population 16 Years And Over: Self-Employed (incorporated and not incorporated)',\n",
       "       '% Employed Civilian Population 16 Years And Over: Private Non-Profit',\n",
       "       '% Employed Civilian Population 16 Years And Over: Unpaid Family Workers',\n",
       "       'Households:', 'Households: Less than $10,000',\n",
       "       'Households: $10,000 to $14,999', 'Households: $15,000 to $19,999',\n",
       "       'Households: $20,000 to $24,999', 'Households: $25,000 to $29,999',\n",
       "       'Households: $30,000 to $34,999', 'Households: $35,000 to $39,999',\n",
       "       'Households: $40,000 to $44,999', 'Households: $45,000 to $49,999',\n",
       "       'Households: $50,000 to $59,999', 'Households: $60,000 to $74,999',\n",
       "       'Households: $75,000 to $99,999',\n",
       "       'Households: $100,000 to $124,999',\n",
       "       'Households: $125,000 to $149,999',\n",
       "       'Households: $150,000 to $199,999', 'Households: $200,000 or More',\n",
       "       '% Households: Less than $10,000',\n",
       "       '% Households: $10,000 to $14,999',\n",
       "       '% Households: $15,000 to $19,999',\n",
       "       '% Households: $20,000 to $24,999',\n",
       "       '% Households: $25,000 to $29,999',\n",
       "       '% Households: $30,000 to $34,999',\n",
       "       '% Households: $35,000 to $39,999',\n",
       "       '% Households: $40,000 to $44,999',\n",
       "       '% Households: $45,000 to $49,999',\n",
       "       '% Households: $50,000 to $59,999',\n",
       "       '% Households: $60,000 to $74,999',\n",
       "       '% Households: $75,000 to $99,999',\n",
       "       '% Households: $100,000 to $124,999',\n",
       "       '% Households: $125,000 to $149,999',\n",
       "       '% Households: $150,000 to $199,999',\n",
       "       '% Households: $200,000 or More',\n",
       "       'Median household income (In 2014 Inflation Adjusted Dollars)',\n",
       "       'Per capita income (In 2014 Inflation Adjusted Dollars)',\n",
       "       'Employed Civilian Population 16 Years And Over:.1',\n",
       "       'Employed Civilian Population 16 Years And Over: Management, professional, and related occupations',\n",
       "       'Employed Civilian Population 16 Years And Over: Service occupations',\n",
       "       'Employed Civilian Population 16 Years And Over: Sales and office occupations',\n",
       "       'Employed Civilian Population 16 Years And Over: Farming, fishing, and forestry occupations',\n",
       "       'Employed Civilian Population 16 Years And Over: Construction, extraction, and maintenance  occupations',\n",
       "       'Employed Civilian Population 16 Years And Over: Production, transportation, and material moving  occupations',\n",
       "       'Employed Civilian Population 16 Years And Over: Production, transportation, and material moving  occupations: Production occupations',\n",
       "       'Employed Civilian Population 16 Years And Over: Production, transportation, and material moving  occupations: Transportation and material moving occupations',\n",
       "       '% Employed Civilian Population 16 Years And Over: Management, professional, and related occupations',\n",
       "       '% Employed Civilian Population 16 Years And Over: Service occupations',\n",
       "       '% Employed Civilian Population 16 Years And Over: Sales and office occupations',\n",
       "       '% Employed Civilian Population 16 Years And Over: Farming, fishing, and forestry occupations',\n",
       "       '% Employed Civilian Population 16 Years And Over: Construction, extraction, and maintenance  occupations',\n",
       "       '% Employed Civilian Population 16 Years And Over: Production, transportation, and material moving  occupations',\n",
       "       '% Employed Civilian Population 16 Years And Over: Production, transportation, and material moving  occupations: Production occupations',\n",
       "       '% Employed Civilian Population 16 Years And Over: Production, transportation, and material moving  occupations: Transportation and material moving occupations'], dtype=object)"
      ]
     },
     "execution_count": 35,
     "metadata": {},
     "output_type": "execute_result"
    }
   ],
   "source": [
    "dfPop.columns.values"
   ]
  },
  {
   "cell_type": "code",
   "execution_count": null,
   "metadata": {
    "collapsed": false
   },
   "outputs": [],
   "source": [
    "# How many community districts are in file? "
   ]
  },
  {
   "cell_type": "code",
   "execution_count": 36,
   "metadata": {
    "collapsed": false
   },
   "outputs": [
    {
     "data": {
      "text/plain": [
       "59"
      ]
     },
     "execution_count": 36,
     "metadata": {},
     "output_type": "execute_result"
    }
   ],
   "source": [
    "len(dfPop.cd_id.unique())"
   ]
  },
  {
   "cell_type": "code",
   "execution_count": null,
   "metadata": {
    "collapsed": true
   },
   "outputs": [],
   "source": [
    "# Manipulate data to get some information on demographics by Community District. \n",
    "# Think about who might be more likely to call 311"
   ]
  },
  {
   "cell_type": "code",
   "execution_count": 37,
   "metadata": {
    "collapsed": false
   },
   "outputs": [],
   "source": [
    "dfPop = dfPop.loc[:, [\"Population Density (per sq. mile)\", 'Median household income (In 2014 Inflation Adjusted Dollars)',\n",
    "       'Per capita income (In 2014 Inflation Adjusted Dollars)', 'FIPS', 'cd_id']]"
   ]
  },
  {
   "cell_type": "code",
   "execution_count": 38,
   "metadata": {
    "collapsed": false
   },
   "outputs": [
    {
     "data": {
      "text/html": [
       "<div>\n",
       "<table border=\"1\" class=\"dataframe\">\n",
       "  <thead>\n",
       "    <tr style=\"text-align: right;\">\n",
       "      <th></th>\n",
       "      <th>Population Density (per sq. mile)</th>\n",
       "      <th>Median household income (In 2014 Inflation Adjusted Dollars)</th>\n",
       "      <th>Per capita income (In 2014 Inflation Adjusted Dollars)</th>\n",
       "      <th>FIPS</th>\n",
       "      <th>cd_id</th>\n",
       "    </tr>\n",
       "  </thead>\n",
       "  <tbody>\n",
       "    <tr>\n",
       "      <th>0</th>\n",
       "      <td>31229.95006</td>\n",
       "      <td>54224</td>\n",
       "      <td>30730</td>\n",
       "      <td>3603701</td>\n",
       "      <td>BX08</td>\n",
       "    </tr>\n",
       "    <tr>\n",
       "      <th>1</th>\n",
       "      <td>19966.67839</td>\n",
       "      <td>44906</td>\n",
       "      <td>21523</td>\n",
       "      <td>3603702</td>\n",
       "      <td>BX12</td>\n",
       "    </tr>\n",
       "    <tr>\n",
       "      <th>2</th>\n",
       "      <td>12913.81703</td>\n",
       "      <td>54962</td>\n",
       "      <td>28586</td>\n",
       "      <td>3603703</td>\n",
       "      <td>BX10</td>\n",
       "    </tr>\n",
       "    <tr>\n",
       "      <th>3</th>\n",
       "      <td>35677.95453</td>\n",
       "      <td>47910</td>\n",
       "      <td>22714</td>\n",
       "      <td>3603704</td>\n",
       "      <td>BX11</td>\n",
       "    </tr>\n",
       "    <tr>\n",
       "      <th>4</th>\n",
       "      <td>39405.79222</td>\n",
       "      <td>22041</td>\n",
       "      <td>12662</td>\n",
       "      <td>3603705</td>\n",
       "      <td>BX03</td>\n",
       "    </tr>\n",
       "  </tbody>\n",
       "</table>\n",
       "</div>"
      ],
      "text/plain": [
       "   Population Density (per sq. mile)  \\\n",
       "0                        31229.95006   \n",
       "1                        19966.67839   \n",
       "2                        12913.81703   \n",
       "3                        35677.95453   \n",
       "4                        39405.79222   \n",
       "\n",
       "   Median household income (In 2014 Inflation Adjusted Dollars)  \\\n",
       "0                                              54224              \n",
       "1                                              44906              \n",
       "2                                              54962              \n",
       "3                                              47910              \n",
       "4                                              22041              \n",
       "\n",
       "   Per capita income (In 2014 Inflation Adjusted Dollars)     FIPS cd_id  \n",
       "0                                              30730       3603701  BX08  \n",
       "1                                              21523       3603702  BX12  \n",
       "2                                              28586       3603703  BX10  \n",
       "3                                              22714       3603704  BX11  \n",
       "4                                              12662       3603705  BX03  "
      ]
     },
     "execution_count": 38,
     "metadata": {},
     "output_type": "execute_result"
    }
   ],
   "source": [
    "dfPop.head()"
   ]
  },
  {
   "cell_type": "code",
   "execution_count": 41,
   "metadata": {
    "collapsed": true
   },
   "outputs": [],
   "source": [
    "# Save data frame\n",
    "dfPop.to_csv(data_path + \"/dfPop.csv\")"
   ]
  },
  {
   "cell_type": "markdown",
   "metadata": {},
   "source": [
    "## Infrastructure"
   ]
  },
  {
   "cell_type": "code",
   "execution_count": 42,
   "metadata": {
    "collapsed": false
   },
   "outputs": [],
   "source": [
    "# Infrastructure by Community District\n",
    "dfInfr = pd.read_csv(\"http://cosmo.nyu.edu/~fb55/PUI2016/data/ACS_Computer_Use_and_Internet_2014_1Year_Estimate.csv\")"
   ]
  },
  {
   "cell_type": "code",
   "execution_count": 43,
   "metadata": {
    "collapsed": false
   },
   "outputs": [
    {
     "data": {
      "text/html": [
       "<div>\n",
       "<table border=\"1\" class=\"dataframe\">\n",
       "  <thead>\n",
       "    <tr style=\"text-align: right;\">\n",
       "      <th></th>\n",
       "      <th>FIPS</th>\n",
       "      <th>Geographic Identifier</th>\n",
       "      <th>Qualifying Name</th>\n",
       "      <th>Households</th>\n",
       "      <th>Households: With An Internet Subscription</th>\n",
       "      <th>Households: Dial-Up Alone</th>\n",
       "      <th>Households: Dsl</th>\n",
       "      <th>Households: With Mobile Broadband</th>\n",
       "      <th>Households: Without Mobile Broadband</th>\n",
       "      <th>Households: Cable Modem</th>\n",
       "      <th>...</th>\n",
       "      <th>Households: Mobile Broadband Alone or With Dialup</th>\n",
       "      <th>Households: Internet Access Without A Subscription</th>\n",
       "      <th>Households: No Internet Access</th>\n",
       "      <th>% Households: With An Internet Subscription</th>\n",
       "      <th>Households.1</th>\n",
       "      <th>Households: Has A Computer</th>\n",
       "      <th>Households: With Dial-Up Internet Subscription Alone</th>\n",
       "      <th>Households: With A Broadband Internet Subscription</th>\n",
       "      <th>Households: Without An Internet Subscription</th>\n",
       "      <th>Households: No Computer</th>\n",
       "    </tr>\n",
       "  </thead>\n",
       "  <tbody>\n",
       "    <tr>\n",
       "      <th>0</th>\n",
       "      <td>3603701</td>\n",
       "      <td>79500US3603701</td>\n",
       "      <td>NYC-Bronx Community District 8--Riverdale, New...</td>\n",
       "      <td>42035</td>\n",
       "      <td>31795</td>\n",
       "      <td>444</td>\n",
       "      <td>2813</td>\n",
       "      <td>946</td>\n",
       "      <td>1867</td>\n",
       "      <td>19178</td>\n",
       "      <td>...</td>\n",
       "      <td>2168</td>\n",
       "      <td>2119</td>\n",
       "      <td>8121</td>\n",
       "      <td>75.64</td>\n",
       "      <td>42035</td>\n",
       "      <td>35048</td>\n",
       "      <td>404</td>\n",
       "      <td>30943</td>\n",
       "      <td>3701</td>\n",
       "      <td>6987</td>\n",
       "    </tr>\n",
       "    <tr>\n",
       "      <th>1</th>\n",
       "      <td>3603702</td>\n",
       "      <td>79500US3603702</td>\n",
       "      <td>NYC-Bronx Community District 12--Wakefield, Ne...</td>\n",
       "      <td>44830</td>\n",
       "      <td>32243</td>\n",
       "      <td>178</td>\n",
       "      <td>849</td>\n",
       "      <td>405</td>\n",
       "      <td>444</td>\n",
       "      <td>18653</td>\n",
       "      <td>...</td>\n",
       "      <td>928</td>\n",
       "      <td>1891</td>\n",
       "      <td>10696</td>\n",
       "      <td>71.92</td>\n",
       "      <td>44830</td>\n",
       "      <td>36700</td>\n",
       "      <td>178</td>\n",
       "      <td>31435</td>\n",
       "      <td>5087</td>\n",
       "      <td>8130</td>\n",
       "    </tr>\n",
       "    <tr>\n",
       "      <th>2</th>\n",
       "      <td>3603703</td>\n",
       "      <td>79500US3603703</td>\n",
       "      <td>NYC-Bronx Community District 10--Co-op City, N...</td>\n",
       "      <td>47050</td>\n",
       "      <td>32729</td>\n",
       "      <td>158</td>\n",
       "      <td>1863</td>\n",
       "      <td>398</td>\n",
       "      <td>1465</td>\n",
       "      <td>20044</td>\n",
       "      <td>...</td>\n",
       "      <td>639</td>\n",
       "      <td>2882</td>\n",
       "      <td>11439</td>\n",
       "      <td>69.56</td>\n",
       "      <td>47050</td>\n",
       "      <td>38700</td>\n",
       "      <td>158</td>\n",
       "      <td>32333</td>\n",
       "      <td>6209</td>\n",
       "      <td>8350</td>\n",
       "    </tr>\n",
       "    <tr>\n",
       "      <th>3</th>\n",
       "      <td>3603704</td>\n",
       "      <td>79500US3603704</td>\n",
       "      <td>NYC-Bronx Community District 11--Pelham Parkwa...</td>\n",
       "      <td>44922</td>\n",
       "      <td>32003</td>\n",
       "      <td>141</td>\n",
       "      <td>1478</td>\n",
       "      <td>474</td>\n",
       "      <td>1004</td>\n",
       "      <td>17917</td>\n",
       "      <td>...</td>\n",
       "      <td>1001</td>\n",
       "      <td>2722</td>\n",
       "      <td>10197</td>\n",
       "      <td>71.24</td>\n",
       "      <td>44922</td>\n",
       "      <td>37237</td>\n",
       "      <td>122</td>\n",
       "      <td>31278</td>\n",
       "      <td>5837</td>\n",
       "      <td>7685</td>\n",
       "    </tr>\n",
       "    <tr>\n",
       "      <th>4</th>\n",
       "      <td>3603705</td>\n",
       "      <td>79500US3603705</td>\n",
       "      <td>NYC-Bronx Community District 3 &amp; 6--Belmont, N...</td>\n",
       "      <td>57556</td>\n",
       "      <td>35503</td>\n",
       "      <td>88</td>\n",
       "      <td>1297</td>\n",
       "      <td>651</td>\n",
       "      <td>646</td>\n",
       "      <td>15847</td>\n",
       "      <td>...</td>\n",
       "      <td>1385</td>\n",
       "      <td>3312</td>\n",
       "      <td>18741</td>\n",
       "      <td>61.68</td>\n",
       "      <td>57556</td>\n",
       "      <td>42576</td>\n",
       "      <td>88</td>\n",
       "      <td>33408</td>\n",
       "      <td>9080</td>\n",
       "      <td>14980</td>\n",
       "    </tr>\n",
       "  </tbody>\n",
       "</table>\n",
       "<p>5 rows × 31 columns</p>\n",
       "</div>"
      ],
      "text/plain": [
       "      FIPS Geographic Identifier  \\\n",
       "0  3603701        79500US3603701   \n",
       "1  3603702        79500US3603702   \n",
       "2  3603703        79500US3603703   \n",
       "3  3603704        79500US3603704   \n",
       "4  3603705        79500US3603705   \n",
       "\n",
       "                                     Qualifying Name  Households  \\\n",
       "0  NYC-Bronx Community District 8--Riverdale, New...       42035   \n",
       "1  NYC-Bronx Community District 12--Wakefield, Ne...       44830   \n",
       "2  NYC-Bronx Community District 10--Co-op City, N...       47050   \n",
       "3  NYC-Bronx Community District 11--Pelham Parkwa...       44922   \n",
       "4  NYC-Bronx Community District 3 & 6--Belmont, N...       57556   \n",
       "\n",
       "   Households: With An Internet Subscription  Households: Dial-Up Alone  \\\n",
       "0                                      31795                        444   \n",
       "1                                      32243                        178   \n",
       "2                                      32729                        158   \n",
       "3                                      32003                        141   \n",
       "4                                      35503                         88   \n",
       "\n",
       "   Households: Dsl  Households: With Mobile Broadband  \\\n",
       "0             2813                                946   \n",
       "1              849                                405   \n",
       "2             1863                                398   \n",
       "3             1478                                474   \n",
       "4             1297                                651   \n",
       "\n",
       "   Households: Without Mobile Broadband  Households: Cable Modem  \\\n",
       "0                                  1867                    19178   \n",
       "1                                   444                    18653   \n",
       "2                                  1465                    20044   \n",
       "3                                  1004                    17917   \n",
       "4                                   646                    15847   \n",
       "\n",
       "            ...             Households: Mobile Broadband Alone or With Dialup  \\\n",
       "0           ...                                                          2168   \n",
       "1           ...                                                           928   \n",
       "2           ...                                                           639   \n",
       "3           ...                                                          1001   \n",
       "4           ...                                                          1385   \n",
       "\n",
       "   Households: Internet Access Without A Subscription  \\\n",
       "0                                               2119    \n",
       "1                                               1891    \n",
       "2                                               2882    \n",
       "3                                               2722    \n",
       "4                                               3312    \n",
       "\n",
       "   Households: No Internet Access  \\\n",
       "0                            8121   \n",
       "1                           10696   \n",
       "2                           11439   \n",
       "3                           10197   \n",
       "4                           18741   \n",
       "\n",
       "   % Households: With An Internet Subscription  Households.1  \\\n",
       "0                                        75.64         42035   \n",
       "1                                        71.92         44830   \n",
       "2                                        69.56         47050   \n",
       "3                                        71.24         44922   \n",
       "4                                        61.68         57556   \n",
       "\n",
       "   Households: Has A Computer  \\\n",
       "0                       35048   \n",
       "1                       36700   \n",
       "2                       38700   \n",
       "3                       37237   \n",
       "4                       42576   \n",
       "\n",
       "   Households: With Dial-Up Internet Subscription Alone  \\\n",
       "0                                                404      \n",
       "1                                                178      \n",
       "2                                                158      \n",
       "3                                                122      \n",
       "4                                                 88      \n",
       "\n",
       "   Households: With A Broadband Internet Subscription  \\\n",
       "0                                              30943    \n",
       "1                                              31435    \n",
       "2                                              32333    \n",
       "3                                              31278    \n",
       "4                                              33408    \n",
       "\n",
       "   Households: Without An Internet Subscription  Households: No Computer  \n",
       "0                                          3701                     6987  \n",
       "1                                          5087                     8130  \n",
       "2                                          6209                     8350  \n",
       "3                                          5837                     7685  \n",
       "4                                          9080                    14980  \n",
       "\n",
       "[5 rows x 31 columns]"
      ]
     },
     "execution_count": 43,
     "metadata": {},
     "output_type": "execute_result"
    }
   ],
   "source": [
    "dfInfr.head()"
   ]
  },
  {
   "cell_type": "code",
   "execution_count": 44,
   "metadata": {
    "collapsed": false
   },
   "outputs": [
    {
     "data": {
      "text/plain": [
       "array(['FIPS', 'Geographic Identifier', 'Qualifying Name', 'Households',\n",
       "       'Households: With An Internet Subscription',\n",
       "       'Households: Dial-Up Alone', 'Households: Dsl',\n",
       "       'Households: With Mobile Broadband',\n",
       "       'Households: Without Mobile Broadband', 'Households: Cable Modem',\n",
       "       'Households: With Mobile Broadband.1',\n",
       "       'Households: Without Mobile Broadband.1', 'Households: Fiber-Optic',\n",
       "       'Households: With Mobile Broadband.2',\n",
       "       'Households: Without Mobile Broadband.2',\n",
       "       'Households: Satellite Internet Service',\n",
       "       'Households: With Mobile Broadband.3',\n",
       "       'Households: Without Mobile Broadband.3',\n",
       "       'Households: Two or More Fixed Broadband Types, or Other',\n",
       "       'Households: With Mobile Broadband.4',\n",
       "       'Households: Without Mobile Broadband.4',\n",
       "       'Households: Mobile Broadband Alone or With Dialup',\n",
       "       'Households: Internet Access Without A Subscription',\n",
       "       'Households: No Internet Access',\n",
       "       '% Households: With An Internet Subscription', 'Households.1',\n",
       "       'Households: Has A Computer',\n",
       "       'Households: With Dial-Up Internet Subscription Alone',\n",
       "       'Households: With A Broadband Internet Subscription',\n",
       "       'Households: Without An Internet Subscription',\n",
       "       'Households: No Computer'], dtype=object)"
      ]
     },
     "execution_count": 44,
     "metadata": {},
     "output_type": "execute_result"
    }
   ],
   "source": [
    "# Check variables in file\n",
    "dfInfr.columns.values"
   ]
  },
  {
   "cell_type": "code",
   "execution_count": 45,
   "metadata": {
    "collapsed": false
   },
   "outputs": [
    {
     "data": {
      "text/plain": [
       "array(['NYC-Bronx Community District 8--Riverdale, New York',\n",
       "       'NYC-Bronx Community District 12--Wakefield, New York',\n",
       "       'NYC-Bronx Community District 10--Co-op City, New York',\n",
       "       'NYC-Bronx Community District 11--Pelham Parkway, New York',\n",
       "       'NYC-Bronx Community District 3 & 6--Belmont, New York',\n",
       "       'NYC-Bronx Community District 7--Bedford Park, New York',\n",
       "       'NYC-Bronx Community District 5--Morris Heights, New York',\n",
       "       'NYC-Bronx Community District 4--Concourse, New York',\n",
       "       'NYC-Bronx Community District 9--Castle Hill, New York',\n",
       "       'NYC-Bronx Community District 1 & 2--Hunts Point, New York',\n",
       "       'NYC-Manhattan Community District 12--Washington Heights, New York',\n",
       "       'NYC-Manhattan Community District 9--Hamilton Heights, New York',\n",
       "       'NYC-Manhattan Community District 10--Central Harlem PUMA, New York',\n",
       "       'NYC-Manhattan Community District 11--East Harlem PUMA, New York',\n",
       "       'NYC-Manhattan Community District 8--Upper East Side PUMA, New York',\n",
       "       'NYC-Manhattan Community District 7--Upper West Side & West Side PUMA, New York',\n",
       "       'NYC-Manhattan Community District 4 & 5--Chelsea, New York',\n",
       "       'NYC-Manhattan Community District 6--Murray Hill, New York',\n",
       "       'NYC-Manhattan Community District 3--Chinatown & Lower East Side PUMA, New York',\n",
       "       'NYC-Manhattan Community District 1 & 2--Battery Park City, New York',\n",
       "       'NYC-Staten Island Community District 3--Tottenville, New York',\n",
       "       'NYC-Staten Island Community District 2--New Springville & South Beach PUMA, New York',\n",
       "       'NYC-Staten Island Community District 1--Port Richmond, New York',\n",
       "       'NYC-Brooklyn Community District 1--Greenpoint & Williamsburg PUMA, New York',\n",
       "       'NYC-Brooklyn Community District 4--Bushwick PUMA, New York',\n",
       "       'NYC-Brooklyn Community District 3--Bedford-Stuyvesant PUMA, New York',\n",
       "       'NYC-Brooklyn Community District 2--Brooklyn Heights & Fort Greene PUMA, New York',\n",
       "       'NYC-Brooklyn Community District 6--Park Slope, New York',\n",
       "       'NYC-Brooklyn Community District 8--Crown Heights North & Prospect Heights PUMA, New York',\n",
       "       'NYC-Brooklyn Community District 16--Brownsville & Ocean Hill PUMA, New York',\n",
       "       'NYC-Brooklyn Community District 5--East New York & Starrett City PUMA, New York',\n",
       "       'NYC-Brooklyn Community District 18--Canarsie & Flatlands PUMA, New York',\n",
       "       'NYC-Brooklyn Community District 17--East Flatbush, New York',\n",
       "       'NYC-Brooklyn Community District 9--Crown Heights South, New York',\n",
       "       'NYC-Brooklyn Community District 7--Sunset Park & Windsor Terrace PUMA, New York',\n",
       "       'NYC-Brooklyn Community District 10--Bay Ridge & Dyker Heights PUMA, New York',\n",
       "       'NYC-Brooklyn Community District 12--Borough Park, New York',\n",
       "       'NYC-Brooklyn Community District 14--Flatbush & Midwood PUMA, New York',\n",
       "       'NYC-Brooklyn Community District 15--Sheepshead Bay, New York',\n",
       "       'NYC-Brooklyn Community District 11--Bensonhurst & Bath Beach PUMA, New York',\n",
       "       'NYC-Brooklyn Community District 13--Brighton Beach & Coney Island PUMA, New York',\n",
       "       'NYC-Queens Community District 1--Astoria & Long Island City PUMA, New York',\n",
       "       'NYC-Queens Community District 3--Jackson Heights & North Corona PUMA, New York',\n",
       "       'NYC-Queens Community District 7--Flushing, New York',\n",
       "       'NYC-Queens Community District 11--Bayside, New York',\n",
       "       'NYC-Queens Community District 13--Queens Village, New York',\n",
       "       'NYC-Queens Community District 8--Briarwood, New York',\n",
       "       'NYC-Queens Community District 4--Elmhurst & South Corona PUMA, New York',\n",
       "       'NYC-Queens Community District 6--Forest Hills & Rego Park PUMA, New York',\n",
       "       'NYC-Queens Community District 2--Sunnyside & Woodside PUMA, New York',\n",
       "       'NYC-Queens Community District 5--Ridgewood, New York',\n",
       "       'NYC-Queens Community District 9--Richmond Hill & Woodhaven PUMA, New York',\n",
       "       'NYC-Queens Community District 12--Jamaica, New York',\n",
       "       'NYC-Queens Community District 10--Howard Beach & Ozone Park PUMA, New York',\n",
       "       'NYC-Queens Community District 14--Far Rockaway, New York'], dtype=object)"
      ]
     },
     "execution_count": 45,
     "metadata": {},
     "output_type": "execute_result"
    }
   ],
   "source": [
    "dfInfr[\"Qualifying Name\"].unique()"
   ]
  },
  {
   "cell_type": "code",
   "execution_count": 46,
   "metadata": {
    "collapsed": false
   },
   "outputs": [
    {
     "data": {
      "text/plain": [
       "55"
      ]
     },
     "execution_count": 46,
     "metadata": {},
     "output_type": "execute_result"
    }
   ],
   "source": [
    "# How many community districts are in file? \n",
    "len(dfInfr[\"Qualifying Name\"].unique())"
   ]
  },
  {
   "cell_type": "markdown",
   "metadata": {},
   "source": [
    "All of them, but 3 of them are doubled up, meaning we'll have to find a way to split them."
   ]
  },
  {
   "cell_type": "code",
   "execution_count": 170,
   "metadata": {
    "collapsed": true
   },
   "outputs": [],
   "source": [
    "# Manipulate data to get some information on internet/broadband useage by Community District\n",
    "# Aggregate the mobile subscription data"
   ]
  },
  {
   "cell_type": "code",
   "execution_count": 47,
   "metadata": {
    "collapsed": false
   },
   "outputs": [
    {
     "data": {
      "text/plain": [
       "array(['FIPS', 'Geographic Identifier', 'Qualifying Name', 'Households',\n",
       "       'Households: With An Internet Subscription',\n",
       "       'Households: Dial-Up Alone', 'Households: Dsl',\n",
       "       'Households: With Mobile Broadband',\n",
       "       'Households: Without Mobile Broadband', 'Households: Cable Modem',\n",
       "       'Households: With Mobile Broadband.1',\n",
       "       'Households: Without Mobile Broadband.1', 'Households: Fiber-Optic',\n",
       "       'Households: With Mobile Broadband.2',\n",
       "       'Households: Without Mobile Broadband.2',\n",
       "       'Households: Satellite Internet Service',\n",
       "       'Households: With Mobile Broadband.3',\n",
       "       'Households: Without Mobile Broadband.3',\n",
       "       'Households: Two or More Fixed Broadband Types, or Other',\n",
       "       'Households: With Mobile Broadband.4',\n",
       "       'Households: Without Mobile Broadband.4',\n",
       "       'Households: Mobile Broadband Alone or With Dialup',\n",
       "       'Households: Internet Access Without A Subscription',\n",
       "       'Households: No Internet Access',\n",
       "       '% Households: With An Internet Subscription', 'Households.1',\n",
       "       'Households: Has A Computer',\n",
       "       'Households: With Dial-Up Internet Subscription Alone',\n",
       "       'Households: With A Broadband Internet Subscription',\n",
       "       'Households: Without An Internet Subscription',\n",
       "       'Households: No Computer'], dtype=object)"
      ]
     },
     "execution_count": 47,
     "metadata": {},
     "output_type": "execute_result"
    }
   ],
   "source": [
    "dfInfr.columns.values"
   ]
  },
  {
   "cell_type": "code",
   "execution_count": 48,
   "metadata": {
    "collapsed": false
   },
   "outputs": [],
   "source": [
    "dfInfr[\"mobile_broadband\"] = dfInfr['Households: With Mobile Broadband'] + dfInfr['Households: With Mobile Broadband.1'] + dfInfr['Households: With Mobile Broadband.2'] + dfInfr['Households: With Mobile Broadband.3'] + dfInfr['Households: With Mobile Broadband.4']"
   ]
  },
  {
   "cell_type": "code",
   "execution_count": null,
   "metadata": {
    "collapsed": true
   },
   "outputs": [],
   "source": [
    "# Aggregate internet type by high and low connections"
   ]
  },
  {
   "cell_type": "markdown",
   "metadata": {},
   "source": [
    "It appears this aggregation is already done for us in the `Households: With Dial-Up Internet Subscription Alone` and\n",
    "`Households: With A Broadband Internet Subscription` columns."
   ]
  },
  {
   "cell_type": "code",
   "execution_count": null,
   "metadata": {
    "collapsed": true
   },
   "outputs": [],
   "source": [
    "# Save data frame "
   ]
  },
  {
   "cell_type": "code",
   "execution_count": 49,
   "metadata": {
    "collapsed": false
   },
   "outputs": [],
   "source": [
    "dfInfr = dfInfr.loc[:, [\"Qualifying Name\", 'Households', 'Households: With An Internet Subscription',\n",
    "               '% Households: With An Internet Subscription', 'mobile_broadband', \n",
    "               'Households: With Dial-Up Internet Subscription Alone',\n",
    "               'Households: With A Broadband Internet Subscription',\n",
    "               'Households: Without An Internet Subscription']]"
   ]
  },
  {
   "cell_type": "markdown",
   "metadata": {},
   "source": [
    "# 5. Inform your results by linking datasets\n",
    "Now you want to link the three data frames to produce summary statistics for Community Districts which show a high number of complaints vs. Community Districts which show a lower number of complaints. Please keep in mind that the identifiers used for the linkage (Community Dostrict IDs) should be recored the same way. Use regular expressions to harmonize the identifiers if possible. The identifiers should look like BK01, BK02, etc.\n",
    "https://docs.python.org/2/library/re.html"
   ]
  },
  {
   "cell_type": "code",
   "execution_count": null,
   "metadata": {
    "collapsed": false
   },
   "outputs": [],
   "source": [
    "# Harmonize identifier of dataframe 1"
   ]
  },
  {
   "cell_type": "code",
   "execution_count": 51,
   "metadata": {
    "collapsed": false
   },
   "outputs": [
    {
     "data": {
      "text/html": [
       "<div>\n",
       "<table border=\"1\" class=\"dataframe\">\n",
       "  <thead>\n",
       "    <tr style=\"text-align: right;\">\n",
       "      <th></th>\n",
       "      <th>complaints</th>\n",
       "    </tr>\n",
       "    <tr>\n",
       "      <th>Community Board</th>\n",
       "      <th></th>\n",
       "    </tr>\n",
       "  </thead>\n",
       "  <tbody>\n",
       "    <tr>\n",
       "      <th>01 BRONX</th>\n",
       "      <td>280</td>\n",
       "    </tr>\n",
       "    <tr>\n",
       "      <th>01 BROOKLYN</th>\n",
       "      <td>791</td>\n",
       "    </tr>\n",
       "    <tr>\n",
       "      <th>01 MANHATTAN</th>\n",
       "      <td>353</td>\n",
       "    </tr>\n",
       "    <tr>\n",
       "      <th>01 QUEENS</th>\n",
       "      <td>687</td>\n",
       "    </tr>\n",
       "    <tr>\n",
       "      <th>01 STATEN ISLAND</th>\n",
       "      <td>659</td>\n",
       "    </tr>\n",
       "  </tbody>\n",
       "</table>\n",
       "</div>"
      ],
      "text/plain": [
       "                  complaints\n",
       "Community Board             \n",
       "01 BRONX                 280\n",
       "01 BROOKLYN              791\n",
       "01 MANHATTAN             353\n",
       "01 QUEENS                687\n",
       "01 STATEN ISLAND         659"
      ]
     },
     "execution_count": 51,
     "metadata": {},
     "output_type": "execute_result"
    }
   ],
   "source": [
    "dfComplaints.head()"
   ]
  },
  {
   "cell_type": "code",
   "execution_count": 50,
   "metadata": {
    "collapsed": true
   },
   "outputs": [],
   "source": [
    "# Map borough names to their abbreviations\n",
    "boroughMap = {\n",
    "    \"BRONX\": \"BX\",\n",
    "    \"BROOKLYN\": \"BK\",\n",
    "    \"QUEENS\": \"QN\",\n",
    "    \"MANHATTAN\": \"MN\",\n",
    "    \"STATEN ISLAND\": \"SI\"\n",
    "}"
   ]
  },
  {
   "cell_type": "code",
   "execution_count": 53,
   "metadata": {
    "collapsed": false
   },
   "outputs": [],
   "source": [
    "# Create new DF with borough name and id number split\n",
    "boards = dfComplaints.index.to_series().str.extract('(^\\d+)\\s([\\w ]+)', expand=False)"
   ]
  },
  {
   "cell_type": "code",
   "execution_count": 54,
   "metadata": {
    "collapsed": false
   },
   "outputs": [],
   "source": [
    "# Rename boroughs to their abbreviations using the above map\n",
    "boards.replace({1: boroughMap}, inplace=True)"
   ]
  },
  {
   "cell_type": "code",
   "execution_count": 55,
   "metadata": {
    "collapsed": false
   },
   "outputs": [],
   "source": [
    "# Combine the number and abbreviation to create cd_id\n",
    "boards[\"cd_id\"] = boards[1] + boards[0]"
   ]
  },
  {
   "cell_type": "code",
   "execution_count": 56,
   "metadata": {
    "collapsed": false
   },
   "outputs": [],
   "source": [
    "# Add cd_id to original complaints dataframe\n",
    "dfComplaints[\"cd_id\"] = boards[\"cd_id\"]"
   ]
  },
  {
   "cell_type": "code",
   "execution_count": 57,
   "metadata": {
    "collapsed": false
   },
   "outputs": [
    {
     "data": {
      "text/plain": [
       "array(['BK01', 'BK02', 'BK03', 'BK04', 'BK05', 'BK06', 'BK07', 'BK08',\n",
       "       'BK09', 'BK10', 'BK11', 'BK12', 'BK13', 'BK14', 'BK15', 'BK16',\n",
       "       'BK17', 'BK18', 'BX01', 'BX02', 'BX03', 'BX04', 'BX05', 'BX06',\n",
       "       'BX07', 'BX08', 'BX09', 'BX10', 'BX11', 'BX12', 'MN01', 'MN02',\n",
       "       'MN03', 'MN04', 'MN05', 'MN06', 'MN07', 'MN08', 'MN09', 'MN10',\n",
       "       'MN11', 'MN12', 'QN01', 'QN02', 'QN03', 'QN04', 'QN05', 'QN06',\n",
       "       'QN07', 'QN08', 'QN09', 'QN10', 'QN11', 'QN12', 'QN13', 'QN14',\n",
       "       'SI01', 'SI02', 'SI03'], dtype=object)"
      ]
     },
     "execution_count": 57,
     "metadata": {},
     "output_type": "execute_result"
    }
   ],
   "source": [
    "np.sort(dfComplaints.cd_id.unique())"
   ]
  },
  {
   "cell_type": "code",
   "execution_count": 58,
   "metadata": {
    "collapsed": false
   },
   "outputs": [],
   "source": [
    "# Harmonize identifier of dataframe 2"
   ]
  },
  {
   "cell_type": "code",
   "execution_count": 59,
   "metadata": {
    "collapsed": false
   },
   "outputs": [],
   "source": [
    "# Error in Manhattan cd_id\n",
    "dfPop.cd_id.replace(\"MN11111\", \"MN11\", inplace=True)"
   ]
  },
  {
   "cell_type": "code",
   "execution_count": 60,
   "metadata": {
    "collapsed": false
   },
   "outputs": [
    {
     "data": {
      "text/plain": [
       "array(['BK01', 'BK02', 'BK03', 'BK04', 'BK05', 'BK06', 'BK07', 'BK08',\n",
       "       'BK09', 'BK10', 'BK11', 'BK12', 'BK13', 'BK14', 'BK15', 'BK16',\n",
       "       'BK17', 'BK18', 'BX01', 'BX02', 'BX03', 'BX04', 'BX05', 'BX06',\n",
       "       'BX07', 'BX08', 'BX09', 'BX10', 'BX11', 'BX12', 'MN01', 'MN02',\n",
       "       'MN03', 'MN04', 'MN05', 'MN06', 'MN07', 'MN08', 'MN09', 'MN10',\n",
       "       'MN11', 'MN12', 'QN01', 'QN02', 'QN03', 'QN04', 'QN05', 'QN06',\n",
       "       'QN07', 'QN08', 'QN09', 'QN10', 'QN11', 'QN12', 'QN13', 'QN14',\n",
       "       'SI01', 'SI02', 'SI03'], dtype=object)"
      ]
     },
     "execution_count": 60,
     "metadata": {},
     "output_type": "execute_result"
    }
   ],
   "source": [
    "np.sort(dfPop.cd_id.unique())"
   ]
  },
  {
   "cell_type": "code",
   "execution_count": 61,
   "metadata": {
    "collapsed": true
   },
   "outputs": [],
   "source": [
    "# Harmonize identifier of dataframe 3"
   ]
  },
  {
   "cell_type": "code",
   "execution_count": 62,
   "metadata": {
    "collapsed": false
   },
   "outputs": [],
   "source": [
    "# A few boards are combined in the internet usage stats. A blunt way to do this is divide all numbers by 2.\n",
    "dfInfr.ix[dfInfr.duplicated(keep=False), 1:] = dfInfr.ix[dfInfr.duplicated(keep=False), 1:] / 2"
   ]
  },
  {
   "cell_type": "code",
   "execution_count": 63,
   "metadata": {
    "collapsed": false
   },
   "outputs": [],
   "source": [
    "# Regex FTW. I love this stuff.\n",
    "duplicateMap = dfInfr[\"Qualifying Name\"].str.extract('(Bronx|Manhattan|Queens|Brooklyn|Staten Island)[A-Za-z\\s]+(\\d+)(?: & )*(\\d+)*', expand=True)"
   ]
  },
  {
   "cell_type": "code",
   "execution_count": 64,
   "metadata": {
    "collapsed": false
   },
   "outputs": [],
   "source": [
    "# Split duplicates \n",
    "duplicateMap.ix[duplicateMap.duplicated(), 1] = duplicateMap.ix[duplicateMap.duplicated(), 2]"
   ]
  },
  {
   "cell_type": "code",
   "execution_count": 65,
   "metadata": {
    "collapsed": true
   },
   "outputs": [],
   "source": [
    "# Pad district ids with zero if need be\n",
    "duplicateMap[1] = duplicateMap[1].str.zfill(2)"
   ]
  },
  {
   "cell_type": "code",
   "execution_count": 66,
   "metadata": {
    "collapsed": true
   },
   "outputs": [],
   "source": [
    "borMap = {\n",
    "    \"Bronx\": \"BX\",\n",
    "    \"Brooklyn\": \"BK\",\n",
    "    \"Queens\": \"QN\",\n",
    "    \"Manhattan\": \"MN\",\n",
    "    \"Staten Island\": \"SI\"\n",
    "}"
   ]
  },
  {
   "cell_type": "code",
   "execution_count": 67,
   "metadata": {
    "collapsed": false
   },
   "outputs": [],
   "source": [
    "# Map of borough names into abbreviations\n",
    "duplicateMap.replace({0: borMap}, inplace=True)"
   ]
  },
  {
   "cell_type": "code",
   "execution_count": 68,
   "metadata": {
    "collapsed": true
   },
   "outputs": [],
   "source": [
    "# Define cd_id on real dataframe\n",
    "dfInfr[\"cd_id\"] = duplicateMap[0] + duplicateMap[1]"
   ]
  },
  {
   "cell_type": "code",
   "execution_count": 69,
   "metadata": {
    "collapsed": false
   },
   "outputs": [
    {
     "data": {
      "text/plain": [
       "array(['BK01', 'BK02', 'BK03', 'BK04', 'BK05', 'BK06', 'BK07', 'BK08',\n",
       "       'BK09', 'BK10', 'BK11', 'BK12', 'BK13', 'BK14', 'BK15', 'BK16',\n",
       "       'BK17', 'BK18', 'BX01', 'BX02', 'BX03', 'BX04', 'BX05', 'BX06',\n",
       "       'BX07', 'BX08', 'BX09', 'BX10', 'BX11', 'BX12', 'MN01', 'MN02',\n",
       "       'MN03', 'MN04', 'MN05', 'MN06', 'MN07', 'MN08', 'MN09', 'MN10',\n",
       "       'MN11', 'MN12', 'QN01', 'QN02', 'QN03', 'QN04', 'QN05', 'QN06',\n",
       "       'QN07', 'QN08', 'QN09', 'QN10', 'QN11', 'QN12', 'QN13', 'QN14',\n",
       "       'SI01', 'SI02', 'SI03'], dtype=object)"
      ]
     },
     "execution_count": 69,
     "metadata": {},
     "output_type": "execute_result"
    }
   ],
   "source": [
    "np.sort(dfInfr.cd_id.unique())"
   ]
  },
  {
   "cell_type": "code",
   "execution_count": 70,
   "metadata": {
    "collapsed": false
   },
   "outputs": [],
   "source": [
    "# Link the 3 dataframes"
   ]
  },
  {
   "cell_type": "code",
   "execution_count": 71,
   "metadata": {
    "collapsed": false
   },
   "outputs": [],
   "source": [
    "# Linking all datasets on cd_id\n",
    "df = pd.merge(dfComplaints, dfPop, on=\"cd_id\")\n",
    "df = df.merge(dfInfr, on=\"cd_id\")"
   ]
  },
  {
   "cell_type": "code",
   "execution_count": 72,
   "metadata": {
    "collapsed": true
   },
   "outputs": [],
   "source": [
    "# Are the demographics and infrastructure different in Community Districts that show more complaints than others?"
   ]
  },
  {
   "cell_type": "code",
   "execution_count": 73,
   "metadata": {
    "collapsed": false
   },
   "outputs": [
    {
     "data": {
      "text/plain": [
       "59"
      ]
     },
     "execution_count": 73,
     "metadata": {},
     "output_type": "execute_result"
    }
   ],
   "source": [
    "len(df.complaints)"
   ]
  },
  {
   "cell_type": "code",
   "execution_count": 75,
   "metadata": {
    "collapsed": false
   },
   "outputs": [
    {
     "data": {
      "text/plain": [
       "Index(['complaints', 'cd_id', 'Population Density (per sq. mile)',\n",
       "       'Median household income (In 2014 Inflation Adjusted Dollars)',\n",
       "       'Per capita income (In 2014 Inflation Adjusted Dollars)', 'FIPS',\n",
       "       'Qualifying Name', 'Households',\n",
       "       'Households: With An Internet Subscription',\n",
       "       '% Households: With An Internet Subscription', 'mobile_broadband',\n",
       "       'Households: With Dial-Up Internet Subscription Alone',\n",
       "       'Households: With A Broadband Internet Subscription',\n",
       "       'Households: Without An Internet Subscription'],\n",
       "      dtype='object')"
      ]
     },
     "execution_count": 75,
     "metadata": {},
     "output_type": "execute_result"
    }
   ],
   "source": [
    "df.columns"
   ]
  },
  {
   "cell_type": "code",
   "execution_count": 76,
   "metadata": {
    "collapsed": true
   },
   "outputs": [],
   "source": [
    "df.columns = ['complaints', 'cd_id', 'population_density', 'income_median', 'income_per_capita', 'FIPS',\n",
    "       'Qualifying Name', 'total_households',\n",
    "       'with_internet', 'percent_internet', 'mobile_broadband', 'dial_up_only', 'broadband', 'no_internet']"
   ]
  },
  {
   "cell_type": "code",
   "execution_count": 95,
   "metadata": {
    "collapsed": false
   },
   "outputs": [],
   "source": [
    "df.sort_values(\"complaints\", ascending=False, inplace=True)"
   ]
  },
  {
   "cell_type": "code",
   "execution_count": 111,
   "metadata": {
    "collapsed": false
   },
   "outputs": [
    {
     "data": {
      "text/plain": [
       "(0, 130000)"
      ]
     },
     "execution_count": 111,
     "metadata": {},
     "output_type": "execute_result"
    },
    {
     "data": {
      "image/png": "[encoded data removed]",
      "text/plain": [
       "<matplotlib.figure.Figure at 0x120a732e8>"
      ]
     },
     "metadata": {},
     "output_type": "display_data"
    }
   ],
   "source": [
    "f, ax1 = plt.subplots(figsize=(16, 8))\n",
    "\n",
    "x = range(0,len(df))\n",
    "labels = df.cd_id\n",
    "\n",
    "ax1.bar(x, df.complaints, align=\"center\")\n",
    "ax1.set_xlim(-1,len(df))\n",
    "ax1.set_ylabel('Number of 311 Complaints', fontsize=16)\n",
    "ax1.set_xlabel('Month of the Year', fontsize=16)\n",
    "\n",
    "plt.xticks(x, labels, rotation='vertical')\n",
    "\n",
    "ax2 = ax1.twinx()\n",
    "ax2.plot(x, df.income_median, \"r-\", linewidth=4, label=\"Median Income\")\n",
    "ax2.set_ylabel('Median Income', fontsize=16)\n",
    "ax2.grid(b=None)\n",
    "ax2.set_ylim(0, 130000)"
   ]
  },
  {
   "cell_type": "code",
   "execution_count": 130,
   "metadata": {
    "collapsed": false
   },
   "outputs": [
    {
     "data": {
      "text/plain": [
       "<matplotlib.collections.PathCollection at 0x1233213c8>"
      ]
     },
     "execution_count": 130,
     "metadata": {},
     "output_type": "execute_result"
    },
    {
     "data": {
      "image/png": "[encoded data removed]",
      "text/plain": [
       "<matplotlib.figure.Figure at 0x1232d7e48>"
      ]
     },
     "metadata": {},
     "output_type": "display_data"
    }
   ],
   "source": [
    "plt.scatter(df.population_density, df.complaints)"
   ]
  },
  {
   "cell_type": "code",
   "execution_count": 131,
   "metadata": {
    "collapsed": false
   },
   "outputs": [
    {
     "name": "stdout",
     "output_type": "stream",
     "text": [
      "                            OLS Regression Results                            \n",
      "==============================================================================\n",
      "Dep. Variable:             complaints   R-squared:                       0.011\n",
      "Model:                            OLS   Adj. R-squared:                 -0.006\n",
      "Method:                 Least Squares   F-statistic:                    0.6559\n",
      "Date:                Mon, 07 Nov 2016   Prob (F-statistic):              0.421\n",
      "Time:                        13:03:30   Log-Likelihood:                -393.05\n",
      "No. Observations:                  59   AIC:                             790.1\n",
      "Df Residuals:                      57   BIC:                             794.2\n",
      "Df Model:                           1                                         \n",
      "Covariance Type:            nonrobust                                         \n",
      "======================================================================================\n",
      "                         coef    std err          t      P>|t|      [95.0% Conf. Int.]\n",
      "--------------------------------------------------------------------------------------\n",
      "Intercept            519.2755     52.582      9.876      0.000       413.982   624.569\n",
      "population_density     0.0009      0.001      0.810      0.421        -0.001     0.003\n",
      "==============================================================================\n",
      "Omnibus:                        5.425   Durbin-Watson:                   0.038\n",
      "Prob(Omnibus):                  0.066   Jarque-Bera (JB):                4.722\n",
      "Skew:                           0.683   Prob(JB):                       0.0943\n",
      "Kurtosis:                       3.235   Cond. No.                     1.04e+05\n",
      "==============================================================================\n",
      "\n",
      "Warnings:\n",
      "[1] Standard Errors assume that the covariance matrix of the errors is correctly specified.\n",
      "[2] The condition number is large, 1.04e+05. This might indicate that there are\n",
      "strong multicollinearity or other numerical problems.\n"
     ]
    }
   ],
   "source": [
    "internetSmf = smf.ols(formula='complaints ~ population_density', data=df)\n",
    "internetOls = internetSmf.fit()\n",
    "print(internetOls.summary())"
   ]
  },
  {
   "cell_type": "code",
   "execution_count": 124,
   "metadata": {
    "collapsed": false
   },
   "outputs": [
    {
     "data": {
      "text/plain": [
       "<matplotlib.collections.PathCollection at 0x12356b320>"
      ]
     },
     "execution_count": 124,
     "metadata": {},
     "output_type": "execute_result"
    },
    {
     "data": {
      "image/png": "[encoded data removed]",
      "text/plain": [
       "<matplotlib.figure.Figure at 0x1230d10b8>"
      ]
     },
     "metadata": {},
     "output_type": "display_data"
    }
   ],
   "source": [
    "plt.scatter(df.income_median, df.complaints)"
   ]
  },
  {
   "cell_type": "code",
   "execution_count": 129,
   "metadata": {
    "collapsed": false
   },
   "outputs": [
    {
     "name": "stdout",
     "output_type": "stream",
     "text": [
      "                            OLS Regression Results                            \n",
      "==============================================================================\n",
      "Dep. Variable:             complaints   R-squared:                       0.013\n",
      "Model:                            OLS   Adj. R-squared:                 -0.005\n",
      "Method:                 Least Squares   F-statistic:                    0.7358\n",
      "Date:                Mon, 07 Nov 2016   Prob (F-statistic):              0.395\n",
      "Time:                        13:00:13   Log-Likelihood:                -393.01\n",
      "No. Observations:                  59   AIC:                             790.0\n",
      "Df Residuals:                      57   BIC:                             794.2\n",
      "Df Model:                           1                                         \n",
      "Covariance Type:            nonrobust                                         \n",
      "=================================================================================\n",
      "                    coef    std err          t      P>|t|      [95.0% Conf. Int.]\n",
      "---------------------------------------------------------------------------------\n",
      "Intercept       603.1171     59.616     10.117      0.000       483.739   722.495\n",
      "income_median    -0.0008      0.001     -0.858      0.395        -0.003     0.001\n",
      "==============================================================================\n",
      "Omnibus:                        4.437   Durbin-Watson:                   0.055\n",
      "Prob(Omnibus):                  0.109   Jarque-Bera (JB):                3.477\n",
      "Skew:                           0.550   Prob(JB):                        0.176\n",
      "Kurtosis:                       3.451   Cond. No.                     1.47e+05\n",
      "==============================================================================\n",
      "\n",
      "Warnings:\n",
      "[1] Standard Errors assume that the covariance matrix of the errors is correctly specified.\n",
      "[2] The condition number is large, 1.47e+05. This might indicate that there are\n",
      "strong multicollinearity or other numerical problems.\n"
     ]
    }
   ],
   "source": [
    "internetSmf = smf.ols(formula='complaints ~ income_median', data=df)\n",
    "internetOls = internetSmf.fit()\n",
    "print(internetOls.summary())"
   ]
  },
  {
   "cell_type": "code",
   "execution_count": 125,
   "metadata": {
    "collapsed": false
   },
   "outputs": [
    {
     "data": {
      "text/plain": [
       "<matplotlib.collections.PathCollection at 0x12357ccf8>"
      ]
     },
     "execution_count": 125,
     "metadata": {},
     "output_type": "execute_result"
    },
    {
     "data": {
      "image/png": "[encoded data removed]",
      "text/plain": [
       "<matplotlib.figure.Figure at 0x123334c50>"
      ]
     },
     "metadata": {},
     "output_type": "display_data"
    }
   ],
   "source": [
    "plt.scatter(df.with_internet, df.complaints)"
   ]
  },
  {
   "cell_type": "code",
   "execution_count": 127,
   "metadata": {
    "collapsed": false
   },
   "outputs": [
    {
     "name": "stdout",
     "output_type": "stream",
     "text": [
      "                            OLS Regression Results                            \n",
      "==============================================================================\n",
      "Dep. Variable:             complaints   R-squared:                       0.074\n",
      "Model:                            OLS   Adj. R-squared:                  0.057\n",
      "Method:                 Least Squares   F-statistic:                     4.538\n",
      "Date:                Mon, 07 Nov 2016   Prob (F-statistic):             0.0375\n",
      "Time:                        12:55:00   Log-Likelihood:                -391.12\n",
      "No. Observations:                  59   AIC:                             786.2\n",
      "Df Residuals:                      57   BIC:                             790.4\n",
      "Df Model:                           1                                         \n",
      "Covariance Type:            nonrobust                                         \n",
      "=================================================================================\n",
      "                    coef    std err          t      P>|t|      [95.0% Conf. Int.]\n",
      "---------------------------------------------------------------------------------\n",
      "Intercept       419.4985     68.829      6.095      0.000       281.671   557.326\n",
      "with_internet     0.0034      0.002      2.130      0.037         0.000     0.007\n",
      "==============================================================================\n",
      "Omnibus:                        4.475   Durbin-Watson:                   0.148\n",
      "Prob(Omnibus):                  0.107   Jarque-Bera (JB):                3.869\n",
      "Skew:                           0.624   Prob(JB):                        0.144\n",
      "Kurtosis:                       3.123   Cond. No.                     1.22e+05\n",
      "==============================================================================\n",
      "\n",
      "Warnings:\n",
      "[1] Standard Errors assume that the covariance matrix of the errors is correctly specified.\n",
      "[2] The condition number is large, 1.22e+05. This might indicate that there are\n",
      "strong multicollinearity or other numerical problems.\n"
     ]
    }
   ],
   "source": [
    "internetSmf = smf.ols(formula='complaints ~ with_internet', data=df)\n",
    "internetOls = internetSmf.fit()\n",
    "print(internetOls.summary())"
   ]
  },
  {
   "cell_type": "code",
   "execution_count": 126,
   "metadata": {
    "collapsed": false
   },
   "outputs": [
    {
     "data": {
      "text/plain": [
       "<matplotlib.collections.PathCollection at 0x1232b49e8>"
      ]
     },
     "execution_count": 126,
     "metadata": {},
     "output_type": "execute_result"
    },
    {
     "data": {
      "image/png": "[encoded data removed]",
      "text/plain": [
       "<matplotlib.figure.Figure at 0x123680080>"
      ]
     },
     "metadata": {},
     "output_type": "display_data"
    }
   ],
   "source": [
    "plt.scatter(df.mobile_broadband, df.complaints)"
   ]
  },
  {
   "cell_type": "code",
   "execution_count": 128,
   "metadata": {
    "collapsed": false
   },
   "outputs": [
    {
     "name": "stdout",
     "output_type": "stream",
     "text": [
      "                            OLS Regression Results                            \n",
      "==============================================================================\n",
      "Dep. Variable:             complaints   R-squared:                       0.001\n",
      "Model:                            OLS   Adj. R-squared:                 -0.016\n",
      "Method:                 Least Squares   F-statistic:                   0.05925\n",
      "Date:                Mon, 07 Nov 2016   Prob (F-statistic):              0.809\n",
      "Time:                        12:59:31   Log-Likelihood:                -393.35\n",
      "No. Observations:                  59   AIC:                             790.7\n",
      "Df Residuals:                      57   BIC:                             794.9\n",
      "Df Model:                           1                                         \n",
      "Covariance Type:            nonrobust                                         \n",
      "====================================================================================\n",
      "                       coef    std err          t      P>|t|      [95.0% Conf. Int.]\n",
      "------------------------------------------------------------------------------------\n",
      "Intercept          546.9286     47.435     11.530      0.000       451.941   641.916\n",
      "mobile_broadband     0.0007      0.003      0.243      0.809        -0.005     0.006\n",
      "==============================================================================\n",
      "Omnibus:                        5.690   Durbin-Watson:                   0.028\n",
      "Prob(Omnibus):                  0.058   Jarque-Bera (JB):                4.849\n",
      "Skew:                           0.678   Prob(JB):                       0.0885\n",
      "Kurtosis:                       3.366   Cond. No.                     3.28e+04\n",
      "==============================================================================\n",
      "\n",
      "Warnings:\n",
      "[1] Standard Errors assume that the covariance matrix of the errors is correctly specified.\n",
      "[2] The condition number is large, 3.28e+04. This might indicate that there are\n",
      "strong multicollinearity or other numerical problems.\n"
     ]
    }
   ],
   "source": [
    "internetSmf = smf.ols(formula='complaints ~ mobile_broadband', data=df)\n",
    "internetOls = internetSmf.fit()\n",
    "print(internetOls.summary())"
   ]
  },
  {
   "cell_type": "markdown",
   "metadata": {},
   "source": [
    "## Conclusion\n",
    "\n",
    "Based on the p-values of the coefficients of median income, population density, internet access, and mobile broadband per Community District at $\\alpha \\leq 0.05$, we can say that Community Districts with a higher number of internet connected households submit more 311 complaints."
   ]
  }
 ],
 "metadata": {
  "anaconda-cloud": {},
  "celltoolbar": "Raw Cell Format",
  "kernelspec": {
   "display_name": "Python [Root]",
   "language": "python",
   "name": "Python [Root]"
  },
  "language_info": {
   "codemirror_mode": {
    "name": "ipython",
    "version": 3
   },
   "file_extension": ".py",
   "mimetype": "text/x-python",
   "name": "python",
   "nbconvert_exporter": "python",
   "pygments_lexer": "ipython3",
   "version": "3.5.1"
  }
 },
 "nbformat": 4,
 "nbformat_minor": 0
}
