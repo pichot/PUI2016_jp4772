{
 "cells": [
  {
   "cell_type": "markdown",
   "metadata": {},
   "source": [
    "# PUI2016 HW6 - jp4772\n",
    "## Assignment 2\n",
    "### With Ian Wright"
   ]
  },
  {
   "cell_type": "code",
   "execution_count": 26,
   "metadata": {
    "collapsed": false
   },
   "outputs": [],
   "source": [
    "import os\n",
    "import urllib, json\n",
    "import pandas as pd\n",
    "import numpy as np\n",
    "import matplotlib.pyplot as plt\n",
    "import scipy.stats as stats\n",
    "%matplotlib inline\n",
    "plt.style.use('ggplot')"
   ]
  },
  {
   "cell_type": "markdown",
   "metadata": {},
   "source": [
    "#### IDEA:\n",
    "\n",
    "There is demand for expanded citibike service in Upper Manhattan / Harlem / Columbia University.\n",
    "\n",
    "#### HYPOTHESIS:\n",
    "\n",
    "$H_0:$ The average rides (normalized per dock) on any given day that *start* along the north edge of the Citibike service zone in Manhattan (all Citibike stations between 86th St. and 81st St.) is *less than or equal to* that of Citibike stations in a similar, but non-boundary, region of Manhattan (between 81st St. and 72nd St). Timeframe set as a most recent complete 4 weeks.\n",
    "\n",
    "##### $H_0: mean(rides/dock)_{boundary} <= mean(rides/dock)_{non-boundary}$\n",
    "\n",
    "$H_1:$ The average rides (normalized per bike) on any given day that *start* along the north edge of the Citibike service zone in Manhattan (all Citibike stations between 86th St. and 81st St.) is *greater than* that of Citibike stations in a similar, but non-boundary, region of Manhattan (between 81st St. and 72nd St). Timeframe set as a most recent complete 4 weeks.\n",
    "\n",
    "##### $H_1: mean(rides/dock)_{boundary} > mean(rides/dock)_{non-boundary}$\n",
    "\n",
    "#### SIGNIFICANCE LEVEL:\n",
    "\n",
    "For this test, I'll use a significance level of $\\alpha=0.05$\n",
    "\n"
   ]
  },
  {
   "cell_type": "markdown",
   "metadata": {},
   "source": [
    "#### DATA STRATEGY:\n",
    "\n",
    "Citibike provides a json feed of all stations in the system. We'll parse through this to build a list of station IDs, names, and total bike capacity for each.\n",
    "\n",
    "Then we'll cross-reference a citibike map for the relevant stations for our study, and group our dataset into boundary and non-boundary stations (and drop unneeded stations)."
   ]
  },
  {
   "cell_type": "code",
   "execution_count": 2,
   "metadata": {
    "collapsed": false
   },
   "outputs": [],
   "source": [
    "# get station data from citibike station feed\n",
    "url = \"https://feeds.citibikenyc.com/stations/stations.json\"\n",
    "response = urllib.urlopen(url)\n",
    "stations = json.loads(response.read())"
   ]
  },
  {
   "cell_type": "code",
   "execution_count": 3,
   "metadata": {
    "collapsed": false
   },
   "outputs": [],
   "source": [
    "# use list comprehension to build a master list of relevant station data\n",
    "station_data = [{'id':station['id'],\n",
    "                 'totalDocks':station['totalDocks']} \n",
    "                for station in stations['stationBeanList']] "
   ]
  },
  {
   "cell_type": "markdown",
   "metadata": {},
   "source": [
    "Sadly, citibike doesn't provide a map with unique integer IDs for each station... instead, we need to inspect the map and collect a list of strings for stationNames in our boundary and non-boundary zones. Then we'll search the station_data list for those stationNames.\n",
    "\n",
    "To build the list of boundary and non-boundary station IDs, we inspect a citibike map using open source GIS software (image below). In this case, the yellow-highlighted stations are \"non-boundary\", and the \"boundary\" stations are north of that.\n",
    "\n",
    "NOTE:\n",
    "Originally, we established a boundary zone even further North in Manhattan. But after looking at trip data from June 2016, we realized that those stations were *too new* (we had no trip data from them in June) - we had to dig into the data to figure out what the \"true boundary\" stations were at a snapshot in time in June.\n",
    "\n",
    "![](non-boundary-docks.png)"
   ]
  },
  {
   "cell_type": "code",
   "execution_count": 4,
   "metadata": {
    "collapsed": true
   },
   "outputs": [],
   "source": [
    "# list of stationName for boundary zone: \n",
    "boundary_ids = [3145, 3147, 3148, 3150, 3157, 3168, 3169, 3170, 3171, 3177]"
   ]
  },
  {
   "cell_type": "code",
   "execution_count": 5,
   "metadata": {
    "collapsed": false
   },
   "outputs": [],
   "source": [
    "# list of stationName for non-boundary zone: \n",
    "non_boundary_ids = [3135, 3137, 3139, 3140, 3143, 3144, 3146, 3151, 2154, 3156,\n",
    "                         3160, 3161, 3162, 3164, 3165, 3166, 3167, 3172, 3178, 3226, 3238]"
   ]
  },
  {
   "cell_type": "markdown",
   "metadata": {},
   "source": [
    "We need to iterate through all station data in the JSON import to pick out those stations that belong in a boundary or non-boundary group."
   ]
  },
  {
   "cell_type": "code",
   "execution_count": 6,
   "metadata": {
    "collapsed": true
   },
   "outputs": [],
   "source": [
    "boundary_stations = []\n",
    "non_boundary_stations = []\n",
    "for station in station_data:\n",
    "    if station['id'] in boundary_ids:\n",
    "        boundary_stations.append(station)\n",
    "    elif station['id'] in non_boundary_ids:\n",
    "        non_boundary_stations.append(station)"
   ]
  },
  {
   "cell_type": "code",
   "execution_count": 7,
   "metadata": {
    "collapsed": false
   },
   "outputs": [
    {
     "data": {
      "text/plain": [
       "[{'id': 3145, 'totalDocks': 45},\n",
       " {'id': 3147, 'totalDocks': 39},\n",
       " {'id': 3148, 'totalDocks': 31},\n",
       " {'id': 3150, 'totalDocks': 47},\n",
       " {'id': 3157, 'totalDocks': 27},\n",
       " {'id': 3168, 'totalDocks': 31},\n",
       " {'id': 3169, 'totalDocks': 39},\n",
       " {'id': 3170, 'totalDocks': 35},\n",
       " {'id': 3171, 'totalDocks': 39},\n",
       " {'id': 3177, 'totalDocks': 63}]"
      ]
     },
     "execution_count": 7,
     "metadata": {},
     "output_type": "execute_result"
    }
   ],
   "source": [
    "boundary_stations"
   ]
  },
  {
   "cell_type": "code",
   "execution_count": 8,
   "metadata": {
    "collapsed": false
   },
   "outputs": [
    {
     "data": {
      "text/plain": [
       "[{'id': 3135, 'totalDocks': 41},\n",
       " {'id': 3137, 'totalDocks': 31},\n",
       " {'id': 3139, 'totalDocks': 43},\n",
       " {'id': 3140, 'totalDocks': 55},\n",
       " {'id': 3143, 'totalDocks': 47},\n",
       " {'id': 3144, 'totalDocks': 46},\n",
       " {'id': 3146, 'totalDocks': 47},\n",
       " {'id': 3151, 'totalDocks': 31},\n",
       " {'id': 3156, 'totalDocks': 39},\n",
       " {'id': 3160, 'totalDocks': 39},\n",
       " {'id': 3161, 'totalDocks': 59},\n",
       " {'id': 3162, 'totalDocks': 39},\n",
       " {'id': 3164, 'totalDocks': 67},\n",
       " {'id': 3165, 'totalDocks': 51},\n",
       " {'id': 3166, 'totalDocks': 41},\n",
       " {'id': 3167, 'totalDocks': 55},\n",
       " {'id': 3172, 'totalDocks': 27},\n",
       " {'id': 3178, 'totalDocks': 39},\n",
       " {'id': 3226, 'totalDocks': 45},\n",
       " {'id': 3238, 'totalDocks': 37}]"
      ]
     },
     "execution_count": 8,
     "metadata": {},
     "output_type": "execute_result"
    }
   ],
   "source": [
    "non_boundary_stations"
   ]
  },
  {
   "cell_type": "markdown",
   "metadata": {},
   "source": [
    "Now we load actual trip data from citibike to use as our sample."
   ]
  },
  {
   "cell_type": "code",
   "execution_count": 12,
   "metadata": {
    "collapsed": true
   },
   "outputs": [],
   "source": [
    "# Download the citibike trip data for the last available month.\n",
    "# At the time of this writing (9/24/2016) that is June 2016.\n",
    "def get_citibike_data():\n",
    "    \"\"\"\n",
    "    Checks if a citibike dataset already exists on local machine;\n",
    "    returns data as PD DF if so;\n",
    "    downloads data to local csv file if not, and returns data as PD DF.\n",
    "    \"\"\"\n",
    "    # if we have the PUIDATA environment variable configured\n",
    "    if os.getenv('PUIDATA'):\n",
    "        puidata = os.getenv('PUIDATA')\n",
    "        print 'data directory:', puidata\n",
    "        # if the data we need is already downloaded\n",
    "        if os.path.isfile(puidata + '/201606-citibike-tripdata.zip'):\n",
    "            print 'file already exists...'\n",
    "            # is the pluto data already unzipped?\n",
    "            if os.path.isfile(puidata + '/201606-citibike-tripdata.csv'):\n",
    "                print 'data returned as pandas DF.'\n",
    "                return pd.read_csv(puidata + '/201606-citibike-tripdata.csv')\n",
    "            # first need to unzip the data\n",
    "            else:\n",
    "                print 'unzipping data...'\n",
    "                !unzip -o $PUIDATA/201606-citibike-tripdata.zip -d $PUIDATA\n",
    "                print 'data written to csv file...'\n",
    "                print 'data returned as pandas DF.'\n",
    "                return pd.read_csv(puidata + '/201606-citibike-tripdata.csv')\n",
    "        # data we need is not yet downloaded\n",
    "        else:\n",
    "            print 'must download data...'\n",
    "            !curl -o $PUIDATA/201606-citibike-tripdata.zip 'https://s3.amazonaws.com/tripdata/201606-citibike-tripdata.zip'\n",
    "            print 'unzipping data...'\n",
    "            !unzip -o $PUIDATA/201606-citibike-tripdata.zip -d $PUIDATA\n",
    "            print 'data written to csv file...'\n",
    "            print 'data returned as pandas DF.'\n",
    "            return pd.read_csv(puidata + '/201606-citibike-tripdata.csv')\n",
    "    # must configure PUIDATA variable and try again\n",
    "    else:\n",
    "        print 'Please configure a \"PUIDATA\" environment variable and try again.'"
   ]
  },
  {
   "cell_type": "code",
   "execution_count": 13,
   "metadata": {
    "collapsed": false
   },
   "outputs": [
    {
     "name": "stdout",
     "output_type": "stream",
     "text": [
      "data directory: /Users/ian/school/hw/PUI2016/PUIDATA\n",
      "file already exists...\n",
      "unzipping data...\n",
      "Archive:  /Users/ian/school/hw/PUI2016/PUIDATA/201606-citibike-tripdata.zip\n",
      "  inflating: /Users/ian/school/hw/PUI2016/PUIDATA/201606-citibike-tripdata.csv  \n",
      "data written to csv file...\n",
      "data returned as pandas DF.\n"
     ]
    }
   ],
   "source": [
    "# Import trip data into a pandas dataframe\n",
    "#trips = pd.read_csv('201606-citibike-tripdata.csv')\n",
    "trips = get_citibike_data()"
   ]
  },
  {
   "cell_type": "code",
   "execution_count": 14,
   "metadata": {
    "collapsed": false
   },
   "outputs": [
    {
     "data": {
      "text/html": [
       "<div>\n",
       "<table border=\"1\" class=\"dataframe\">\n",
       "  <thead>\n",
       "    <tr style=\"text-align: right;\">\n",
       "      <th></th>\n",
       "      <th>tripduration</th>\n",
       "      <th>starttime</th>\n",
       "      <th>stoptime</th>\n",
       "      <th>start station id</th>\n",
       "      <th>start station name</th>\n",
       "      <th>start station latitude</th>\n",
       "      <th>start station longitude</th>\n",
       "      <th>end station id</th>\n",
       "      <th>end station name</th>\n",
       "      <th>end station latitude</th>\n",
       "      <th>end station longitude</th>\n",
       "      <th>bikeid</th>\n",
       "      <th>usertype</th>\n",
       "      <th>birth year</th>\n",
       "      <th>gender</th>\n",
       "    </tr>\n",
       "  </thead>\n",
       "  <tbody>\n",
       "    <tr>\n",
       "      <th>0</th>\n",
       "      <td>1470</td>\n",
       "      <td>6/1/2016 00:00:18</td>\n",
       "      <td>6/1/2016 00:24:48</td>\n",
       "      <td>380</td>\n",
       "      <td>W 4 St &amp; 7 Ave S</td>\n",
       "      <td>40.734011</td>\n",
       "      <td>-74.002939</td>\n",
       "      <td>3236</td>\n",
       "      <td>W 42 St &amp; Dyer Ave</td>\n",
       "      <td>40.758985</td>\n",
       "      <td>-73.993800</td>\n",
       "      <td>19859</td>\n",
       "      <td>Subscriber</td>\n",
       "      <td>1972.0</td>\n",
       "      <td>1</td>\n",
       "    </tr>\n",
       "    <tr>\n",
       "      <th>1</th>\n",
       "      <td>229</td>\n",
       "      <td>6/1/2016 00:00:20</td>\n",
       "      <td>6/1/2016 00:04:09</td>\n",
       "      <td>3092</td>\n",
       "      <td>Berry St &amp; N 8 St</td>\n",
       "      <td>40.719009</td>\n",
       "      <td>-73.958525</td>\n",
       "      <td>3103</td>\n",
       "      <td>N 11 St &amp; Wythe Ave</td>\n",
       "      <td>40.721533</td>\n",
       "      <td>-73.957824</td>\n",
       "      <td>16233</td>\n",
       "      <td>Subscriber</td>\n",
       "      <td>1967.0</td>\n",
       "      <td>1</td>\n",
       "    </tr>\n",
       "    <tr>\n",
       "      <th>2</th>\n",
       "      <td>344</td>\n",
       "      <td>6/1/2016 00:00:21</td>\n",
       "      <td>6/1/2016 00:06:06</td>\n",
       "      <td>449</td>\n",
       "      <td>W 52 St &amp; 9 Ave</td>\n",
       "      <td>40.764618</td>\n",
       "      <td>-73.987895</td>\n",
       "      <td>469</td>\n",
       "      <td>Broadway &amp; W 53 St</td>\n",
       "      <td>40.763441</td>\n",
       "      <td>-73.982681</td>\n",
       "      <td>22397</td>\n",
       "      <td>Subscriber</td>\n",
       "      <td>1989.0</td>\n",
       "      <td>1</td>\n",
       "    </tr>\n",
       "    <tr>\n",
       "      <th>3</th>\n",
       "      <td>1120</td>\n",
       "      <td>6/1/2016 00:00:28</td>\n",
       "      <td>6/1/2016 00:19:09</td>\n",
       "      <td>522</td>\n",
       "      <td>E 51 St &amp; Lexington Ave</td>\n",
       "      <td>40.757148</td>\n",
       "      <td>-73.972078</td>\n",
       "      <td>401</td>\n",
       "      <td>Allen St &amp; Rivington St</td>\n",
       "      <td>40.720196</td>\n",
       "      <td>-73.989978</td>\n",
       "      <td>16231</td>\n",
       "      <td>Subscriber</td>\n",
       "      <td>1991.0</td>\n",
       "      <td>1</td>\n",
       "    </tr>\n",
       "    <tr>\n",
       "      <th>4</th>\n",
       "      <td>229</td>\n",
       "      <td>6/1/2016 00:00:53</td>\n",
       "      <td>6/1/2016 00:04:42</td>\n",
       "      <td>335</td>\n",
       "      <td>Washington Pl &amp; Broadway</td>\n",
       "      <td>40.729039</td>\n",
       "      <td>-73.994046</td>\n",
       "      <td>285</td>\n",
       "      <td>Broadway &amp; E 14 St</td>\n",
       "      <td>40.734546</td>\n",
       "      <td>-73.990741</td>\n",
       "      <td>15400</td>\n",
       "      <td>Subscriber</td>\n",
       "      <td>1989.0</td>\n",
       "      <td>1</td>\n",
       "    </tr>\n",
       "  </tbody>\n",
       "</table>\n",
       "</div>"
      ],
      "text/plain": [
       "   tripduration          starttime           stoptime  start station id  \\\n",
       "0          1470  6/1/2016 00:00:18  6/1/2016 00:24:48               380   \n",
       "1           229  6/1/2016 00:00:20  6/1/2016 00:04:09              3092   \n",
       "2           344  6/1/2016 00:00:21  6/1/2016 00:06:06               449   \n",
       "3          1120  6/1/2016 00:00:28  6/1/2016 00:19:09               522   \n",
       "4           229  6/1/2016 00:00:53  6/1/2016 00:04:42               335   \n",
       "\n",
       "         start station name  start station latitude  start station longitude  \\\n",
       "0          W 4 St & 7 Ave S               40.734011               -74.002939   \n",
       "1         Berry St & N 8 St               40.719009               -73.958525   \n",
       "2           W 52 St & 9 Ave               40.764618               -73.987895   \n",
       "3   E 51 St & Lexington Ave               40.757148               -73.972078   \n",
       "4  Washington Pl & Broadway               40.729039               -73.994046   \n",
       "\n",
       "   end station id         end station name  end station latitude  \\\n",
       "0            3236       W 42 St & Dyer Ave             40.758985   \n",
       "1            3103      N 11 St & Wythe Ave             40.721533   \n",
       "2             469       Broadway & W 53 St             40.763441   \n",
       "3             401  Allen St & Rivington St             40.720196   \n",
       "4             285       Broadway & E 14 St             40.734546   \n",
       "\n",
       "   end station longitude  bikeid    usertype  birth year  gender  \n",
       "0             -73.993800   19859  Subscriber      1972.0       1  \n",
       "1             -73.957824   16233  Subscriber      1967.0       1  \n",
       "2             -73.982681   22397  Subscriber      1989.0       1  \n",
       "3             -73.989978   16231  Subscriber      1991.0       1  \n",
       "4             -73.990741   15400  Subscriber      1989.0       1  "
      ]
     },
     "execution_count": 14,
     "metadata": {},
     "output_type": "execute_result"
    }
   ],
   "source": [
    "trips.head()"
   ]
  },
  {
   "cell_type": "code",
   "execution_count": 15,
   "metadata": {
    "collapsed": true
   },
   "outputs": [],
   "source": [
    "# Drop all columns except for starttime and start station id\n",
    "trips = trips[[\"starttime\", \"start station id\"]]"
   ]
  },
  {
   "cell_type": "code",
   "execution_count": 16,
   "metadata": {
    "collapsed": false
   },
   "outputs": [
    {
     "data": {
      "text/html": [
       "<div>\n",
       "<table border=\"1\" class=\"dataframe\">\n",
       "  <thead>\n",
       "    <tr style=\"text-align: right;\">\n",
       "      <th></th>\n",
       "      <th>starttime</th>\n",
       "      <th>start station id</th>\n",
       "    </tr>\n",
       "  </thead>\n",
       "  <tbody>\n",
       "    <tr>\n",
       "      <th>0</th>\n",
       "      <td>6/1/2016 00:00:18</td>\n",
       "      <td>380</td>\n",
       "    </tr>\n",
       "    <tr>\n",
       "      <th>1</th>\n",
       "      <td>6/1/2016 00:00:20</td>\n",
       "      <td>3092</td>\n",
       "    </tr>\n",
       "    <tr>\n",
       "      <th>2</th>\n",
       "      <td>6/1/2016 00:00:21</td>\n",
       "      <td>449</td>\n",
       "    </tr>\n",
       "  </tbody>\n",
       "</table>\n",
       "</div>"
      ],
      "text/plain": [
       "           starttime  start station id\n",
       "0  6/1/2016 00:00:18               380\n",
       "1  6/1/2016 00:00:20              3092\n",
       "2  6/1/2016 00:00:21               449"
      ]
     },
     "execution_count": 16,
     "metadata": {},
     "output_type": "execute_result"
    }
   ],
   "source": [
    "# Take a look at the data\n",
    "trips.head(3)"
   ]
  },
  {
   "cell_type": "code",
   "execution_count": 17,
   "metadata": {
    "collapsed": false
   },
   "outputs": [],
   "source": [
    "# Convert starttime to datetime datatype in a new column\n",
    "trips.loc[:, 'start_datetime'] = pd.to_datetime(trips.starttime, format='%m/%d/%Y %H:%M:%S')"
   ]
  },
  {
   "cell_type": "code",
   "execution_count": 18,
   "metadata": {
    "collapsed": false
   },
   "outputs": [
    {
     "name": "stdout",
     "output_type": "stream",
     "text": [
      "min trip time:  2016-06-03 00:00:12\n",
      "max trip time:  2016-06-30 23:59:58\n"
     ]
    }
   ],
   "source": [
    "# Filter to only 4 weeks of data to represent only 4 instances of every day of the week (4 Mondays, 4 Tuesdays, etc). \n",
    "# The last day of June 2016 was Thursday the 30th. Thus, this dataset now captures all rides from Thursday the 3rd at\n",
    "# midnight to Thursday the 30th at 23:59:59.\n",
    "trips = trips[trips[\"start_datetime\"] > \"2016-06-03 00:00:00\"]\n",
    "\n",
    "# check that the trips data exists for exactly 4 weeks\n",
    "print 'min trip time: ', trips.start_datetime.min()\n",
    "print 'max trip time: ', trips.start_datetime.max()"
   ]
  },
  {
   "cell_type": "code",
   "execution_count": 19,
   "metadata": {
    "collapsed": false
   },
   "outputs": [],
   "source": [
    "# Get relevant trips \n",
    "boundary_trips = trips[trips[\"start station id\"].isin([station['id'] for station in boundary_stations])]\n",
    "non_boundary_trips = trips[trips[\"start station id\"].isin([station['id'] for station in non_boundary_stations])]"
   ]
  },
  {
   "cell_type": "code",
   "execution_count": 20,
   "metadata": {
    "collapsed": false
   },
   "outputs": [],
   "source": [
    "# compute total number of docks in both boundary and non-boundary zones\n",
    "# we'll use these to normalize our trip counts later\n",
    "boundary_docks = np.array([station['totalDocks'] for station in boundary_stations]).sum()\n",
    "non_boundary_docks = np.array([station['totalDocks'] for station in non_boundary_stations]).sum()"
   ]
  },
  {
   "cell_type": "code",
   "execution_count": 21,
   "metadata": {
    "collapsed": false
   },
   "outputs": [
    {
     "name": "stderr",
     "output_type": "stream",
     "text": [
      "//anaconda/lib/python2.7/site-packages/pandas/core/indexing.py:284: SettingWithCopyWarning: \n",
      "A value is trying to be set on a copy of a slice from a DataFrame.\n",
      "Try using .loc[row_indexer,col_indexer] = value instead\n",
      "\n",
      "See the caveats in the documentation: http://pandas.pydata.org/pandas-docs/stable/indexing.html#indexing-view-versus-copy\n",
      "  self.obj[key] = _infer_fill_value(value)\n",
      "//anaconda/lib/python2.7/site-packages/pandas/core/indexing.py:461: SettingWithCopyWarning: \n",
      "A value is trying to be set on a copy of a slice from a DataFrame.\n",
      "Try using .loc[row_indexer,col_indexer] = value instead\n",
      "\n",
      "See the caveats in the documentation: http://pandas.pydata.org/pandas-docs/stable/indexing.html#indexing-view-versus-copy\n",
      "  self.obj[item] = s\n"
     ]
    }
   ],
   "source": [
    "# create a new column that represents the 'day of month'\n",
    "# we'll use this to group our trips\n",
    "boundary_trips.loc[:,'day'] = boundary_trips.start_datetime.map(lambda t: t.day)\n",
    "non_boundary_trips.loc[:,'day'] = non_boundary_trips.start_datetime.map(lambda t: t.day)"
   ]
  },
  {
   "cell_type": "code",
   "execution_count": 22,
   "metadata": {
    "collapsed": false
   },
   "outputs": [],
   "source": [
    "# grouping trips by day for each of boundary and non-boundary\n",
    "boundary_day_count = boundary_trips.groupby('day').count()\n",
    "non_boundary_day_count = non_boundary_trips.groupby('day').count()\n",
    "\n",
    "boundary_day_count.drop([\"start station id\", \"start_datetime\"], axis=1, inplace=True)\n",
    "non_boundary_day_count.drop([\"start station id\", \"start_datetime\"], axis=1, inplace=True)\n",
    "\n",
    "boundary_day_count.columns = [\"count\"]\n",
    "non_boundary_day_count.columns = [\"count\"]\n",
    "\n",
    "boundary_day_count.loc[:, \"count_normalized\"] = boundary_day_count[\"count\"].divide(boundary_docks)\n",
    "non_boundary_day_count.loc[:, \"count_normalized\"] = non_boundary_day_count[\"count\"].divide(non_boundary_docks)"
   ]
  },
  {
   "cell_type": "code",
   "execution_count": 23,
   "metadata": {
    "collapsed": false
   },
   "outputs": [
    {
     "data": {
      "text/plain": [
       "<matplotlib.legend.Legend at 0x118144c50>"
      ]
     },
     "execution_count": 23,
     "metadata": {},
     "output_type": "execute_result"
    },
    {
     "data": {
      "image/png": "[encoded data removed]",
      "text/plain": [
       "<matplotlib.figure.Figure at 0x11778c4d0>"
      ]
     },
     "metadata": {},
     "output_type": "display_data"
    }
   ],
   "source": [
    "# plot a time series of our two datasets\n",
    "# in this analysis, the time axis also acts as our set of distinct observations\n",
    "fig, ax = plt.subplots()\n",
    "fig.set_size_inches(14,7)\n",
    "\n",
    "ax.plot(boundary_day_count.index, boundary_day_count.count_normalized, label='Boundary')\n",
    "ax.plot(non_boundary_day_count.index, non_boundary_day_count.count_normalized, label='Non-Boundary')\n",
    "ax.set_title('Comparing Rides per Dock for Boundary vs. Non-Boundary Zones')    \n",
    "ax.set_xlabel('Day of Month')\n",
    "ax.set_ylabel('Avg Rides/Dock')\n",
    "ax.legend()"
   ]
  },
  {
   "cell_type": "markdown",
   "metadata": {},
   "source": [
    "#### FIGURE 1: A time series comparison of Citibike Rides/Dock for each day in a 4 week timeframe through June 2016; a Manhattan boundary zone is comapred against a non-boundary zone."
   ]
  },
  {
   "cell_type": "code",
   "execution_count": 24,
   "metadata": {
    "collapsed": false
   },
   "outputs": [
    {
     "data": {
      "text/plain": [
       "<matplotlib.legend.Legend at 0x1184ac090>"
      ]
     },
     "execution_count": 24,
     "metadata": {},
     "output_type": "execute_result"
    },
    {
     "data": {
      "image/png": "[encoded data removed]",
      "text/plain": [
       "<matplotlib.figure.Figure at 0x11816df10>"
      ]
     },
     "metadata": {},
     "output_type": "display_data"
    }
   ],
   "source": [
    "# plot a histogram of rides/dock distributions for both boundary and non-boundary\n",
    "fig, ax = plt.subplots()\n",
    "fig.set_size_inches(14,7)\n",
    "\n",
    "ax.hist(boundary_day_count.count_normalized, bins=20, label='Boundary', alpha=0.5)\n",
    "ax.hist(non_boundary_day_count.count_normalized, bins=20, label='Non-Boundary', alpha=0.5)\n",
    "ax.set_title('Rides/Dock Distributions for Boundary vs. Non-Boundary Zones')    \n",
    "ax.set_xlabel('Avg Rides/Dock')\n",
    "ax.legend()"
   ]
  },
  {
   "cell_type": "markdown",
   "metadata": {},
   "source": [
    "#### FIGURE 2: Citibike daily Rides/Dock distributions for a 4 week timeframe through June 2016; a Manhattan boundary zone is comapred against a non-boundary zone."
   ]
  },
  {
   "cell_type": "code",
   "execution_count": 30,
   "metadata": {
    "collapsed": false
   },
   "outputs": [
    {
     "data": {
      "text/html": [
       "<div>\n",
       "<table border=\"1\" class=\"dataframe\">\n",
       "  <thead>\n",
       "    <tr style=\"text-align: right;\">\n",
       "      <th></th>\n",
       "      <th>count</th>\n",
       "      <th>count_normalized</th>\n",
       "    </tr>\n",
       "    <tr>\n",
       "      <th>day</th>\n",
       "      <th></th>\n",
       "      <th></th>\n",
       "    </tr>\n",
       "  </thead>\n",
       "  <tbody>\n",
       "    <tr>\n",
       "      <th>3</th>\n",
       "      <td>716</td>\n",
       "      <td>1.808081</td>\n",
       "    </tr>\n",
       "    <tr>\n",
       "      <th>4</th>\n",
       "      <td>1145</td>\n",
       "      <td>2.891414</td>\n",
       "    </tr>\n",
       "    <tr>\n",
       "      <th>5</th>\n",
       "      <td>533</td>\n",
       "      <td>1.345960</td>\n",
       "    </tr>\n",
       "    <tr>\n",
       "      <th>6</th>\n",
       "      <td>1056</td>\n",
       "      <td>2.666667</td>\n",
       "    </tr>\n",
       "    <tr>\n",
       "      <th>7</th>\n",
       "      <td>1146</td>\n",
       "      <td>2.893939</td>\n",
       "    </tr>\n",
       "  </tbody>\n",
       "</table>\n",
       "</div>"
      ],
      "text/plain": [
       "     count  count_normalized\n",
       "day                         \n",
       "3      716          1.808081\n",
       "4     1145          2.891414\n",
       "5      533          1.345960\n",
       "6     1056          2.666667\n",
       "7     1146          2.893939"
      ]
     },
     "execution_count": 30,
     "metadata": {},
     "output_type": "execute_result"
    }
   ],
   "source": [
    "boundary_day_count.head()"
   ]
  },
  {
   "cell_type": "markdown",
   "metadata": {},
   "source": [
    "### Testing the Null hypothesis"
   ]
  },
  {
   "cell_type": "markdown",
   "metadata": {},
   "source": [
    "$H_0:$ The average rides (normalized per dock) on any given day that *start* along the north edge of the Citibike service zone in Manhattan (all Citibike stations between 86th St. and 81st St.) is *less than or equal to* that of Citibike stations in a similar, but non-boundary, region of Manhattan (between 81st St. and 72nd St). Timeframe set as a most recent complete 4 weeks. Confidence level $\\alpha = 0.05$\n",
    "\n",
    "##### $H_0: mean(rides/dock)_{boundary} <= mean(rides/dock)_{non-boundary}$"
   ]
  },
  {
   "cell_type": "code",
   "execution_count": 29,
   "metadata": {
    "collapsed": false
   },
   "outputs": [
    {
     "name": "stdout",
     "output_type": "stream",
     "text": [
      "t-statistic is 4.142997 with a p-value of 0.000122\n"
     ]
    }
   ],
   "source": [
    "# run Welch's t-test for two independent samples of differing variance\n",
    "# (we don't know that the boundary and non-boundary samples have equal variance... they likely don't, \n",
    "# so we defer to Welch's t-test instead of a standard student's t-test)\n",
    "t, p = stats.ttest_ind(boundary_day_count.count_normalized,\n",
    "                       non_boundary_day_count.count_normalized,\n",
    "                       equal_var=False)\n",
    "\n",
    "print 't-statistic is %f with a p-value of %f' % (t, p)"
   ]
  },
  {
   "cell_type": "markdown",
   "metadata": {},
   "source": [
    "To interpret this result, we need to find the critical value for our t-test..."
   ]
  },
  {
   "cell_type": "code",
   "execution_count": 28,
   "metadata": {
    "collapsed": false
   },
   "outputs": [
    {
     "name": "stdout",
     "output_type": "stream",
     "text": [
      "degrees of freedom: 54\n"
     ]
    }
   ],
   "source": [
    "# calculate degrees of freedom\n",
    "df = len(boundary_day_count.count_normalized) + len(non_boundary_day_count.count_normalized) - 2\n",
    "print 'degrees of freedom:', df"
   ]
  },
  {
   "cell_type": "markdown",
   "metadata": {},
   "source": [
    "At $df=54$ and $\\alpha = 0.05$, our critical value for the t-statistic is 1.674 (Figure D-7, Statistics in a Nutshell).\n",
    "\n",
    "Because our t-statistic is WELL above our critical value, and p-value is well below our 5% confidence level, we can safely REJECT the null hypothesis. This means that it is NOT TRUE that the boundary zone has lower or equal citbike demand to a non-boundary zone. By extension, our alternate hypothesis (boundary zone has higher citibike demand than non-boundary zone) MAY be true... but we can't know this for sure!"
   ]
  }
 ],
 "metadata": {
  "kernelspec": {
   "display_name": "Python [Root]",
   "language": "python",
   "name": "Python [Root]"
  },
  "language_info": {
   "codemirror_mode": {
    "name": "ipython",
    "version": 3
   },
   "file_extension": ".py",
   "mimetype": "text/x-python",
   "name": "python",
   "nbconvert_exporter": "python",
   "pygments_lexer": "ipython3",
   "version": "3.5.1"
  }
 },
 "nbformat": 4,
 "nbformat_minor": 0
}
