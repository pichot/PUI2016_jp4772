{
 "cells": [
  {
   "cell_type": "markdown",
   "metadata": {},
   "source": [
    "# PUI2016 HW5 - jp4772\n",
    "## Assignment 1"
   ]
  },
  {
   "cell_type": "markdown",
   "metadata": {},
   "source": [
    "## Instructions\n",
    "\n",
    ">Test whether a gaussian model N($\\mu$, $\\sigma$) for the age distribution of citibike drivers is a sensible model, or if you can find a better fit with another distribution.\n",
    "\n",
    ">Use 2 tests: KS, AD, KL, chisq (even though we have not talked about it in detail yet) to do this.\n",
    "\n",
    ">Test at the Normal and a least one other distributions (e.g. Poisson, or Binomial, or Chisq, Lognormal.......)\n",
    "\n",
    ">No skeleton: you are on your own!\n",
    "\n",
    ">Extra credit: Divide your sample geographically: by Borrow + split Manhattan in an Uptown and a Downtown sample (use your discretion to do so, but ZIP code is a good idea) and see if you notice any differences in how the age distribution can be modeled.\n",
    "\n",
    ">GRADING:\n",
    "\n",
    ">Your notebook must:\n",
    "\n",
    ">- state the $H_0$ correcty\n",
    "- generate the distributions correctly.\n",
    "- use the test correctly\n",
    "- make conclusions about the rejection of the Null\n",
    "- each plot must have a caption which describes the plot in terms of Central Limit Theorem"
   ]
  },
  {
   "cell_type": "code",
   "execution_count": 1,
   "metadata": {
    "collapsed": false
   },
   "outputs": [],
   "source": [
    "import numpy as np\n",
    "import pandas as pd\n",
    "import matplotlib.pyplot as plt\n",
    "import scipy.stats\n",
    "import seaborn\n",
    "\n",
    "import os\n",
    "\n",
    "%matplotlib inline"
   ]
  },
  {
   "cell_type": "code",
   "execution_count": 2,
   "metadata": {
    "collapsed": false
   },
   "outputs": [],
   "source": [
    "if os.getenv(\"PUIDATA\"):\n",
    "    data_path = os.getenv(\"PUIDATA\")\n",
    "else:\n",
    "    os.system('mkdir data')\n",
    "    data_path = \"./data\"\n",
    "    \n",
    "# Download trip data for 6 months from Jan 2016 to June 2016. At the time of this writing (Oct 2, 2016), \n",
    "# these are the six latest months available.\n",
    "\n",
    "dates = ['201601', '201602', '201603', '201604', '201605', '201606']\n",
    "data_files = [date + \"-citibike-tripdata.zip\" for date in dates]"
   ]
  },
  {
   "cell_type": "code",
   "execution_count": null,
   "metadata": {
    "collapsed": true
   },
   "outputs": [],
   "source": [
    "# Download files\n",
    "for f in data_files:\n",
    "    os.system(\"curl -o \" + data_path + \"/\" + f + \" https://s3.amazonaws.com/tripdata/\" + f)"
   ]
  },
  {
   "cell_type": "code",
   "execution_count": 3,
   "metadata": {
    "collapsed": true
   },
   "outputs": [],
   "source": [
    "# Load data files into a giant dataframe\n",
    "df = pd.concat([pd.read_csv(data_path + \"/\" + file, header=0) for file in data_files])\n",
    "\n",
    "# Reset index as the concatenation of several files runs havoc\n",
    "df.reset_index(drop=True, inplace=True)"
   ]
  },
  {
   "cell_type": "code",
   "execution_count": 4,
   "metadata": {
    "collapsed": false
   },
   "outputs": [
    {
     "data": {
      "text/html": [
       "<div>\n",
       "<table border=\"1\" class=\"dataframe\">\n",
       "  <thead>\n",
       "    <tr style=\"text-align: right;\">\n",
       "      <th></th>\n",
       "      <th>tripduration</th>\n",
       "      <th>starttime</th>\n",
       "      <th>stoptime</th>\n",
       "      <th>start station id</th>\n",
       "      <th>start station name</th>\n",
       "      <th>start station latitude</th>\n",
       "      <th>start station longitude</th>\n",
       "      <th>end station id</th>\n",
       "      <th>end station name</th>\n",
       "      <th>end station latitude</th>\n",
       "      <th>end station longitude</th>\n",
       "      <th>bikeid</th>\n",
       "      <th>usertype</th>\n",
       "      <th>birth year</th>\n",
       "      <th>gender</th>\n",
       "    </tr>\n",
       "  </thead>\n",
       "  <tbody>\n",
       "    <tr>\n",
       "      <th>0</th>\n",
       "      <td>923</td>\n",
       "      <td>1/1/2016 00:00:41</td>\n",
       "      <td>1/1/2016 00:16:04</td>\n",
       "      <td>268</td>\n",
       "      <td>Howard St &amp; Centre St</td>\n",
       "      <td>40.719105</td>\n",
       "      <td>-73.999733</td>\n",
       "      <td>3002</td>\n",
       "      <td>South End Ave &amp; Liberty St</td>\n",
       "      <td>40.711512</td>\n",
       "      <td>-74.015756</td>\n",
       "      <td>22285</td>\n",
       "      <td>Subscriber</td>\n",
       "      <td>1958.0</td>\n",
       "      <td>1</td>\n",
       "    </tr>\n",
       "    <tr>\n",
       "      <th>1</th>\n",
       "      <td>379</td>\n",
       "      <td>1/1/2016 00:00:45</td>\n",
       "      <td>1/1/2016 00:07:04</td>\n",
       "      <td>476</td>\n",
       "      <td>E 31 St &amp; 3 Ave</td>\n",
       "      <td>40.743943</td>\n",
       "      <td>-73.979661</td>\n",
       "      <td>498</td>\n",
       "      <td>Broadway &amp; W 32 St</td>\n",
       "      <td>40.748549</td>\n",
       "      <td>-73.988084</td>\n",
       "      <td>17827</td>\n",
       "      <td>Subscriber</td>\n",
       "      <td>1969.0</td>\n",
       "      <td>1</td>\n",
       "    </tr>\n",
       "    <tr>\n",
       "      <th>2</th>\n",
       "      <td>589</td>\n",
       "      <td>1/1/2016 00:00:48</td>\n",
       "      <td>1/1/2016 00:10:37</td>\n",
       "      <td>489</td>\n",
       "      <td>10 Ave &amp; W 28 St</td>\n",
       "      <td>40.750664</td>\n",
       "      <td>-74.001768</td>\n",
       "      <td>284</td>\n",
       "      <td>Greenwich Ave &amp; 8 Ave</td>\n",
       "      <td>40.739017</td>\n",
       "      <td>-74.002638</td>\n",
       "      <td>21997</td>\n",
       "      <td>Subscriber</td>\n",
       "      <td>1982.0</td>\n",
       "      <td>2</td>\n",
       "    </tr>\n",
       "    <tr>\n",
       "      <th>3</th>\n",
       "      <td>889</td>\n",
       "      <td>1/1/2016 00:01:06</td>\n",
       "      <td>1/1/2016 00:15:56</td>\n",
       "      <td>268</td>\n",
       "      <td>Howard St &amp; Centre St</td>\n",
       "      <td>40.719105</td>\n",
       "      <td>-73.999733</td>\n",
       "      <td>3002</td>\n",
       "      <td>South End Ave &amp; Liberty St</td>\n",
       "      <td>40.711512</td>\n",
       "      <td>-74.015756</td>\n",
       "      <td>22794</td>\n",
       "      <td>Subscriber</td>\n",
       "      <td>1961.0</td>\n",
       "      <td>2</td>\n",
       "    </tr>\n",
       "    <tr>\n",
       "      <th>4</th>\n",
       "      <td>1480</td>\n",
       "      <td>1/1/2016 00:01:12</td>\n",
       "      <td>1/1/2016 00:25:52</td>\n",
       "      <td>2006</td>\n",
       "      <td>Central Park S &amp; 6 Ave</td>\n",
       "      <td>40.765909</td>\n",
       "      <td>-73.976342</td>\n",
       "      <td>2006</td>\n",
       "      <td>Central Park S &amp; 6 Ave</td>\n",
       "      <td>40.765909</td>\n",
       "      <td>-73.976342</td>\n",
       "      <td>14562</td>\n",
       "      <td>Subscriber</td>\n",
       "      <td>1952.0</td>\n",
       "      <td>1</td>\n",
       "    </tr>\n",
       "  </tbody>\n",
       "</table>\n",
       "</div>"
      ],
      "text/plain": [
       "   tripduration          starttime           stoptime  start station id  \\\n",
       "0           923  1/1/2016 00:00:41  1/1/2016 00:16:04               268   \n",
       "1           379  1/1/2016 00:00:45  1/1/2016 00:07:04               476   \n",
       "2           589  1/1/2016 00:00:48  1/1/2016 00:10:37               489   \n",
       "3           889  1/1/2016 00:01:06  1/1/2016 00:15:56               268   \n",
       "4          1480  1/1/2016 00:01:12  1/1/2016 00:25:52              2006   \n",
       "\n",
       "       start station name  start station latitude  start station longitude  \\\n",
       "0   Howard St & Centre St               40.719105               -73.999733   \n",
       "1         E 31 St & 3 Ave               40.743943               -73.979661   \n",
       "2        10 Ave & W 28 St               40.750664               -74.001768   \n",
       "3   Howard St & Centre St               40.719105               -73.999733   \n",
       "4  Central Park S & 6 Ave               40.765909               -73.976342   \n",
       "\n",
       "   end station id            end station name  end station latitude  \\\n",
       "0            3002  South End Ave & Liberty St             40.711512   \n",
       "1             498          Broadway & W 32 St             40.748549   \n",
       "2             284       Greenwich Ave & 8 Ave             40.739017   \n",
       "3            3002  South End Ave & Liberty St             40.711512   \n",
       "4            2006      Central Park S & 6 Ave             40.765909   \n",
       "\n",
       "   end station longitude  bikeid    usertype  birth year  gender  \n",
       "0             -74.015756   22285  Subscriber      1958.0       1  \n",
       "1             -73.988084   17827  Subscriber      1969.0       1  \n",
       "2             -74.002638   21997  Subscriber      1982.0       2  \n",
       "3             -74.015756   22794  Subscriber      1961.0       2  \n",
       "4             -73.976342   14562  Subscriber      1952.0       1  "
      ]
     },
     "execution_count": 4,
     "metadata": {},
     "output_type": "execute_result"
    }
   ],
   "source": [
    "df.head()"
   ]
  },
  {
   "cell_type": "code",
   "execution_count": 5,
   "metadata": {
    "collapsed": true
   },
   "outputs": [],
   "source": [
    "# Drop all rows where we do not have a birth year\n",
    "df.dropna(inplace=True, subset=['birth year'])"
   ]
  },
  {
   "cell_type": "code",
   "execution_count": 6,
   "metadata": {
    "collapsed": true
   },
   "outputs": [],
   "source": [
    "# Generate age column\n",
    "df['age'] = 2016 - df['birth year']"
   ]
  },
  {
   "cell_type": "code",
   "execution_count": 7,
   "metadata": {
    "collapsed": false
   },
   "outputs": [
    {
     "data": {
      "text/plain": [
       "2444"
      ]
     },
     "execution_count": 7,
     "metadata": {},
     "output_type": "execute_result"
    }
   ],
   "source": [
    "len(df[df['age'] > 86])"
   ]
  },
  {
   "cell_type": "code",
   "execution_count": 8,
   "metadata": {
    "collapsed": true
   },
   "outputs": [],
   "source": [
    "# Over 2400 rides by riders over 86 feels much too high and a data issue.\n",
    "# Only use data for riders under 86. \n",
    "df = df[df['age'] < 86]"
   ]
  },
  {
   "cell_type": "code",
   "execution_count": 9,
   "metadata": {
    "collapsed": true
   },
   "outputs": [],
   "source": [
    "# Drop unneeded columns\n",
    "df.drop(['tripduration',\n",
    "         'starttime', \n",
    "         'stoptime', \n",
    "         'start station id', \n",
    "         'start station name', \n",
    "         'start station latitude',\n",
    "         'start station longitude',\n",
    "         'end station id', \n",
    "         'end station name', \n",
    "         'end station latitude',\n",
    "         'end station longitude',\n",
    "         'bikeid',\n",
    "         'usertype'], axis=1, inplace=True)"
   ]
  },
  {
   "cell_type": "code",
   "execution_count": 10,
   "metadata": {
    "collapsed": false
   },
   "outputs": [
    {
     "data": {
      "text/html": [
       "<div>\n",
       "<table border=\"1\" class=\"dataframe\">\n",
       "  <thead>\n",
       "    <tr style=\"text-align: right;\">\n",
       "      <th></th>\n",
       "      <th>birth year</th>\n",
       "      <th>gender</th>\n",
       "      <th>age</th>\n",
       "    </tr>\n",
       "  </thead>\n",
       "  <tbody>\n",
       "    <tr>\n",
       "      <th>count</th>\n",
       "      <td>5023948</td>\n",
       "      <td>5023948</td>\n",
       "      <td>5023948</td>\n",
       "    </tr>\n",
       "    <tr>\n",
       "      <th>mean</th>\n",
       "      <td>1977.1354</td>\n",
       "      <td>1.2322902</td>\n",
       "      <td>38.864645</td>\n",
       "    </tr>\n",
       "    <tr>\n",
       "      <th>std</th>\n",
       "      <td>11.571701</td>\n",
       "      <td>0.42761181</td>\n",
       "      <td>11.571701</td>\n",
       "    </tr>\n",
       "    <tr>\n",
       "      <th>min</th>\n",
       "      <td>1931</td>\n",
       "      <td>0</td>\n",
       "      <td>16</td>\n",
       "    </tr>\n",
       "    <tr>\n",
       "      <th>25%</th>\n",
       "      <td>1969</td>\n",
       "      <td>1</td>\n",
       "      <td>30</td>\n",
       "    </tr>\n",
       "    <tr>\n",
       "      <th>50%</th>\n",
       "      <td>1980</td>\n",
       "      <td>1</td>\n",
       "      <td>36</td>\n",
       "    </tr>\n",
       "    <tr>\n",
       "      <th>75%</th>\n",
       "      <td>1986</td>\n",
       "      <td>1</td>\n",
       "      <td>47</td>\n",
       "    </tr>\n",
       "    <tr>\n",
       "      <th>max</th>\n",
       "      <td>2000</td>\n",
       "      <td>2</td>\n",
       "      <td>85</td>\n",
       "    </tr>\n",
       "  </tbody>\n",
       "</table>\n",
       "</div>"
      ],
      "text/plain": [
       "       birth year     gender       age\n",
       "count     5023948    5023948   5023948\n",
       "mean    1977.1354  1.2322902 38.864645\n",
       "std     11.571701 0.42761181 11.571701\n",
       "min          1931          0        16\n",
       "25%          1969          1        30\n",
       "50%          1980          1        36\n",
       "75%          1986          1        47\n",
       "max          2000          2        85"
      ]
     },
     "execution_count": 10,
     "metadata": {},
     "output_type": "execute_result"
    }
   ],
   "source": [
    "pd.set_option('display.float_format', '{:.8g}'.format)\n",
    "df.describe()"
   ]
  },
  {
   "cell_type": "code",
   "execution_count": 11,
   "metadata": {
    "collapsed": false
   },
   "outputs": [],
   "source": [
    "# Generate dataframe for \n",
    "dfAge = pd.DataFrame(\n",
    "    data=df.groupby(df.age).count().gender.values,\n",
    "    index=df.groupby(df.age).count().index.astype(\"int64\"),\n",
    "    columns=[\"count\"]\n",
    ")"
   ]
  },
  {
   "cell_type": "code",
   "execution_count": 12,
   "metadata": {
    "collapsed": false
   },
   "outputs": [
    {
     "data": {
      "text/html": [
       "<div>\n",
       "<table border=\"1\" class=\"dataframe\">\n",
       "  <thead>\n",
       "    <tr style=\"text-align: right;\">\n",
       "      <th></th>\n",
       "      <th>count</th>\n",
       "    </tr>\n",
       "  </thead>\n",
       "  <tbody>\n",
       "    <tr>\n",
       "      <th>count</th>\n",
       "      <td>70</td>\n",
       "    </tr>\n",
       "    <tr>\n",
       "      <th>mean</th>\n",
       "      <td>71770.686</td>\n",
       "    </tr>\n",
       "    <tr>\n",
       "      <th>std</th>\n",
       "      <td>66972.235</td>\n",
       "    </tr>\n",
       "    <tr>\n",
       "      <th>min</th>\n",
       "      <td>1</td>\n",
       "    </tr>\n",
       "    <tr>\n",
       "      <th>25%</th>\n",
       "      <td>7210.25</td>\n",
       "    </tr>\n",
       "    <tr>\n",
       "      <th>50%</th>\n",
       "      <td>59035</td>\n",
       "    </tr>\n",
       "    <tr>\n",
       "      <th>75%</th>\n",
       "      <td>114673.25</td>\n",
       "    </tr>\n",
       "    <tr>\n",
       "      <th>max</th>\n",
       "      <td>208572</td>\n",
       "    </tr>\n",
       "  </tbody>\n",
       "</table>\n",
       "</div>"
      ],
      "text/plain": [
       "          count\n",
       "count        70\n",
       "mean  71770.686\n",
       "std   66972.235\n",
       "min           1\n",
       "25%     7210.25\n",
       "50%       59035\n",
       "75%   114673.25\n",
       "max      208572"
      ]
     },
     "execution_count": 12,
     "metadata": {},
     "output_type": "execute_result"
    }
   ],
   "source": [
    "dfAge.describe()"
   ]
  },
  {
   "cell_type": "code",
   "execution_count": 13,
   "metadata": {
    "collapsed": false
   },
   "outputs": [
    {
     "data": {
      "text/plain": [
       "<matplotlib.text.Text at 0x1175f7b38>"
      ]
     },
     "execution_count": 13,
     "metadata": {},
     "output_type": "execute_result"
    },
    {
     "data": {
      "image/png": "[encoded data removed]",
      "text/plain": [
       "<matplotlib.figure.Figure at 0x103f802e8>"
      ]
     },
     "metadata": {},
     "output_type": "display_data"
    }
   ],
   "source": [
    "bar = dfAge[dfAge.index < 86].plot(kind=\"bar\", legend=False)\n",
    "bar.set_ylabel(\"count\")\n",
    "\n",
    "# Display x-label every other line\n",
    "for label in bar.xaxis.get_ticklabels()[1::2]:\n",
    "    label.set_visible(False)\n",
    "    \n",
    "bar.set_xlabel('age')"
   ]
  },
  {
   "cell_type": "markdown",
   "metadata": {},
   "source": [
    "### Figure 1: Distribution of the count per age of Citibike riders from Jan 2016 to Jun 2016"
   ]
  },
  {
   "cell_type": "markdown",
   "metadata": {},
   "source": [
    "## Testing\n",
    "\n",
    "We are trying to know if a normal or poisson distribution would be a good fit for the distribution of Citibike riders for the months of January to June 2016. We'll be using two tests to see if this is the case: a 2-sample KS test and a Pearson's R test. \n",
    "\n",
    "We'll write out a generic Null hypothesis applicable to both distributions and the two tests. It can be read as follows:\n",
    "\n",
    "The distributions of the ages of Citibike riders between January and June 2016 *is equivalent within $\\alpha = 0.5$* to the comparison distribution (normal or poisson).\n",
    "\n",
    "Written as a formula:\n",
    "\n",
    "$$\n",
    "H_0 : \\mu_{citibike} \\simeq \\mu_{comparison}\n",
    "$$"
   ]
  },
  {
   "cell_type": "markdown",
   "metadata": {},
   "source": [
    "## Normal Distribution"
   ]
  },
  {
   "cell_type": "code",
   "execution_count": 14,
   "metadata": {
    "collapsed": false
   },
   "outputs": [],
   "source": [
    "# Generate a normal distribution with the same mean and standard deviation of our citibike dataset\n",
    "normal = np.random.normal(39, 11.5, 5023948)"
   ]
  },
  {
   "cell_type": "code",
   "execution_count": 19,
   "metadata": {
    "collapsed": false
   },
   "outputs": [],
   "source": [
    "# Make all numbers integers (like real ages)\n",
    "nm = normal.astype(\"int64\")"
   ]
  },
  {
   "cell_type": "code",
   "execution_count": 20,
   "metadata": {
    "collapsed": false
   },
   "outputs": [],
   "source": [
    "# Count the unique number of ages\n",
    "np_array = np.unique(nm, return_counts=True)"
   ]
  },
  {
   "cell_type": "code",
   "execution_count": 17,
   "metadata": {
    "collapsed": false
   },
   "outputs": [],
   "source": [
    "dfNormal = pd.DataFrame(\n",
    "    data=np_array[1],\n",
    "    index=np_array[0],\n",
    "    columns=[\"count\"]\n",
    ")"
   ]
  },
  {
   "cell_type": "code",
   "execution_count": 18,
   "metadata": {
    "collapsed": false
   },
   "outputs": [
    {
     "data": {
      "text/plain": [
       "<matplotlib.text.Text at 0x15850bd68>"
      ]
     },
     "execution_count": 18,
     "metadata": {},
     "output_type": "execute_result"
    },
    {
     "data": {
      "image/png": "[encoded data removed]",
      "text/plain": [
       "<matplotlib.figure.Figure at 0x117f1ae48>"
      ]
     },
     "metadata": {},
     "output_type": "display_data"
    }
   ],
   "source": [
    "bar = dfNormal[dfNormal.index < 86].plot(kind=\"bar\", legend=False)\n",
    "bar.set_ylabel(\"count\")\n",
    "\n",
    "# Display x-label every other line\n",
    "for label in bar.xaxis.get_ticklabels()[1::2]:\n",
    "    label.set_visible(False)\n",
    "    \n",
    "bar.set_xlabel('age')"
   ]
  },
  {
   "cell_type": "markdown",
   "metadata": {},
   "source": [
    "### Figure 2: Generated normal distribution of rider ages with mean of 39 and std dev of 12."
   ]
  },
  {
   "cell_type": "markdown",
   "metadata": {},
   "source": [
    "#### KS Test"
   ]
  },
  {
   "cell_type": "code",
   "execution_count": 29,
   "metadata": {
    "collapsed": false
   },
   "outputs": [
    {
     "data": {
      "text/plain": [
       "Ks_2sampResult(statistic=0.27980295566502461, pvalue=0.0016154608493663099)"
      ]
     },
     "execution_count": 29,
     "metadata": {},
     "output_type": "execute_result"
    }
   ],
   "source": [
    "scipy.stats.ks_2samp(dfAge[\"count\"], dfNormal[\"count\"])"
   ]
  },
  {
   "cell_type": "markdown",
   "metadata": {},
   "source": [
    "With such a small KS-statistic, it appears we **cannot** reject the Null hypothesis. As the 2-sample KS test documentation reads:\n",
    "\n",
    "> If the K-S statistic is small or the p-value is high, then we cannot reject the hypothesis that the distributions of the two samples are the same."
   ]
  },
  {
   "cell_type": "markdown",
   "metadata": {},
   "source": [
    "#### Pearson's R"
   ]
  },
  {
   "cell_type": "code",
   "execution_count": 309,
   "metadata": {
    "collapsed": false
   },
   "outputs": [
    {
     "data": {
      "text/plain": [
       "(0.86651262395969986, 3.3442347572660016e-22)"
      ]
     },
     "execution_count": 309,
     "metadata": {},
     "output_type": "execute_result"
    }
   ],
   "source": [
    "scipy.stats.pearsonr(dfAge[\"count\"], dfNormal[(dfNormal.index >= 16) & (dfNormal.index < 86)][\"count\"])"
   ]
  },
  {
   "cell_type": "markdown",
   "metadata": {},
   "source": [
    "A Pearson's R tests for correlation between two sets of data. The closer to 1 (being a perfect correlation), the more correlated the datasets. A correlation of 0.866 is quite high. Thus, once again, we **cannot** reject the Null hypothesis."
   ]
  },
  {
   "cell_type": "markdown",
   "metadata": {},
   "source": [
    "## Poisson Distribution"
   ]
  },
  {
   "cell_type": "code",
   "execution_count": 21,
   "metadata": {
    "collapsed": true
   },
   "outputs": [],
   "source": [
    "# Generate a poisson distribution with the same mean as our sample\n",
    "poisson = np.random.poisson(39, 5024334)"
   ]
  },
  {
   "cell_type": "code",
   "execution_count": 22,
   "metadata": {
    "collapsed": true
   },
   "outputs": [],
   "source": [
    "ps = poisson.astype(\"int64\")"
   ]
  },
  {
   "cell_type": "code",
   "execution_count": 23,
   "metadata": {
    "collapsed": true
   },
   "outputs": [],
   "source": [
    "ps_array = np.unique(poisson, return_counts=True)"
   ]
  },
  {
   "cell_type": "code",
   "execution_count": 24,
   "metadata": {
    "collapsed": true
   },
   "outputs": [],
   "source": [
    "dfPoisson = pd.DataFrame(\n",
    "    data=ps_array[1],\n",
    "    index=ps_array[0],\n",
    "    columns=[\"count\"]\n",
    ")"
   ]
  },
  {
   "cell_type": "code",
   "execution_count": 25,
   "metadata": {
    "collapsed": false
   },
   "outputs": [
    {
     "data": {
      "text/plain": [
       "<matplotlib.text.Text at 0x127945908>"
      ]
     },
     "execution_count": 25,
     "metadata": {},
     "output_type": "execute_result"
    },
    {
     "data": {
      "image/png": "[encoded data removed]",
      "text/plain": [
       "<matplotlib.figure.Figure at 0x147c184e0>"
      ]
     },
     "metadata": {},
     "output_type": "display_data"
    }
   ],
   "source": [
    "bar = dfPoisson[dfPoisson.index < 80].plot(kind=\"bar\", legend=False)\n",
    "bar.set_ylabel(\"count\")\n",
    "\n",
    "# Display x-label every other line\n",
    "for label in bar.xaxis.get_ticklabels()[1::2]:\n",
    "    label.set_visible(False)\n",
    "    \n",
    "bar.set_xlabel('age')"
   ]
  },
  {
   "cell_type": "markdown",
   "metadata": {},
   "source": [
    "### Figure 3: Generated poisson distribution of rider ages with age of 29. "
   ]
  },
  {
   "cell_type": "markdown",
   "metadata": {},
   "source": [
    "#### KS Test"
   ]
  },
  {
   "cell_type": "code",
   "execution_count": 30,
   "metadata": {
    "collapsed": false
   },
   "outputs": [
    {
     "data": {
      "text/plain": [
       "Ks_2sampResult(statistic=0.24126984126984125, pvalue=0.03487672571627716)"
      ]
     },
     "execution_count": 30,
     "metadata": {},
     "output_type": "execute_result"
    }
   ],
   "source": [
    "scipy.stats.ks_2samp(dfAge[\"count\"], dfPoisson[\"count\"])"
   ]
  },
  {
   "cell_type": "markdown",
   "metadata": {},
   "source": [
    "Like the Normal distribution above, the ks statistic in this case is even lower, meaning we once again **cannot** reject the Null hypothesis."
   ]
  },
  {
   "cell_type": "markdown",
   "metadata": {},
   "source": [
    "#### Pearson's R"
   ]
  },
  {
   "cell_type": "code",
   "execution_count": 28,
   "metadata": {
    "collapsed": false,
    "scrolled": true
   },
   "outputs": [
    {
     "data": {
      "text/plain": [
       "(0.62829440342852838, 9.9619360770377361e-08)"
      ]
     },
     "execution_count": 28,
     "metadata": {},
     "output_type": "execute_result"
    }
   ],
   "source": [
    "scipy.stats.pearsonr(dfAge[dfAge.index < 75][\"count\"], dfPoisson[dfPoisson.index >= 16][\"count\"])"
   ]
  },
  {
   "cell_type": "markdown",
   "metadata": {},
   "source": [
    "Though the correlation here is less strong then that of the Normal distribution, it is still not low enough for us to consider the two uncorrelated. Once again, we **reject** the Null hypothesis."
   ]
  }
 ],
 "metadata": {
  "anaconda-cloud": {},
  "kernelspec": {
   "display_name": "Python [Root]",
   "language": "python",
   "name": "Python [Root]"
  },
  "language_info": {
   "codemirror_mode": {
    "name": "ipython",
    "version": 3
   },
   "file_extension": ".py",
   "mimetype": "text/x-python",
   "name": "python",
   "nbconvert_exporter": "python",
   "pygments_lexer": "ipython3",
   "version": "3.5.1"
  }
 },
 "nbformat": 4,
 "nbformat_minor": 0
}
