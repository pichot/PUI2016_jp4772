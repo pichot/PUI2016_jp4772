{
 "cells": [
  {
   "cell_type": "markdown",
   "metadata": {},
   "source": [
    "# PUI2016 HW5 - jp4772\n",
    "## Assignment 3"
   ]
  },
  {
   "cell_type": "markdown",
   "metadata": {},
   "source": [
    "## 1. Do diets help lose more fat than exercise?\n",
    "\n",
    "Ideally, this experiment will have several test groups and a control sample. One test group will have all taken part in the the assigned diet. Another test group will have taken part in exercise. And the control group will have not taken part in either the diet or exercise. To make the experiment as good as possible, the control and the test groups should have similar demographics and human attributes. For example, they should have similar numbers of men and women, a similar distribution of ages, and similar health profiles and fat amounts before the experiment.\n",
    "\n",
    "Since we are comparing two independent variables, our Null hypothesis in this case should read:\n",
    "\n",
    "**The average amount of fat lost for those who diet should be *less than or equal to* the average amout of fat lost for those who exercise.**\n",
    "\n",
    "Written as a forumla, the Null hypothesis is:\n",
    "\n",
    "$$\n",
    "H_0 : \\mu_{diet} \\leq \\mu_{exercise}\n",
    "$$\n",
    "\n",
    "Where $\\mu$ is the average amount of fat lost within the sample."
   ]
  },
  {
   "cell_type": "markdown",
   "metadata": {},
   "source": [
    "## 2. Do Americans trust the president?\n",
    "\n",
    "*POLL RESULTS: On May 16, 1994, Newsweek reported the results of a public opinion poll that asked: “From everything you know about Bill Clinton, does he have the honesty and integrity you expect in a president?” (p. 23). Poll surveyed 518 adults and 233, or 0.45 of them answered yes.*\n",
    "\n",
    "In this case we have a yes/no question asked to a (hopefully) good sample of Americans. The polling question does not ask if a respondent trusts the president. Rather, it asks about their impression of his honesty and integrity in relation to the amount of honesty and intregity they expect from president. Answers to this question can range depending on their expectations of presidential honesty and integrity, as well as their knowledge of Bill Clinton. So, if we are to create a Null hypothesis regarding Americans' trust in the president, we will have to do it in a round about way. A possible Null hypothesis is:\n",
    "\n",
    "**The percent of Americans that rate the honesty and integrity of Bill Clinton as sufficient in a president is *less than or equal to* the percent of Americans that rate the honesty and integrity of Bill Clinton as insufficient in a president.**\n",
    "\n",
    "In other words, if we reject the Null hypothesis, we can say that Americans have sufficient belief in the honesty and integrity of Bill Clinton, ergo that they trust the president. This is a bit of an awkward formulation but it works for the purposes of this exercise.\n",
    "\n",
    "As a forumla, this would be written as:\n",
    "\n",
    "$$\n",
    "H_0 : \\mu_{sufficient} \\leq \\mu_{insufficient}\n",
    "$$"
   ]
  },
  {
   "cell_type": "markdown",
   "metadata": {},
   "source": [
    "## 3. Effectiveness of nicotine patches to quit smoking.\n",
    "\n",
    "In this test, we have one sample group and one control group. Our sample group wears a nicotine patch, the other group wears a placebo patch. Both groups should be made up of smokers with similar human attributes: age, sex, length of smoking addiction, desire to quit, etc. Both groups should be treated the same way in every regard except for the type of patch they are provided.\n",
    "\n",
    "The Null hypothesis in this situation should read:\n",
    "\n",
    "**The rate of successfully quitting smoking for those given a nicotine patch should be *less than or equal to* the rate of successfully quitting smoking for those given a placebo patch.**\n",
    "\n",
    "Written as a forumla, the Null hypothesis is:\n",
    "\n",
    "$$\n",
    "H_0 : \\mu_{nicotine} \\leq \\mu_{placebo}\n",
    "$$\n",
    "\n",
    "Where $\\mu$ is the rate of successful quitters within the sample."
   ]
  },
  {
   "cell_type": "markdown",
   "metadata": {},
   "source": [
    "## 4. Quantify the danger of smoking for pregnant women.\n",
    "\n",
    "A test like this runs into moral questions. It would not be correct to ask a woman to smoke during her preganancy to test it's effect. Rather, to create a sample and control group for this experiment we will need to find women who tell us that they smoked during their preganancy and those that did not. It will be hard to control for all variables here, but a best effort should yield two groups with similar health attributes. Since we're looking at IQ, the two groups of women should have similar distributions in IQ.\n",
    "\n",
    "Then, for the children of these 2 groups, we will need to test their IQ from ages 1 to 4. The assumption underlying this experiment is that smoking hurts IQ. Our Null hypothesis is:\n",
    "\n",
    "**The average IQ of children ages 1 to 4 whose mothers smoked during their pregnancy should be *greater than or equal to* The average IQ of children ages 1 to 4 whose mothers did not smoked during their pregnancy.**\n",
    "\n",
    "Written as a forumla, the Null hypothesis is:\n",
    "\n",
    "$$\n",
    "H_0 : \\mu_{smoking} \\geq \\mu_{non-smoking}\n",
    "$$\n",
    "\n",
    "Where $\\mu$ is the average IQ of children ages 1 to 4 within the sample."
   ]
  }
 ],
 "metadata": {
  "anaconda-cloud": {},
  "kernelspec": {
   "display_name": "Python [Root]",
   "language": "python",
   "name": "Python [Root]"
  },
  "language_info": {
   "codemirror_mode": {
    "name": "ipython",
    "version": 3
   },
   "file_extension": ".py",
   "mimetype": "text/x-python",
   "name": "python",
   "nbconvert_exporter": "python",
   "pygments_lexer": "ipython3",
   "version": "3.5.1"
  }
 },
 "nbformat": 4,
 "nbformat_minor": 0
}
