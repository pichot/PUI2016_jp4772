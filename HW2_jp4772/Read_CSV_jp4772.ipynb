{
 "cells": [
  {
   "cell_type": "code",
   "execution_count": 3,
   "metadata": {
    "collapsed": false
   },
   "outputs": [
    {
     "name": "stdout",
     "output_type": "stream",
     "text": [
      "/gws/open/NYCOpenData/nycopendata/data\n"
     ]
    }
   ],
   "source": [
    "# Get environment variable\n",
    "from __future__ import print_function\n",
    "import os\n",
    "import numpy as np\n",
    "import pandas as pd\n",
    "\n",
    "dfdata = os.getenv(\"DFDATA\")\n",
    "\n",
    "print (dfdata)"
   ]
  },
  {
   "cell_type": "markdown",
   "metadata": {},
   "source": [
    "## Department of Buildings Applications\n",
    "\n",
    "This data is the NYC Department of Building's Job Application Filings. It is a list of all applications to work on buildings throughout New York, with information about the owner, what kind of work is being done, who is doing the work, and other related information.\n",
    "\n",
    "The DOB charges a fee for an job application. I thought it might be interesting to compare the fee to the proposed height of the building and see if there is some sort of correlation or trend."
   ]
  },
  {
   "cell_type": "code",
   "execution_count": 21,
   "metadata": {
    "collapsed": false
   },
   "outputs": [
    {
     "name": "stdout",
     "output_type": "stream",
     "text": [
      "Index([u'Job #', u'Doc #', u'Borough', u'House #', u'Street Name', u'Block',\n",
      "       u'Lot', u'Bin #', u'Job Type', u'Job Status', u'Job Status Descrp',\n",
      "       u'Latest Action Date', u'Building Type', u'Community - Board',\n",
      "       u'Cluster', u'Landmarked', u'Adult Estab', u'Loft Board', u'City Owned',\n",
      "       u'Little e', u'PC Filed', u'eFiling Filed', u'Plumbing', u'Mechanical',\n",
      "       u'Boiler', u'Fuel Burning', u'Fuel Storage', u'Standpipe', u'Sprinkler',\n",
      "       u'Fire Alarm', u'Equipment', u'Fire Suppression', u'Curb Cut', u'Other',\n",
      "       u'Other Description', u'Applicant's First Name',\n",
      "       u'Applicant's Last Name', u'Applicant Professional Title',\n",
      "       u'Applicant License #', u'Professional Cert', u'Pre- Filing Date',\n",
      "       u'Paid', u'Fully Paid', u'Assigned', u'Approved', u'Fully Permitted',\n",
      "       u'Initial Cost', u'Total Est. Fee', u'Fee Status',\n",
      "       u'Existing Zoning Sqft', u'Proposed Zoning Sqft', u'Horizontal Enlrgmt',\n",
      "       u'Vertical Enlrgmt', u'Enlargement SQ Footage', u'Street Frontage',\n",
      "       u'ExistingNo. of Stories', u'Proposed No. of Stories',\n",
      "       u'Existing Height', u'Proposed Height', u'Existing Dwelling Units',\n",
      "       u'Proposed Dwelling Units', u'Existing Occupancy',\n",
      "       u'Proposed Occupancy', u'Site Fill', u'Zoning Dist1', u'Zoning Dist2',\n",
      "       u'Zoning Dist3', u'Special District 1', u'Special District 2',\n",
      "       u'Owner Type', u'Non-Profit', u'Owner's First Name',\n",
      "       u'Owner's Last Name', u'Owner's Business Name', u'Owner's House Number',\n",
      "       u'Owner'sHouse Street Name', u'City ', u'State', u'Zip',\n",
      "       u'Owner'sPhone #', u'Job Description', u'DOBRunDate'],\n",
      "      dtype='object')\n"
     ]
    }
   ],
   "source": [
    "# Import CSV\n",
    "data = pd.read_csv('/gws/open/NYCOpenData/nycopendata/data/ic3t-wcy2/1473437392/ic3t-wcy2.csv')\n",
    "\n",
    "print (data.columns)"
   ]
  },
  {
   "cell_type": "code",
   "execution_count": 11,
   "metadata": {
    "collapsed": false
   },
   "outputs": [
    {
     "name": "stdout",
     "output_type": "stream",
     "text": [
      "       Job #  Doc #        Borough       House #  \\\n",
      "0  121577873      2      MANHATTAN  386            \n",
      "1  520129502      1  STATEN ISLAND  107            \n",
      "2  121601560      1      MANHATTAN  63             \n",
      "\n",
      "                        Street Name  Block   Lot      Bin # Job Type  \\\n",
      "0  PARK AVENUE SOUTH                   857  38.0  1016890.0       A2   \n",
      "1  KNOX PLACE                          342   1.0  5161350.0       A3   \n",
      "2  WEST 131 STREET                    1729   9.0  1053831.0       A2   \n",
      "\n",
      "  Job Status                         Job Status Descrp Latest Action Date  \\\n",
      "0          D  APPLICATION PROCESSED - ENTIRE                   04/25/2013   \n",
      "1          A  PRE-FILING                                       04/25/2013   \n",
      "2          Q  PERMIT ISSUED - PARTIAL JOB                      04/25/2013   \n",
      "\n",
      "  Building Type Community - Board Cluster Landmarked Adult Estab Loft Board  \\\n",
      "0         OTHER               105     NaN        NaN         NaN        NaN   \n",
      "1  1-2-3 FAMILY               501     NaN        NaN         NaN        NaN   \n",
      "2         OTHER               110     NaN        NaN         NaN        NaN   \n",
      "\n",
      "  City Owned Little e  PC Filed eFiling Filed Plumbing Mechanical Boiler  \\\n",
      "0        NaN      NaN       NaN             Y        X          X          \n",
      "1        NaN      NaN       NaN             Y                              \n",
      "2        NaN      NaN       NaN             Y        X                     \n",
      "\n",
      "  Fuel Burning Fuel Storage Standpipe Sprinkler Fire Alarm Equipment  \\\n",
      "0                                                                      \n",
      "1                                                                      \n",
      "2                                                                      \n",
      "\n",
      "  Fire Suppression Curb Cut Other Other Description Applicant's First Name  \\\n",
      "0                                                          DOUGLAS           \n",
      "1                               X   BPP                    STEVEN            \n",
      "2                               X   GEN. CONSTR.           ASHRAF            \n",
      "\n",
      "            Applicant's Last Name Applicant Professional Title  \\\n",
      "0  MASS                                                     PE   \n",
      "1  SAVINO                                                   RA   \n",
      "2  ALI                                                      PE   \n",
      "\n",
      "  Applicant License # Professional Cert Pre- Filing Date        Paid  \\\n",
      "0             0058375               NaN       04/25/2013  04/25/2013   \n",
      "1             0025259               NaN       04/25/2013         NaN   \n",
      "2             0084178                 Y       04/25/2013  04/25/2013   \n",
      "\n",
      "   Fully Paid Assigned    Approved Fully Permitted Initial Cost  \\\n",
      "0  04/25/2013      NaN         NaN             NaN    $75000.00   \n",
      "1         NaN      NaN         NaN             NaN        $0.00   \n",
      "2  04/25/2013      NaN  04/25/2013             NaN    $30000.00   \n",
      "\n",
      "  Total Est. Fee Fee Status  Existing Zoning Sqft  Proposed Zoning Sqft  \\\n",
      "0        $986.00   STANDARD                   0.0                   0.0   \n",
      "1       $1144.00   STANDARD                   0.0                   0.0   \n",
      "2        $522.50   STANDARD                   0.0                   0.0   \n",
      "\n",
      "  Horizontal Enlrgmt Vertical Enlrgmt  Enlargement SQ Footage  \\\n",
      "0                NaN              NaN                     0.0   \n",
      "1                NaN              NaN                     0.0   \n",
      "2                NaN              NaN                     0.0   \n",
      "\n",
      "   Street Frontage  ExistingNo. of Stories  Proposed No. of Stories  \\\n",
      "0              0.0                     0.0                      0.0   \n",
      "1            143.0                     0.0                      0.0   \n",
      "2              0.0                     5.0                      5.0   \n",
      "\n",
      "   Existing Height  Proposed Height Existing Dwelling Units  \\\n",
      "0              0.0              0.0                           \n",
      "1              0.0              0.0                           \n",
      "2             54.0             54.0                      20   \n",
      "\n",
      "  Proposed Dwelling Units Existing Occupancy Proposed Occupancy  \\\n",
      "0                                                                 \n",
      "1                                                                 \n",
      "2                      20               RES                RES    \n",
      "\n",
      "                                  Site Fill  Zoning Dist1 Zoning Dist2  \\\n",
      "0                                       NaN           NaN          NaN   \n",
      "1                                       NaN  R2                    NaN   \n",
      "2  NOT APPLICABLE                            R7-2                  NaN   \n",
      "\n",
      "  Zoning Dist3 Special District 1 Special District 2  Owner Type Non-Profit  \\\n",
      "0          NaN                NaN                NaN         NaN        NaN   \n",
      "1          NaN                NaN                NaN         NaN        NaN   \n",
      "2          NaN                NaN                NaN         NaN        NaN   \n",
      "\n",
      "  Owner's First Name               Owner's Last Name  \\\n",
      "0    JAMES            MIGLIORE                         \n",
      "1    DAVID            BLUMENBERG                       \n",
      "2    JEREMIE          MARKOWITZ                        \n",
      "\n",
      "              Owner's Business Name Owner's House Number  \\\n",
      "0  MACKLOWE MANAGEMENT                      126            \n",
      "1  NA                                       107            \n",
      "2  635 RIVERSIDE DRIVE NY LLC               619            \n",
      "\n",
      "           Owner'sHouse Street Name            City  State    Zip  \\\n",
      "0  EAST 56TH STREET                  NEW YORK           NY  10222   \n",
      "1  KNOX PLACE                        STATEN ISLAND      NY  10314   \n",
      "2  WEST 54TH STREET                  NEW YORK           NY  10016   \n",
      "\n",
      "  Owner'sPhone #                                    Job Description  \\\n",
      "0     2125545837  GENERAL MECHANICAL & PLUMBING MODIFICATIONS AS...   \n",
      "1     3477398892  BUILDERS PAVEMENT PLAN 143 LF.                ...   \n",
      "2     2127652555  GENERAL CONSTRUCTION TO INCLUDE NEW PARTITIONS...   \n",
      "\n",
      "               DOBRunDate  \n",
      "0  04/26/2013 12:00:00 AM  \n",
      "1  04/26/2013 12:00:00 AM  \n",
      "2  04/26/2013 12:00:00 AM  \n"
     ]
    }
   ],
   "source": [
    "# Show me ALL THE COLUMNS\n",
    "pd.set_option('max_columns', 100)\n",
    "\n",
    "# Print top 3 rows\n",
    "print (data.head(3))"
   ]
  },
  {
   "cell_type": "code",
   "execution_count": 34,
   "metadata": {
    "collapsed": false
   },
   "outputs": [
    {
     "name": "stdout",
     "output_type": "stream",
     "text": [
      "        height        fee\n",
      "0          0.0    $986.00\n",
      "1          0.0   $1144.00\n",
      "2         54.0    $522.50\n",
      "3        120.0    $225.00\n",
      "4         64.0    $389.50\n",
      "5       1250.0  $31762.40\n",
      "6         36.0    $316.50\n",
      "7        300.0   $1727.60\n",
      "8        398.0    $160.00\n",
      "9         16.0    $265.00\n",
      "10        60.0    $440.10\n",
      "11        28.0    $419.50\n",
      "12        15.0    $764.90\n",
      "13        12.0    $316.50\n",
      "14        15.0    $280.00\n",
      "15         0.0    $472.00\n",
      "16        75.0   $1181.70\n",
      "17        52.0    $265.00\n",
      "18        24.0    $295.90\n",
      "19        25.0    $207.25\n",
      "20       101.0    $225.00\n",
      "21       520.0    $160.00\n",
      "22        26.0   $1063.60\n",
      "23        60.0    $934.50\n",
      "24       180.0    $440.00\n",
      "25        33.0    $326.80\n",
      "26         0.0    $378.30\n",
      "27       546.0    $635.80\n",
      "28       200.0   $5466.50\n",
      "29        15.0    $347.40\n",
      "...        ...        ...\n",
      "246232    53.0    $160.00\n",
      "246233   140.0   $4745.50\n",
      "246234    60.0    $286.50\n",
      "246235    24.0    $285.60\n",
      "246236    88.0    $160.00\n",
      "246237    26.0    $145.45\n",
      "246238    27.0    $217.55\n",
      "246239    23.0   $1465.30\n",
      "246240    44.0   $1264.10\n",
      "246241   145.0   $1439.40\n",
      "246242    13.0    $225.00\n",
      "246243    20.0    $225.00\n",
      "246244    12.0    $471.00\n",
      "246245   110.0    $250.00\n",
      "246246   160.0    $195.00\n",
      "246247    35.0    $130.00\n",
      "246248    35.0    $692.80\n",
      "246249    55.0   $3128.40\n",
      "246250    40.0    $378.30\n",
      "246251    26.0    $100.00\n",
      "246252    30.0    $677.00\n",
      "246253    25.0    $160.00\n",
      "246254   174.0    $190.00\n",
      "246255    38.0    $552.65\n",
      "246256    28.0    $227.85\n",
      "246257    55.0    $347.40\n",
      "246258  1269.0    $160.00\n",
      "246259   120.0    $522.50\n",
      "246260    25.0    $207.25\n",
      "246261    66.0    $295.90\n",
      "\n",
      "[246262 rows x 2 columns]\n"
     ]
    }
   ],
   "source": [
    "# Remove all but two numerical columns and rename them\n",
    "\n",
    "num_df = data[['Proposed Height', 'Total Est. Fee']]\n",
    "num_df.rename(columns={'Proposed Height': 'height', 'Total Est. Fee': 'fee'}, inplace=True)\n",
    "\n",
    "print (num_df)"
   ]
  },
  {
   "cell_type": "code",
   "execution_count": 46,
   "metadata": {
    "collapsed": false
   },
   "outputs": [
    {
     "name": "stderr",
     "output_type": "stream",
     "text": [
      "/opt/rh/anaconda/root/envs/PUI2016_Python2/lib/python2.7/site-packages/ipykernel/__main__.py:1: SettingWithCopyWarning: \n",
      "A value is trying to be set on a copy of a slice from a DataFrame.\n",
      "Try using .loc[row_indexer,col_indexer] = value instead\n",
      "\n",
      "See the caveats in the documentation: http://pandas.pydata.org/pandas-docs/stable/indexing.html#indexing-view-versus-copy\n",
      "  if __name__ == '__main__':\n"
     ]
    }
   ],
   "source": [
    "# Convert dollar sign fee column into float\n",
    "num_df[\"fee\"] = pd.to_numeric(num_df[\"fee\"].replace('[\\$,)]','', regex=True))"
   ]
  },
  {
   "cell_type": "code",
   "execution_count": 48,
   "metadata": {
    "collapsed": false
   },
   "outputs": [
    {
     "name": "stderr",
     "output_type": "stream",
     "text": [
      "/opt/rh/anaconda/root/envs/PUI2016_Python2/lib/python2.7/site-packages/ipykernel/__main__.py:1: SettingWithCopyWarning: \n",
      "A value is trying to be set on a copy of a slice from a DataFrame\n",
      "\n",
      "See the caveats in the documentation: http://pandas.pydata.org/pandas-docs/stable/indexing.html#indexing-view-versus-copy\n",
      "  if __name__ == '__main__':\n"
     ]
    }
   ],
   "source": [
    "# Drop all observations with a building height of 0\n",
    "num_df.drop(num_df.query('height == 0.0').index.values, inplace=True)"
   ]
  },
  {
   "cell_type": "code",
   "execution_count": 49,
   "metadata": {
    "collapsed": false
   },
   "outputs": [
    {
     "data": {
      "text/html": [
       "<div>\n",
       "<table border=\"1\" class=\"dataframe\">\n",
       "  <thead>\n",
       "    <tr style=\"text-align: right;\">\n",
       "      <th></th>\n",
       "      <th>height</th>\n",
       "      <th>fee</th>\n",
       "    </tr>\n",
       "  </thead>\n",
       "  <tbody>\n",
       "    <tr>\n",
       "      <th>2</th>\n",
       "      <td>54.0</td>\n",
       "      <td>522.5</td>\n",
       "    </tr>\n",
       "    <tr>\n",
       "      <th>3</th>\n",
       "      <td>120.0</td>\n",
       "      <td>225.0</td>\n",
       "    </tr>\n",
       "    <tr>\n",
       "      <th>4</th>\n",
       "      <td>64.0</td>\n",
       "      <td>389.5</td>\n",
       "    </tr>\n",
       "  </tbody>\n",
       "</table>\n",
       "</div>"
      ],
      "text/plain": [
       "   height    fee\n",
       "2    54.0  522.5\n",
       "3   120.0  225.0\n",
       "4    64.0  389.5"
      ]
     },
     "execution_count": 49,
     "metadata": {},
     "output_type": "execute_result"
    }
   ],
   "source": [
    "num_df.head(3)"
   ]
  },
  {
   "cell_type": "code",
   "execution_count": 76,
   "metadata": {
    "collapsed": false
   },
   "outputs": [
    {
     "data": {
      "image/png": "[encoded data removed]",
      "text/plain": [
       "<matplotlib.figure.Figure at 0x7effbfe39510>"
      ]
     },
     "metadata": {},
     "output_type": "display_data"
    }
   ],
   "source": [
    "# Plot the data\n",
    "import matplotlib.pyplot as plt\n",
    "%matplotlib inline\n",
    "\n",
    "plt.scatter(num_df['fee'], num_df['height'])\n",
    "\n",
    "plt.axis([0.0, 75000.0, 0.0, 2000.0])\n",
    "\n",
    "plt.title(\"Height of Building compared with Estimated Building Fee\")\n",
    "\n",
    "plt.ylabel('Height of Building (feet)')\n",
    "plt.xlabel('Estimated Building Fee (in dollars)')\n",
    "\n",
    "plt.show()"
   ]
  },
  {
   "cell_type": "markdown",
   "metadata": {},
   "source": [
    "The above plot visually explores if there is any correlation between the height of a building and the Estimated Building Fee issued by the Department of Buildings. Interestingly (or perhaps simply curiously), there does not seem to be a strong correlation between building height and fee. "
   ]
  },
  {
   "cell_type": "markdown",
   "metadata": {},
   "source": [
    "## Extra Credit Attempt"
   ]
  },
  {
   "cell_type": "code",
   "execution_count": 4,
   "metadata": {
    "collapsed": false
   },
   "outputs": [
    {
     "name": "stderr",
     "output_type": "stream",
     "text": [
      "/opt/rh/anaconda/root/envs/PUI2016_Python2/lib/python2.7/site-packages/IPython/core/interactiveshell.py:2717: DtypeWarning: Columns (13,14,16,19,38,59,60,78,79) have mixed types. Specify dtype option on import or set low_memory=False.\n",
      "  interactivity=interactivity, compiler=compiler, result=result)\n"
     ]
    },
    {
     "name": "stdout",
     "output_type": "stream",
     "text": [
      "               DOBRunDate    Zip\n",
      "0  04/26/2013 12:00:00 AM  10222\n",
      "1  04/26/2013 12:00:00 AM  10314\n",
      "2  04/26/2013 12:00:00 AM  10016\n"
     ]
    }
   ],
   "source": [
    "# Isolate the date/time column with another numerical column\n",
    "\n",
    "df = pd.read_csv(\"/gws/open/NYCOpenData/nycopendata/data/ic3t-wcy2/1473437392/ic3t-wcy2.csv\")\n",
    "\n",
    "date_zip = df[[\"DOBRunDate\", \"Zip\"]]\n",
    "print (date_zip.head(3))"
   ]
  },
  {
   "cell_type": "code",
   "execution_count": 6,
   "metadata": {
    "collapsed": false
   },
   "outputs": [
    {
     "name": "stderr",
     "output_type": "stream",
     "text": [
      "/opt/rh/anaconda/root/envs/PUI2016_Python2/lib/python2.7/site-packages/pandas/core/indexing.py:288: SettingWithCopyWarning: \n",
      "A value is trying to be set on a copy of a slice from a DataFrame.\n",
      "Try using .loc[row_indexer,col_indexer] = value instead\n",
      "\n",
      "See the caveats in the documentation: http://pandas.pydata.org/pandas-docs/stable/indexing.html#indexing-view-versus-copy\n",
      "  self.obj[key] = _infer_fill_value(value)\n",
      "/opt/rh/anaconda/root/envs/PUI2016_Python2/lib/python2.7/site-packages/pandas/core/indexing.py:465: SettingWithCopyWarning: \n",
      "A value is trying to be set on a copy of a slice from a DataFrame.\n",
      "Try using .loc[row_indexer,col_indexer] = value instead\n",
      "\n",
      "See the caveats in the documentation: http://pandas.pydata.org/pandas-docs/stable/indexing.html#indexing-view-versus-copy\n",
      "  self.obj[item] = s\n"
     ]
    }
   ],
   "source": [
    "# Convert DOBRunDate to correct datetime\n",
    "\n",
    "date_zip.loc[:, \"date\"] = pd.to_datetime(df[\"DOBRunDate\"], format=\"%m/%d/%Y %I:%M:%S %p\", errors='coerce')\n",
    "date_zip.loc[:, \"zip_code\"] = date_zip[\"Zip\"].values.astype('int')"
   ]
  },
  {
   "cell_type": "code",
   "execution_count": 7,
   "metadata": {
    "collapsed": false
   },
   "outputs": [
    {
     "name": "stderr",
     "output_type": "stream",
     "text": [
      "/opt/rh/anaconda/root/envs/PUI2016_Python2/lib/python2.7/site-packages/ipykernel/__main__.py:4: SettingWithCopyWarning: \n",
      "A value is trying to be set on a copy of a slice from a DataFrame\n",
      "\n",
      "See the caveats in the documentation: http://pandas.pydata.org/pandas-docs/stable/indexing.html#indexing-view-versus-copy\n"
     ]
    }
   ],
   "source": [
    "# Drop rows with NaN\n",
    "\n",
    "drop_rows = date_zip[np.isnan(date_zip['zip_code'])].index.values\n",
    "date_zip.drop(drop_rows, inplace=True)"
   ]
  },
  {
   "cell_type": "code",
   "execution_count": 8,
   "metadata": {
    "collapsed": false
   },
   "outputs": [
    {
     "name": "stderr",
     "output_type": "stream",
     "text": [
      "/opt/rh/anaconda/root/envs/PUI2016_Python2/lib/python2.7/site-packages/ipykernel/__main__.py:2: SettingWithCopyWarning: \n",
      "A value is trying to be set on a copy of a slice from a DataFrame\n",
      "\n",
      "See the caveats in the documentation: http://pandas.pydata.org/pandas-docs/stable/indexing.html#indexing-view-versus-copy\n",
      "  from ipykernel import kernelapp as app\n"
     ]
    }
   ],
   "source": [
    "drop_rows = date_zip.query('20100101 > date').index.values\n",
    "date_zip.drop(drop_rows, inplace=True)"
   ]
  },
  {
   "cell_type": "code",
   "execution_count": 9,
   "metadata": {
    "collapsed": false
   },
   "outputs": [
    {
     "name": "stderr",
     "output_type": "stream",
     "text": [
      "/opt/rh/anaconda/root/envs/PUI2016_Python2/lib/python2.7/site-packages/ipykernel/__main__.py:2: SettingWithCopyWarning: \n",
      "A value is trying to be set on a copy of a slice from a DataFrame\n",
      "\n",
      "See the caveats in the documentation: http://pandas.pydata.org/pandas-docs/stable/indexing.html#indexing-view-versus-copy\n",
      "  from ipykernel import kernelapp as app\n"
     ]
    }
   ],
   "source": [
    "drop_rows = date_zip.query('zip_code == 0').index.values\n",
    "date_zip.drop(drop_rows, inplace=True)"
   ]
  },
  {
   "cell_type": "code",
   "execution_count": 10,
   "metadata": {
    "collapsed": false
   },
   "outputs": [
    {
     "data": {
      "text/plain": [
       "array(['2013-04-26T00:00:00.000000000', '2013-04-26T00:00:00.000000000',\n",
       "       '2013-04-26T00:00:00.000000000', ...,\n",
       "       '2016-09-10T00:00:00.000000000', '2016-09-10T00:00:00.000000000',\n",
       "       '2016-09-10T00:00:00.000000000'], dtype='datetime64[ns]')"
      ]
     },
     "execution_count": 10,
     "metadata": {},
     "output_type": "execute_result"
    }
   ],
   "source": [
    "# date_zip[date_zip[\"zip_code\"] < 1000]\n",
    "\n",
    "date_zip[\"date\"].values"
   ]
  },
  {
   "cell_type": "code",
   "execution_count": 40,
   "metadata": {
    "collapsed": false
   },
   "outputs": [
    {
     "data": {
      "image/png": "[encoded data removed]",
      "text/plain": [
       "<matplotlib.figure.Figure at 0x7f8d54f0a150>"
      ]
     },
     "metadata": {},
     "output_type": "display_data"
    }
   ],
   "source": [
    "# Plot date\n",
    "\n",
    "## Note: it appears that pylab use is discouraged by the matplotlib community\n",
    "## http://matplotlib.org/faq/usage_faq.html#matplotlib-pyplot-and-pylab-how-are-they-related\n",
    "\n",
    "import matplotlib.pyplot as plt\n",
    "\n",
    "plt.plot_date(date_zip['date'], date_zip['zip_code'])\n",
    "\n",
    "plt.xticks(rotation=90)\n",
    "plt.axis(['20130101', '20161201', 0, 5000])\n",
    "\n",
    "plt.title(\"Zip Code of DOB Application by Date\")\n",
    "\n",
    "plt.xlabel('Date')\n",
    "plt.ylabel('Zip Code')\n",
    "\n",
    "plt.show()"
   ]
  },
  {
   "cell_type": "markdown",
   "metadata": {},
   "source": [
    "There does not appear to be a particularly strong correlation between the zip code of a DOB building application and the date."
   ]
  }
 ],
 "metadata": {
  "kernelspec": {
   "display_name": "PUI2016_Python2",
   "language": "python",
   "name": "pui2016_python2"
  },
  "language_info": {
   "codemirror_mode": {
    "name": "ipython",
    "version": 2
   },
   "file_extension": ".py",
   "mimetype": "text/x-python",
   "name": "python",
   "nbconvert_exporter": "python",
   "pygments_lexer": "ipython2",
   "version": "2.7.12"
  }
 },
 "nbformat": 4,
 "nbformat_minor": 0
}
