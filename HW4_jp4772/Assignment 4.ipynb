{
 "cells": [
  {
   "cell_type": "markdown",
   "metadata": {},
   "source": [
    "# PUI2016 HW4 - jp4772\n",
    "## Assignment 4"
   ]
  },
  {
   "cell_type": "code",
   "execution_count": 91,
   "metadata": {
    "collapsed": false
   },
   "outputs": [],
   "source": [
    "import numpy as np\n",
    "import pandas as pd\n",
    "import matplotlib.pyplot as plt\n",
    "import scipy.stats\n",
    "\n",
    "import os\n",
    "\n",
    "%matplotlib inline"
   ]
  },
  {
   "cell_type": "markdown",
   "metadata": {},
   "source": [
    "I will be testing the distribution of Citibike rider ages in two sets:\n",
    "\n",
    "- male and female\n",
    "- day and night\n",
    "\n",
    "Using 3 tests: KS, Pearson's, and Spearman's.\n",
    "\n",
    "The significance level for all 3 tests will be $\\alpha = 0.05$."
   ]
  },
  {
   "cell_type": "markdown",
   "metadata": {},
   "source": [
    "## Data Download and Prep"
   ]
  },
  {
   "cell_type": "code",
   "execution_count": 129,
   "metadata": {
    "collapsed": false
   },
   "outputs": [],
   "source": [
    "if os.getenv(\"PUIDATA\"):\n",
    "    data_path = os.getenv(\"PUIDATA\")\n",
    "else:\n",
    "    os.system('mkdir data')\n",
    "    data_path = \"./data\"\n",
    "    \n",
    "# Download trip data for 6 months from Jan 2016 to June 2016. At the time of this writing (Oct 2, 2016), \n",
    "# these are the six latest months available.\n",
    "\n",
    "dates = ['201601', '201602', '201603', '201604', '201605', '201606']\n",
    "data_files = [date + \"-citibike-tripdata.zip\" for date in dates]\n",
    "\n",
    "for f in data_files:\n",
    "    os.system(\"curl -o \" + data_path + \"/\" + f + \" https://s3.amazonaws.com/tripdata/\" + f)"
   ]
  },
  {
   "cell_type": "code",
   "execution_count": 239,
   "metadata": {
    "collapsed": true
   },
   "outputs": [],
   "source": [
    "# Load data files into a giant dataframe\n",
    "df = pd.concat([pd.read_csv(data_path + \"/\" + file, header=0) for file in data_files])\n",
    "\n",
    "# Reset index as the concatenation of several files runs havoc\n",
    "df.reset_index(drop=True, inplace=True)"
   ]
  },
  {
   "cell_type": "code",
   "execution_count": 240,
   "metadata": {
    "collapsed": false
   },
   "outputs": [
    {
     "data": {
      "text/html": [
       "<div>\n",
       "<table border=\"1\" class=\"dataframe\">\n",
       "  <thead>\n",
       "    <tr style=\"text-align: right;\">\n",
       "      <th></th>\n",
       "      <th>tripduration</th>\n",
       "      <th>starttime</th>\n",
       "      <th>stoptime</th>\n",
       "      <th>start station id</th>\n",
       "      <th>start station name</th>\n",
       "      <th>start station latitude</th>\n",
       "      <th>start station longitude</th>\n",
       "      <th>end station id</th>\n",
       "      <th>end station name</th>\n",
       "      <th>end station latitude</th>\n",
       "      <th>end station longitude</th>\n",
       "      <th>bikeid</th>\n",
       "      <th>usertype</th>\n",
       "      <th>birth year</th>\n",
       "      <th>gender</th>\n",
       "    </tr>\n",
       "  </thead>\n",
       "  <tbody>\n",
       "    <tr>\n",
       "      <th>0</th>\n",
       "      <td>923</td>\n",
       "      <td>1/1/2016 00:00:41</td>\n",
       "      <td>1/1/2016 00:16:04</td>\n",
       "      <td>268</td>\n",
       "      <td>Howard St &amp; Centre St</td>\n",
       "      <td>40.719105</td>\n",
       "      <td>-73.999733</td>\n",
       "      <td>3002</td>\n",
       "      <td>South End Ave &amp; Liberty St</td>\n",
       "      <td>40.711512</td>\n",
       "      <td>-74.015756</td>\n",
       "      <td>22285</td>\n",
       "      <td>Subscriber</td>\n",
       "      <td>1958</td>\n",
       "      <td>1</td>\n",
       "    </tr>\n",
       "    <tr>\n",
       "      <th>1</th>\n",
       "      <td>379</td>\n",
       "      <td>1/1/2016 00:00:45</td>\n",
       "      <td>1/1/2016 00:07:04</td>\n",
       "      <td>476</td>\n",
       "      <td>E 31 St &amp; 3 Ave</td>\n",
       "      <td>40.743943</td>\n",
       "      <td>-73.979661</td>\n",
       "      <td>498</td>\n",
       "      <td>Broadway &amp; W 32 St</td>\n",
       "      <td>40.748549</td>\n",
       "      <td>-73.988084</td>\n",
       "      <td>17827</td>\n",
       "      <td>Subscriber</td>\n",
       "      <td>1969</td>\n",
       "      <td>1</td>\n",
       "    </tr>\n",
       "    <tr>\n",
       "      <th>2</th>\n",
       "      <td>589</td>\n",
       "      <td>1/1/2016 00:00:48</td>\n",
       "      <td>1/1/2016 00:10:37</td>\n",
       "      <td>489</td>\n",
       "      <td>10 Ave &amp; W 28 St</td>\n",
       "      <td>40.750664</td>\n",
       "      <td>-74.001768</td>\n",
       "      <td>284</td>\n",
       "      <td>Greenwich Ave &amp; 8 Ave</td>\n",
       "      <td>40.739017</td>\n",
       "      <td>-74.002638</td>\n",
       "      <td>21997</td>\n",
       "      <td>Subscriber</td>\n",
       "      <td>1982</td>\n",
       "      <td>2</td>\n",
       "    </tr>\n",
       "    <tr>\n",
       "      <th>3</th>\n",
       "      <td>889</td>\n",
       "      <td>1/1/2016 00:01:06</td>\n",
       "      <td>1/1/2016 00:15:56</td>\n",
       "      <td>268</td>\n",
       "      <td>Howard St &amp; Centre St</td>\n",
       "      <td>40.719105</td>\n",
       "      <td>-73.999733</td>\n",
       "      <td>3002</td>\n",
       "      <td>South End Ave &amp; Liberty St</td>\n",
       "      <td>40.711512</td>\n",
       "      <td>-74.015756</td>\n",
       "      <td>22794</td>\n",
       "      <td>Subscriber</td>\n",
       "      <td>1961</td>\n",
       "      <td>2</td>\n",
       "    </tr>\n",
       "    <tr>\n",
       "      <th>4</th>\n",
       "      <td>1480</td>\n",
       "      <td>1/1/2016 00:01:12</td>\n",
       "      <td>1/1/2016 00:25:52</td>\n",
       "      <td>2006</td>\n",
       "      <td>Central Park S &amp; 6 Ave</td>\n",
       "      <td>40.765909</td>\n",
       "      <td>-73.976342</td>\n",
       "      <td>2006</td>\n",
       "      <td>Central Park S &amp; 6 Ave</td>\n",
       "      <td>40.765909</td>\n",
       "      <td>-73.976342</td>\n",
       "      <td>14562</td>\n",
       "      <td>Subscriber</td>\n",
       "      <td>1952</td>\n",
       "      <td>1</td>\n",
       "    </tr>\n",
       "  </tbody>\n",
       "</table>\n",
       "</div>"
      ],
      "text/plain": [
       "   tripduration          starttime           stoptime  start station id  \\\n",
       "0           923  1/1/2016 00:00:41  1/1/2016 00:16:04               268   \n",
       "1           379  1/1/2016 00:00:45  1/1/2016 00:07:04               476   \n",
       "2           589  1/1/2016 00:00:48  1/1/2016 00:10:37               489   \n",
       "3           889  1/1/2016 00:01:06  1/1/2016 00:15:56               268   \n",
       "4          1480  1/1/2016 00:01:12  1/1/2016 00:25:52              2006   \n",
       "\n",
       "       start station name  start station latitude  start station longitude  \\\n",
       "0   Howard St & Centre St               40.719105               -73.999733   \n",
       "1         E 31 St & 3 Ave               40.743943               -73.979661   \n",
       "2        10 Ave & W 28 St               40.750664               -74.001768   \n",
       "3   Howard St & Centre St               40.719105               -73.999733   \n",
       "4  Central Park S & 6 Ave               40.765909               -73.976342   \n",
       "\n",
       "   end station id            end station name  end station latitude  \\\n",
       "0            3002  South End Ave & Liberty St             40.711512   \n",
       "1             498          Broadway & W 32 St             40.748549   \n",
       "2             284       Greenwich Ave & 8 Ave             40.739017   \n",
       "3            3002  South End Ave & Liberty St             40.711512   \n",
       "4            2006      Central Park S & 6 Ave             40.765909   \n",
       "\n",
       "   end station longitude  bikeid    usertype  birth year  gender  \n",
       "0             -74.015756   22285  Subscriber        1958       1  \n",
       "1             -73.988084   17827  Subscriber        1969       1  \n",
       "2             -74.002638   21997  Subscriber        1982       2  \n",
       "3             -74.015756   22794  Subscriber        1961       2  \n",
       "4             -73.976342   14562  Subscriber        1952       1  "
      ]
     },
     "execution_count": 240,
     "metadata": {},
     "output_type": "execute_result"
    }
   ],
   "source": [
    "# Check dataframe for sanity\n",
    "df.head()"
   ]
  },
  {
   "cell_type": "code",
   "execution_count": 241,
   "metadata": {
    "collapsed": false
   },
   "outputs": [],
   "source": [
    "# Drop all rows where we do not have a birth year\n",
    "df.dropna(inplace=True, subset=['birth year'])"
   ]
  },
  {
   "cell_type": "code",
   "execution_count": 242,
   "metadata": {
    "collapsed": true
   },
   "outputs": [],
   "source": [
    "# Generate age column\n",
    "df['age'] = 2016 - df['birth year']"
   ]
  },
  {
   "cell_type": "code",
   "execution_count": 243,
   "metadata": {
    "collapsed": false
   },
   "outputs": [
    {
     "data": {
      "text/plain": [
       "2075"
      ]
     },
     "execution_count": 243,
     "metadata": {},
     "output_type": "execute_result"
    }
   ],
   "source": [
    "len(df[df['age'] > 100])"
   ]
  },
  {
   "cell_type": "code",
   "execution_count": 244,
   "metadata": {
    "collapsed": true
   },
   "outputs": [],
   "source": [
    "# Over 2000 rides by riders over 100 feels much too high and a data issue.\n",
    "# Only use data for riders under 100. \n",
    "df = df[df['age'] < 100]"
   ]
  },
  {
   "cell_type": "code",
   "execution_count": 245,
   "metadata": {
    "collapsed": false
   },
   "outputs": [
    {
     "data": {
      "text/plain": [
       "11355"
      ]
     },
     "execution_count": 245,
     "metadata": {},
     "output_type": "execute_result"
    }
   ],
   "source": [
    "len(df[df['gender'] == 0])"
   ]
  },
  {
   "cell_type": "code",
   "execution_count": 246,
   "metadata": {
    "collapsed": true
   },
   "outputs": [],
   "source": [
    "# Drop all rows where gender is not defined\n",
    "df = df[df['gender'] != 0]"
   ]
  },
  {
   "cell_type": "code",
   "execution_count": 247,
   "metadata": {
    "collapsed": false
   },
   "outputs": [],
   "source": [
    "# Convert starttime of trip to datetime data type to be able to work with it better\n",
    "df[\"datetime\"] = pd.to_datetime(df[\"starttime\"], format=\"%m/%d/%Y %H:%M:%S\")"
   ]
  },
  {
   "cell_type": "code",
   "execution_count": 248,
   "metadata": {
    "collapsed": false
   },
   "outputs": [],
   "source": [
    "# Generate age of male and female riders column\n",
    "# 1 = male\n",
    "# 2 = femaile\n",
    "df['ageM'] = 2016 - df['birth year'][df['gender'] == 1]\n",
    "df['ageF'] = 2016 - df['birth year'][df['gender'] == 2]"
   ]
  },
  {
   "cell_type": "code",
   "execution_count": 249,
   "metadata": {
    "collapsed": false
   },
   "outputs": [],
   "source": [
    "# Generate age by day or night\n",
    "df['ageDay'] = 2016 - df['birth year'][(df[\"datetime\"].dt.hour >= 7) & (df[\"datetime\"].dt.hour < 19)]\n",
    "df['ageNight'] = 2016 - df['birth year'][(df[\"datetime\"].dt.hour >= 19) | (df[\"datetime\"].dt.hour < 7)]"
   ]
  },
  {
   "cell_type": "code",
   "execution_count": 265,
   "metadata": {
    "collapsed": true
   },
   "outputs": [],
   "source": [
    "# Generate day/night column\n",
    "# 1 = day\n",
    "# 2 - night\n",
    "df.loc[(df[\"datetime\"].dt.hour >= 7) & (df[\"datetime\"].dt.hour < 19), 'time'] = 1\n",
    "df.loc[(df[\"datetime\"].dt.hour >= 19) | (df[\"datetime\"].dt.hour < 7), 'time'] = 2"
   ]
  },
  {
   "cell_type": "code",
   "execution_count": 257,
   "metadata": {
    "collapsed": false
   },
   "outputs": [],
   "source": [
    "# Drop unneeded columns\n",
    "df.drop(['tripduration',\n",
    "         'starttime', \n",
    "         'stoptime', \n",
    "         'start station id', \n",
    "         'start station name', \n",
    "         'start station latitude',\n",
    "         'start station longitude',\n",
    "         'end station id', \n",
    "         'end station name', \n",
    "         'end station latitude',\n",
    "         'end station longitude',\n",
    "         'bikeid',\n",
    "         'usertype'], axis=1, inplace=True)\n",
    "\n",
    "df['ageM'].dropna(inplace=True)\n",
    "df['ageF'].dropna(inplace=True)\n",
    "df['ageDay'].dropna(inplace=True)\n",
    "df['ageNight'].dropna(inplace=True)"
   ]
  },
  {
   "cell_type": "code",
   "execution_count": 266,
   "metadata": {
    "collapsed": false
   },
   "outputs": [
    {
     "data": {
      "text/html": [
       "<div>\n",
       "<table border=\"1\" class=\"dataframe\">\n",
       "  <thead>\n",
       "    <tr style=\"text-align: right;\">\n",
       "      <th></th>\n",
       "      <th>birth year</th>\n",
       "      <th>gender</th>\n",
       "      <th>age</th>\n",
       "      <th>datetime</th>\n",
       "      <th>ageM</th>\n",
       "      <th>ageF</th>\n",
       "      <th>ageDay</th>\n",
       "      <th>ageNight</th>\n",
       "      <th>time</th>\n",
       "    </tr>\n",
       "  </thead>\n",
       "  <tbody>\n",
       "    <tr>\n",
       "      <th>0</th>\n",
       "      <td>1958</td>\n",
       "      <td>1</td>\n",
       "      <td>58</td>\n",
       "      <td>2016-01-01 00:00:41</td>\n",
       "      <td>58</td>\n",
       "      <td>nan</td>\n",
       "      <td>nan</td>\n",
       "      <td>58</td>\n",
       "      <td>2</td>\n",
       "    </tr>\n",
       "    <tr>\n",
       "      <th>1</th>\n",
       "      <td>1969</td>\n",
       "      <td>1</td>\n",
       "      <td>47</td>\n",
       "      <td>2016-01-01 00:00:45</td>\n",
       "      <td>47</td>\n",
       "      <td>nan</td>\n",
       "      <td>nan</td>\n",
       "      <td>47</td>\n",
       "      <td>2</td>\n",
       "    </tr>\n",
       "    <tr>\n",
       "      <th>2</th>\n",
       "      <td>1982</td>\n",
       "      <td>2</td>\n",
       "      <td>34</td>\n",
       "      <td>2016-01-01 00:00:48</td>\n",
       "      <td>nan</td>\n",
       "      <td>34</td>\n",
       "      <td>nan</td>\n",
       "      <td>34</td>\n",
       "      <td>2</td>\n",
       "    </tr>\n",
       "    <tr>\n",
       "      <th>3</th>\n",
       "      <td>1961</td>\n",
       "      <td>2</td>\n",
       "      <td>55</td>\n",
       "      <td>2016-01-01 00:01:06</td>\n",
       "      <td>nan</td>\n",
       "      <td>55</td>\n",
       "      <td>nan</td>\n",
       "      <td>55</td>\n",
       "      <td>2</td>\n",
       "    </tr>\n",
       "    <tr>\n",
       "      <th>4</th>\n",
       "      <td>1952</td>\n",
       "      <td>1</td>\n",
       "      <td>64</td>\n",
       "      <td>2016-01-01 00:01:12</td>\n",
       "      <td>64</td>\n",
       "      <td>nan</td>\n",
       "      <td>nan</td>\n",
       "      <td>64</td>\n",
       "      <td>2</td>\n",
       "    </tr>\n",
       "  </tbody>\n",
       "</table>\n",
       "</div>"
      ],
      "text/plain": [
       "   birth year  gender  age            datetime  ageM  ageF  ageDay  ageNight  \\\n",
       "0        1958       1   58 2016-01-01 00:00:41    58   nan     nan        58   \n",
       "1        1969       1   47 2016-01-01 00:00:45    47   nan     nan        47   \n",
       "2        1982       2   34 2016-01-01 00:00:48   nan    34     nan        34   \n",
       "3        1961       2   55 2016-01-01 00:01:06   nan    55     nan        55   \n",
       "4        1952       1   64 2016-01-01 00:01:12    64   nan     nan        64   \n",
       "\n",
       "   time  \n",
       "0     2  \n",
       "1     2  \n",
       "2     2  \n",
       "3     2  \n",
       "4     2  "
      ]
     },
     "execution_count": 266,
     "metadata": {},
     "output_type": "execute_result"
    }
   ],
   "source": [
    "df.head()"
   ]
  },
  {
   "cell_type": "markdown",
   "metadata": {},
   "source": [
    "## Data Exploration"
   ]
  },
  {
   "cell_type": "code",
   "execution_count": 267,
   "metadata": {
    "collapsed": false
   },
   "outputs": [
    {
     "data": {
      "text/html": [
       "<div>\n",
       "<table border=\"1\" class=\"dataframe\">\n",
       "  <thead>\n",
       "    <tr style=\"text-align: right;\">\n",
       "      <th></th>\n",
       "      <th>birth year</th>\n",
       "      <th>gender</th>\n",
       "      <th>age</th>\n",
       "      <th>ageM</th>\n",
       "      <th>ageF</th>\n",
       "      <th>ageDay</th>\n",
       "      <th>ageNight</th>\n",
       "      <th>time</th>\n",
       "    </tr>\n",
       "  </thead>\n",
       "  <tbody>\n",
       "    <tr>\n",
       "      <th>count</th>\n",
       "      <td>5012979</td>\n",
       "      <td>5012979</td>\n",
       "      <td>5012979</td>\n",
       "      <td>3834498</td>\n",
       "      <td>1178481</td>\n",
       "      <td>3870015</td>\n",
       "      <td>1142964</td>\n",
       "      <td>5012979</td>\n",
       "    </tr>\n",
       "    <tr>\n",
       "      <th>mean</th>\n",
       "      <td>1977.1328</td>\n",
       "      <td>1.235086</td>\n",
       "      <td>38.867208</td>\n",
       "      <td>39.234744</td>\n",
       "      <td>37.67133</td>\n",
       "      <td>39.448443</td>\n",
       "      <td>36.899176</td>\n",
       "      <td>1.228001</td>\n",
       "    </tr>\n",
       "    <tr>\n",
       "      <th>std</th>\n",
       "      <td>11.585095</td>\n",
       "      <td>0.42405258</td>\n",
       "      <td>11.585095</td>\n",
       "      <td>11.589158</td>\n",
       "      <td>11.490801</td>\n",
       "      <td>11.656062</td>\n",
       "      <td>11.118134</td>\n",
       "      <td>0.41954327</td>\n",
       "    </tr>\n",
       "    <tr>\n",
       "      <th>min</th>\n",
       "      <td>1917</td>\n",
       "      <td>1</td>\n",
       "      <td>16</td>\n",
       "      <td>16</td>\n",
       "      <td>16</td>\n",
       "      <td>16</td>\n",
       "      <td>16</td>\n",
       "      <td>1</td>\n",
       "    </tr>\n",
       "    <tr>\n",
       "      <th>25%</th>\n",
       "      <td>1969</td>\n",
       "      <td>1</td>\n",
       "      <td>30</td>\n",
       "      <td>32</td>\n",
       "      <td>nan</td>\n",
       "      <td>32</td>\n",
       "      <td>nan</td>\n",
       "      <td>1</td>\n",
       "    </tr>\n",
       "    <tr>\n",
       "      <th>50%</th>\n",
       "      <td>1980</td>\n",
       "      <td>1</td>\n",
       "      <td>36</td>\n",
       "      <td>43</td>\n",
       "      <td>nan</td>\n",
       "      <td>43</td>\n",
       "      <td>nan</td>\n",
       "      <td>1</td>\n",
       "    </tr>\n",
       "    <tr>\n",
       "      <th>75%</th>\n",
       "      <td>1986</td>\n",
       "      <td>1</td>\n",
       "      <td>47</td>\n",
       "      <td>65</td>\n",
       "      <td>nan</td>\n",
       "      <td>63</td>\n",
       "      <td>nan</td>\n",
       "      <td>1</td>\n",
       "    </tr>\n",
       "    <tr>\n",
       "      <th>max</th>\n",
       "      <td>2000</td>\n",
       "      <td>2</td>\n",
       "      <td>99</td>\n",
       "      <td>99</td>\n",
       "      <td>95</td>\n",
       "      <td>99</td>\n",
       "      <td>99</td>\n",
       "      <td>2</td>\n",
       "    </tr>\n",
       "  </tbody>\n",
       "</table>\n",
       "</div>"
      ],
      "text/plain": [
       "       birth year     gender       age      ageM      ageF    ageDay  \\\n",
       "count     5012979    5012979   5012979   3834498   1178481   3870015   \n",
       "mean    1977.1328   1.235086 38.867208 39.234744  37.67133 39.448443   \n",
       "std     11.585095 0.42405258 11.585095 11.589158 11.490801 11.656062   \n",
       "min          1917          1        16        16        16        16   \n",
       "25%          1969          1        30        32       nan        32   \n",
       "50%          1980          1        36        43       nan        43   \n",
       "75%          1986          1        47        65       nan        63   \n",
       "max          2000          2        99        99        95        99   \n",
       "\n",
       "       ageNight       time  \n",
       "count   1142964    5012979  \n",
       "mean  36.899176   1.228001  \n",
       "std   11.118134 0.41954327  \n",
       "min          16          1  \n",
       "25%         nan          1  \n",
       "50%         nan          1  \n",
       "75%         nan          1  \n",
       "max          99          2  "
      ]
     },
     "execution_count": 267,
     "metadata": {},
     "output_type": "execute_result"
    }
   ],
   "source": [
    "pd.set_option('display.float_format', '{:.8g}'.format)\n",
    "df.describe()"
   ]
  },
  {
   "cell_type": "code",
   "execution_count": 253,
   "metadata": {
    "collapsed": false
   },
   "outputs": [
    {
     "data": {
      "text/plain": [
       "<matplotlib.text.Text at 0x21fb39690>"
      ]
     },
     "execution_count": 253,
     "metadata": {},
     "output_type": "execute_result"
    },
    {
     "data": {
      "image/png": "[encoded data removed]",
      "text/plain": [
       "<matplotlib.figure.Figure at 0x28fe659d0>"
      ]
     },
     "metadata": {},
     "output_type": "display_data"
    },
    {
     "data": {
      "image/png": "[encoded data removed]",
      "text/plain": [
       "<matplotlib.figure.Figure at 0x28fe65110>"
      ]
     },
     "metadata": {},
     "output_type": "display_data"
    },
    {
     "data": {
      "image/png": "[encoded data removed]",
      "text/plain": [
       "<matplotlib.figure.Figure at 0x1fcc55890>"
      ]
     },
     "metadata": {},
     "output_type": "display_data"
    },
    {
     "data": {
      "image/png": "[encoded data removed]",
      "text/plain": [
       "<matplotlib.figure.Figure at 0x1fb3ef8d0>"
      ]
     },
     "metadata": {},
     "output_type": "display_data"
    }
   ],
   "source": [
    "# Histogram plot by age for male, female, day, and night riders\n",
    "# Set bins to be by 3 year increments between 17 and 80\n",
    "bins = np.arange(14, 80, 3)\n",
    "\n",
    "axM = df.ageM.groupby(pd.cut(df.ageM, bins)).agg([np.count_nonzero]).plot(kind='bar', legend=False)\n",
    "axM.set_title(\"male riders\")\n",
    "\n",
    "axF = df.ageF.groupby(pd.cut(df.ageF, bins)).agg([np.count_nonzero]).plot(kind='bar', legend=False)\n",
    "axF.set_title(\"female riders\")\n",
    "\n",
    "axDay = df.ageDay.groupby(pd.cut(df.ageDay, bins)).agg([np.count_nonzero]).plot(kind='bar', legend=False)\n",
    "axDay.set_title(\"day riders (between 7am and 7pm)\")\n",
    "\n",
    "axNight = df.ageNight.groupby(pd.cut(df.ageNight, bins)).agg([np.count_nonzero]).plot(kind='bar', legend=False)\n",
    "axNight.set_title(\"night riders (between 7pm and 7am)\")"
   ]
  },
  {
   "cell_type": "markdown",
   "metadata": {},
   "source": [
    "### Figure 1: Histogram distribution of riders' age by gender and time of day"
   ]
  },
  {
   "cell_type": "code",
   "execution_count": 254,
   "metadata": {
    "collapsed": false
   },
   "outputs": [
    {
     "name": "stdout",
     "output_type": "stream",
     "text": [
      "          count_nonzero\n",
      "ageM                   \n",
      "(14, 17]   2.190723e-05\n",
      "(17, 20]  0.00089582546\n",
      "(20, 23]   0.0078803695\n",
      "(23, 26]    0.032183028\n",
      "(26, 29]    0.058682037\n",
      "(29, 32]    0.076061979\n",
      "(32, 35]    0.079228815\n",
      "(35, 38]    0.069215675\n",
      "(38, 41]    0.052412256\n",
      "(41, 44]     0.03932718\n",
      "(44, 47]    0.024194231\n",
      "(47, 50]    0.019990709\n",
      "(50, 53]    0.010939232\n",
      "(53, 56]    0.012226592\n",
      "(56, 59]     0.01474912\n",
      "(59, 62]    0.010772954\n",
      "(62, 65]   0.0045276434\n",
      "(65, 68]   0.0034558986\n",
      "(68, 71]  0.00062451945\n",
      "(71, 74]  0.00020176177\n",
      "(74, 77]              0\n"
     ]
    },
    {
     "data": {
      "text/plain": [
       "<matplotlib.legend.Legend at 0x1fc57add0>"
      ]
     },
     "execution_count": 254,
     "metadata": {},
     "output_type": "execute_result"
    },
    {
     "data": {
      "image/png": "[encoded data removed]",
      "text/plain": [
       "<matplotlib.figure.Figure at 0x2b0b865d0>"
      ]
     },
     "metadata": {},
     "output_type": "display_data"
    }
   ],
   "source": [
    "csM=df.ageM.groupby(pd.cut(df.ageM, bins)).agg([np.count_nonzero]).cumsum()\n",
    "csF=df.ageF.groupby(pd.cut(df.ageF, bins)).agg([np.count_nonzero]).cumsum()\n",
    "\n",
    "print (np.abs(csM / csM.max()-csF / csF.max()))\n",
    "\n",
    "plt.plot(bins[:-1] + 5, csM / csM.max(), label = \"M\")\n",
    "plt.plot(bins[:-1] + 5, csF / csF.max(), label = \"F\")\n",
    "plt.plot(bins[:-1] + 5, np.sqrt(csF / csF.max() - csM / csM.max())**2, 'k-',\n",
    "        label = \"difference\")\n",
    "\n",
    "plt.xlabel(\"Age\")\n",
    "plt.ylabel(\"Normalized Cumulative Number\")\n",
    "plt.legend()"
   ]
  },
  {
   "cell_type": "markdown",
   "metadata": {},
   "source": [
    "### Figure 2: Cumulative distribution of Citibike riders' ages by gender"
   ]
  },
  {
   "cell_type": "code",
   "execution_count": 255,
   "metadata": {
    "collapsed": false
   },
   "outputs": [
    {
     "name": "stdout",
     "output_type": "stream",
     "text": [
      "          count_nonzero\n",
      "ageDay                 \n",
      "(14, 17]  1.7332625e-05\n",
      "(17, 20]   0.0024684673\n",
      "(20, 23]    0.013398789\n",
      "(23, 26]    0.046861082\n",
      "(26, 29]    0.078472696\n",
      "(29, 32]    0.098515223\n",
      "(32, 35]     0.10522409\n",
      "(35, 38]     0.10308429\n",
      "(38, 41]    0.091494775\n",
      "(41, 44]    0.078879421\n",
      "(44, 47]    0.063418148\n",
      "(47, 50]     0.04961062\n",
      "(50, 53]    0.040261972\n",
      "(53, 56]    0.028729224\n",
      "(56, 59]    0.018731232\n",
      "(59, 62]     0.01227089\n",
      "(62, 65]   0.0068660316\n",
      "(65, 68]   0.0041896782\n",
      "(68, 71]   0.0019364003\n",
      "(71, 74]  0.00060132777\n",
      "(74, 77]              0\n"
     ]
    },
    {
     "data": {
      "text/plain": [
       "<matplotlib.legend.Legend at 0x1cee167d0>"
      ]
     },
     "execution_count": 255,
     "metadata": {},
     "output_type": "execute_result"
    },
    {
     "data": {
      "image/png": "[encoded data removed]",
      "text/plain": [
       "<matplotlib.figure.Figure at 0x1ddc70690>"
      ]
     },
     "metadata": {},
     "output_type": "display_data"
    }
   ],
   "source": [
    "csDay=df.ageDay.groupby(pd.cut(df.ageDay, bins)).agg([np.count_nonzero]).cumsum()\n",
    "csNight=df.ageNight.groupby(pd.cut(df.ageNight, bins)).agg([np.count_nonzero]).cumsum()\n",
    "\n",
    "print (np.abs(csDay / csDay.max()-csNight / csNight.max()))\n",
    "\n",
    "plt.plot(bins[:-1] + 5, csDay / csDay.max(), label = \"Day\")\n",
    "plt.plot(bins[:-1] + 5, csNight / csNight.max(), label = \"Night\")\n",
    "plt.plot(bins[:-1] + 5, np.sqrt(csNight / csNight.max() - csDay / csDay.max())**2, 'k-',\n",
    "        label = \"difference\")\n",
    "\n",
    "plt.xlabel(\"Age\")\n",
    "plt.ylabel(\"Normalized Cumulative Number\")\n",
    "plt.legend()"
   ]
  },
  {
   "cell_type": "markdown",
   "metadata": {},
   "source": [
    "### Figure 3: Cumulative distribution of Citibike riders' ages by time of day"
   ]
  },
  {
   "cell_type": "markdown",
   "metadata": {},
   "source": [
    "## KS Test"
   ]
  },
  {
   "cell_type": "code",
   "execution_count": 258,
   "metadata": {
    "collapsed": false
   },
   "outputs": [
    {
     "name": "stdout",
     "output_type": "stream",
     "text": [
      "gender:  Ks_2sampResult(statistic=0.10466488872313692, pvalue=0.0)\n",
      "time of day:  Ks_2sampResult(statistic=0.12935625141782509, pvalue=0.0)\n"
     ]
    }
   ],
   "source": [
    "ks_gender = scipy.stats.ks_2samp(df.ageM, df.ageF)\n",
    "ks_time = scipy.stats.ks_2samp(df.ageDay, df.ageNight)\n",
    "\n",
    "print \"gender: \", ks_gender\n",
    "print \"time of day: \", ks_time"
   ]
  },
  {
   "cell_type": "markdown",
   "metadata": {},
   "source": [
    "A '2-sample KS Test' like the one above checks to see if the 2 samples it is given are part of the same continuous distribution. The p-value it returns is a confidence level of whether or not it is possible to reject the Null hypothesis that both samples are part of the same distribution.\n",
    "\n",
    "The wording is a bit confusing since we're dealing with a double negative.\n",
    "\n",
    "In this case the p-value is under our signifance level (in our case 0.05) for both our pairs of samples meaning that the each pair of sample are of different distributions (the Null hypothesis being that they are the same).\n",
    "\n",
    "Thus, for both pairs for samples in terms of **gender** and **time of day** we can confidently **reject** the Null hypothesis."
   ]
  },
  {
   "cell_type": "markdown",
   "metadata": {},
   "source": [
    "## KS Test with subsample of data (1 ride every 200)"
   ]
  },
  {
   "cell_type": "code",
   "execution_count": 259,
   "metadata": {
    "collapsed": false
   },
   "outputs": [
    {
     "name": "stdout",
     "output_type": "stream",
     "text": [
      "gender: Ks_2sampResult(statistic=0.10043662339102002, pvalue=4.6623455486487929e-40)\n",
      "time of day: Ks_2sampResult(statistic=0.12732385196035123, pvalue=8.8856857792175388e-63)\n"
     ]
    }
   ],
   "source": [
    "# Sample both ageM and ageF by a fraction of 1/200 and run the KS 2-sample test once again\n",
    "ks_sample_gender = scipy.stats.ks_2samp(df[\"ageM\"].sample(frac=0.005), df[\"ageF\"].sample(frac=0.005))\n",
    "ks_sample_time = scipy.stats.ks_2samp(df[\"ageDay\"].sample(frac=0.005), df[\"ageNight\"].sample(frac=0.005))\n",
    "\n",
    "print \"gender:\", ks_sample_gender\n",
    "print \"time of day:\", ks_sample_time"
   ]
  },
  {
   "cell_type": "markdown",
   "metadata": {},
   "source": [
    "The Null hypothesis is once again **rejected**, as the p-value for both pairs is still very low (much lower then are $\\alpha = 0.05$), though slightly higher then when testing the entire two samples above."
   ]
  },
  {
   "cell_type": "markdown",
   "metadata": {},
   "source": [
    "## Pearson's Test for correlation"
   ]
  },
  {
   "cell_type": "markdown",
   "metadata": {},
   "source": [
    "For a Pearson's test we'll use the entire dataframe since both sets of data need to be the same length. A Pearson's  test looks for linear correlation between two variables and produces what is called a Pearson’s correlation coefficient. Since this is a two-tailed test, meaning that correlation can be both negative and positive, the Null hypothesis must be stated as a distance from the mean. The p-value given in a Pearson's test is the probabaility that an uncorrelated dataset would not produce the same coefficient.\n",
    "\n",
    "As such, the Null hypothesis for these test can be stated as such:\n",
    "\n",
    "$H_{gender}$: An uncorrelated dataset's Pearson correlation is *at least as extreme* as the Pearson correlation between a riders age and their gender.\n",
    "\n",
    "$H_{time}$: An uncorrelated dataset's Pearson correlation is *at least as extreme* as the Pearson correlation between a riders age and the time of day they ride."
   ]
  },
  {
   "cell_type": "code",
   "execution_count": 273,
   "metadata": {
    "collapsed": false
   },
   "outputs": [
    {
     "name": "stdout",
     "output_type": "stream",
     "text": [
      "gender (-0.057226088296109846, 0.0)\n",
      "time of day: (-0.092319277411370707, 0.0)\n"
     ]
    }
   ],
   "source": [
    "pt_gender = scipy.stats.pearsonr(df[\"age\"], df[\"gender\"])\n",
    "print \"gender:\", pt_gender\n",
    "\n",
    "pt_time = scipy.stats.pearsonr(df[\"age\"], df[\"time\"])\n",
    "print \"time of day:\", pt_time"
   ]
  },
  {
   "cell_type": "markdown",
   "metadata": {},
   "source": [
    "The last number in both the Pearson's tests about give us a p-value of 0.0, which is certainly below are $\\alpha = 0$. Thus, we **reject** the Null hypothesis that an uncorrelated dataset would produce at least as extreme a correlation, we can then say that it appears these datasets are indeed correlated.\n",
    "\n",
    "In practical terms what this demonstrates is that as the age of the rider increases, they tend to be more male and they tend to be willing to ride at night."
   ]
  },
  {
   "cell_type": "markdown",
   "metadata": {},
   "source": [
    "## Spearman's test for correlation"
   ]
  },
  {
   "cell_type": "markdown",
   "metadata": {},
   "source": [
    "A Spearman's test ranks ordinal variables and then tests the correlation between the differences of these rankings. We'll use the whole dataframe again for this analysis as the number of observations for both need to be the same number. A Spearman's test is really the best use for our dataset since our dependent variables are both binomial (male/female, day/night), but we'll use it regardless just to show how it works.\n",
    "\n",
    "The Null hypothesis for this test can best stated as:\n",
    "\n",
    "$H_{gender}$: An uncorrelated dataset's Spearman's correlation is *at least as extreme* as the Spearman's correlation between a riders age and their gender.\n",
    "\n",
    "$H_{time}$: An uncorrelated dataset's Spearman's correlation is *at least as extreme* as the Spearman's correlation between a riders age and the time of day they ride."
   ]
  },
  {
   "cell_type": "code",
   "execution_count": 274,
   "metadata": {
    "collapsed": false
   },
   "outputs": [
    {
     "name": "stdout",
     "output_type": "stream",
     "text": [
      "gender: SpearmanrResult(correlation=-0.063881970195547408, pvalue=0.0)\n",
      "time of day: SpearmanrResult(correlation=-0.097038294979449019, pvalue=0.0)\n"
     ]
    }
   ],
   "source": [
    "sp_gender = scipy.stats.spearmanr(df[\"age\"], df[\"gender\"])\n",
    "sp_time = scipy.stats.spearmanr(df[\"age\"], df[\"time\"])\n",
    "\n",
    "print \"gender:\", sp_gender\n",
    "print \"time of day:\", sp_time"
   ]
  },
  {
   "cell_type": "markdown",
   "metadata": {},
   "source": [
    "Once again, we get a very strong p-value under our $\\alpha = 0.05$ so we can **reject** the Null hypothesis that an uncorrelated dataset would produce a similar correlation. Though the correlation is small, it exists. Thus we can say that as the age of a rider increases, it is more likley that they are male and that they are willing to ride at night."
   ]
  }
 ],
 "metadata": {
  "kernelspec": {
   "display_name": "Python 2",
   "language": "python",
   "name": "python2"
  },
  "language_info": {
   "codemirror_mode": {
    "name": "ipython",
    "version": 2
   },
   "file_extension": ".py",
   "mimetype": "text/x-python",
   "name": "python",
   "nbconvert_exporter": "python",
   "pygments_lexer": "ipython2",
   "version": "2.7.12"
  }
 },
 "nbformat": 4,
 "nbformat_minor": 1
}
