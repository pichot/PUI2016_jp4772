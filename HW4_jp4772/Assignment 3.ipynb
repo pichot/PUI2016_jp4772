{
 "cells": [
  {
   "cell_type": "markdown",
   "metadata": {},
   "source": [
    "# PUI2016 HW4 - jp4772\n",
    "## Assignment 3"
   ]
  },
  {
   "cell_type": "code",
   "execution_count": 5,
   "metadata": {
    "collapsed": true
   },
   "outputs": [],
   "source": [
    "import numpy as np\n",
    "import pandas as pd"
   ]
  },
  {
   "cell_type": "markdown",
   "metadata": {},
   "source": [
    "## Hypotheses\n",
    "\n",
    "To recreate the results in the journal article we must first define the Null ($H_0$) and Alternative ($H_1$) hypotheses.\n",
    "\n",
    "In social science, significant levels often fall in 3 categories: 1 percent, 5 percent, and 10 percent. In this case, since we know the outcome is not-sigificant, we'll choose the most lenient level, that is a p-value of 0.10 ($\\alpha = 0.10$)\n",
    "\n",
    "**Null Hypothesis**: The percent of former inmates that are convicted of a felony after participating in the rehabilitation program ($P_0$) is the *same or higher* as the inmates who did not participate in the program ($P_1$). \n",
    "\n",
    "$$\n",
    "H_0 : P_0 - P_1 \\geq 0\n",
    "$$ \n",
    "\n",
    "**Alternate Hypothesis**:  The percent of former inmates that are convicted of a felony after participating in the rehabilitation program ($P_0$) is *lower* then the percent of inmates who did not participate in the program ($P_1$). \n",
    "\n",
    "$$\n",
    "H_a : P_0 - P_1 < 0\n",
    "$$\n",
    "\n",
    "## Z-test\n",
    "\n",
    "Looking at the data in the table below, recreated from the article, we know percentages for $P_0$ and $P_1$:\n",
    "\n",
    "$P_0 = 0.10$ and $P_1 = 0.117$\n",
    "\n",
    "| Outcome               | Program Group | Control Group | Difference | P-Value |\n",
    "|:----------------------|:--------------|:--------------|:-----------|:--------|\n",
    "| Convicted of a felony | 10.0          | 11.7          | -1.6       | 0.419   |\n",
    "| Sample size           | 568           | 409           |            |         |"
   ]
  },
  {
   "cell_type": "code",
   "execution_count": 1,
   "metadata": {
    "collapsed": false
   },
   "outputs": [
    {
     "name": "stdout",
     "output_type": "stream",
     "text": [
      "we must assess the statistical significance\n"
     ]
    }
   ],
   "source": [
    "alpha = 0.10\n",
    "\n",
    "p0 = 0.10\n",
    "p1 = 0.117\n",
    "\n",
    "if p0-p1 >= 0:\n",
    "    print (\"the Null holds\")\n",
    "else:\n",
    "    print (\"we must assess the statistical significance\")"
   ]
  },
  {
   "cell_type": "code",
   "execution_count": 2,
   "metadata": {
    "collapsed": true
   },
   "outputs": [],
   "source": [
    "n0 = 409\n",
    "n1 = 568\n",
    "\n",
    "#lets get the counts by multiplying by the sample size\n",
    "Nt0 = p0 * n0\n",
    "Nt1 = p1 * n1"
   ]
  },
  {
   "cell_type": "code",
   "execution_count": 18,
   "metadata": {
    "collapsed": false
   },
   "outputs": [
    {
     "name": "stdout",
     "output_type": "stream",
     "text": [
      "z-score:  0.83820087874\n"
     ]
    }
   ],
   "source": [
    "p = lambda p0, p1, n0, n1: (p0 * n0 + p1 * n1) / (n0 + n1)\n",
    "se = lambda p, n0, n1: np.sqrt(p * (1 - p) * (1.0 / n0 + 1.0 / n1))\n",
    "zscore = lambda p0, p1, s: (p0 - p1) / s\n",
    "\n",
    "print 'z-score: ', zscore(p1, p0, se(p(p0, p1, n0, n1), n0, n1))"
   ]
  },
  {
   "cell_type": "markdown",
   "metadata": {},
   "source": [
    "Based on the chart below, $P = 0.7967$"
   ]
  },
  {
   "cell_type": "markdown",
   "metadata": {},
   "source": [
    "![](http://intersci.ss.uci.edu/wiki/images/3/3a/Normal01.jpg)"
   ]
  },
  {
   "cell_type": "code",
   "execution_count": 21,
   "metadata": {
    "collapsed": false
   },
   "outputs": [
    {
     "name": "stdout",
     "output_type": "stream",
     "text": [
      "is the p value 0.20 smaller than the critical value 0.10?\n",
      "NO!\n",
      "the Null hypothesis is not rejected\n"
     ]
    }
   ],
   "source": [
    "# p-value is 1 - P, as defined above\n",
    "p = 1 - 0.7967\n",
    "\n",
    "def report_result(p, a):\n",
    "    print ('is the p value ' + \n",
    "           '{0:.2f} smaller than the critical value {1:.2f}?'.format(p,a))\n",
    "    if p < a:\n",
    "        print (\"YES!\")\n",
    "    else: \n",
    "        print (\"NO!\")\n",
    "    \n",
    "    print ('the Null hypothesis is {}'.format(\\\n",
    "                            'rejected' if p < a  else 'not rejected') )\n",
    "\n",
    "report_result(p, alpha)"
   ]
  },
  {
   "cell_type": "markdown",
   "metadata": {},
   "source": [
    "With a p-value of 0.20, **the Null hypothesis stands**."
   ]
  },
  {
   "cell_type": "markdown",
   "metadata": {},
   "source": [
    "## $\\chi^2$ (Chi-square) test"
   ]
  },
  {
   "cell_type": "markdown",
   "metadata": {},
   "source": [
    "**Contigency Table**\n",
    "\n",
    "| convicted of a felony | yes         | no          |\n",
    "|:----------------------|:------------|:------------|:----|\n",
    "| Program Group         | 0.10 * 568  | 0.90 * 568  | 568 |\n",
    "| Control Group         | 0.117 * 409 | 0.883 * 409 | 409 |\n",
    "|                       |             |             |     |\n",
    "| total                 | 104.653     | 872.347     | 977 |"
   ]
  },
  {
   "cell_type": "code",
   "execution_count": 13,
   "metadata": {
    "collapsed": false
   },
   "outputs": [
    {
     "name": "stdout",
     "output_type": "stream",
     "text": [
      "yes total: 104.653\n",
      "no total: 872.347\n",
      "total total: 977.0\n"
     ]
    }
   ],
   "source": [
    "print 'yes total:', (0.10 * 568) + (0.117 * 409)\n",
    "print 'no total:', (0.90 * 568) + (0.883 * 409)\n",
    "print 'total total:', (0.10 * 568) + (0.117 * 409) + (0.90 * 568) + (0.883 * 409)"
   ]
  },
  {
   "cell_type": "code",
   "execution_count": 10,
   "metadata": {
    "collapsed": true
   },
   "outputs": [],
   "source": [
    "def evalChisq(values):\n",
    "    '''\n",
    "    Calculate Chi-sq from an array of values\n",
    "    Written by Frederica Bianco\n",
    "    '''\n",
    "    values = np.array(values)\n",
    "    E = np.empty_like(values)\n",
    "    for j in range(len(values[0])):\n",
    "        for i in range(2):\n",
    "            \n",
    "            E[i][j] = ((values[i,:].sum() * values[:,j].sum()) / \n",
    "                        (values).sum())\n",
    "    return ((values - E)**2 / E).sum()"
   ]
  },
  {
   "cell_type": "code",
   "execution_count": 23,
   "metadata": {
    "collapsed": false
   },
   "outputs": [
    {
     "name": "stdout",
     "output_type": "stream",
     "text": [
      "chisq:  0.718493917505\n"
     ]
    }
   ],
   "source": [
    "Ntot = 977\n",
    "sample_values = np.array([[0.1 * 568, 0.9 * 568], [0.117 * 409, 0.883 * 409]])\n",
    "\n",
    "print 'chisq: ', evalChisq(sample_values)"
   ]
  },
  {
   "cell_type": "markdown",
   "metadata": {},
   "source": [
    "![](http://passel.unl.edu/Image/Namuth-CovertDeana956176274/chi-sqaure%20distribution%20table.PNG)"
   ]
  },
  {
   "cell_type": "markdown",
   "metadata": {},
   "source": [
    "Our problem has 1-degree of freedom, as we have 2 samples (control and program groups) and 1 variable (convicted of a felony). We set the $\\alpha = 0.10$ to be as lenient as possible. This results in a *minimum* Chi-Square score of 2.71. Our $\\chi^2 = 0.718$ above, our **Null hypothesis stands**.\n",
    "\n"
   ]
  },
  {
   "cell_type": "markdown",
   "metadata": {},
   "source": [
    "## Conclusion\n",
    "\n",
    "#### Convicted of a Felony\n",
    "\n",
    "For both the Z-test and the $\\chi^2$ test the **Null hypothesis stands**. This means we can not confidently say that the percent of former inmates that are convicted of a felony after participating in the rehabilitation program ($P_0$) is *lower* then the percent of inmates who did not participate in the program ($P_1$).\n",
    "\n",
    "#### Employed after Release\n",
    "\n",
    "This is not the case for the of former prisoners employed after release. The Null hypothesis being: the percent of former prisoners employed after release who took part in the program is the *same or lower* as those who did not participate in the program. The Null hypothesis in this case is rejected in both tests. A z-score of 20.77 equaling a p-value of 0.0001 and a $\\chi^2$ score of 436.22 easily passes the confidence interal of 0.05 set before the tests. Thus, the **Null hypothesis is rejected**."
   ]
  }
 ],
 "metadata": {
  "kernelspec": {
   "display_name": "Python 2",
   "language": "python",
   "name": "python2"
  },
  "language_info": {
   "codemirror_mode": {
    "name": "ipython",
    "version": 2
   },
   "file_extension": ".py",
   "mimetype": "text/x-python",
   "name": "python",
   "nbconvert_exporter": "python",
   "pygments_lexer": "ipython2",
   "version": "2.7.12"
  }
 },
 "nbformat": 4,
 "nbformat_minor": 1
}
