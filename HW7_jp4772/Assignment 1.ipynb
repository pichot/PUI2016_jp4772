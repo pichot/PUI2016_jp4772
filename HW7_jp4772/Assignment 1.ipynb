{
 "cells": [
  {
   "cell_type": "markdown",
   "metadata": {},
   "source": [
    "# PUI2016 HW7 - jp4772\n",
    "## Assignment 1"
   ]
  },
  {
   "cell_type": "code",
   "execution_count": 125,
   "metadata": {
    "collapsed": false
   },
   "outputs": [],
   "source": [
    "import pandas as pd\n",
    "import numpy as np\n",
    "import seaborn as sns\n",
    "import matplotlib.pyplot as plt\n",
    "import matplotlib.dates as mdates\n",
    "\n",
    "import os\n",
    "\n",
    "%matplotlib inline"
   ]
  },
  {
   "cell_type": "code",
   "execution_count": 3,
   "metadata": {
    "collapsed": false
   },
   "outputs": [],
   "source": [
    "if os.getenv(\"PUIDATA\"):\n",
    "    data_path = os.getenv(\"PUIDATA\")\n",
    "else:\n",
    "    os.system('mkdir data')\n",
    "    data_path = \"./data\""
   ]
  },
  {
   "cell_type": "code",
   "execution_count": 13,
   "metadata": {
    "collapsed": false
   },
   "outputs": [
    {
     "data": {
      "text/plain": [
       "0"
      ]
     },
     "execution_count": 13,
     "metadata": {},
     "output_type": "execute_result"
    }
   ],
   "source": [
    "# Download parking ramp transactions for city owned parking lots in Grand Rapids, Michigan\n",
    "os.system(\"curl -o \" + data_path + \"/parking.csv\" + \" http://data.grcity.us/storage/f/2014-02-25T15%3A41%3A28.693Z/revenue-transaction-report-2011.csv\")"
   ]
  },
  {
   "cell_type": "code",
   "execution_count": 14,
   "metadata": {
    "collapsed": false
   },
   "outputs": [],
   "source": [
    "df = pd.read_csv(data_path + \"/parking.csv\")"
   ]
  },
  {
   "cell_type": "code",
   "execution_count": 15,
   "metadata": {
    "collapsed": false
   },
   "outputs": [
    {
     "data": {
      "text/html": [
       "<div>\n",
       "<table border=\"1\" class=\"dataframe\">\n",
       "  <thead>\n",
       "    <tr style=\"text-align: right;\">\n",
       "      <th></th>\n",
       "      <th>Entry Time</th>\n",
       "      <th>Exit Time</th>\n",
       "      <th>Gross</th>\n",
       "      <th>Lane</th>\n",
       "      <th>Lot</th>\n",
       "      <th>Rate</th>\n",
       "      <th>Ticket</th>\n",
       "      <th>Transaction Number</th>\n",
       "    </tr>\n",
       "  </thead>\n",
       "  <tbody>\n",
       "    <tr>\n",
       "      <th>0</th>\n",
       "      <td>NaN</td>\n",
       "      <td>1/1/2011 0:06</td>\n",
       "      <td>$9.00</td>\n",
       "      <td>46</td>\n",
       "      <td>17</td>\n",
       "      <td>1</td>\n",
       "      <td>0</td>\n",
       "      <td>133</td>\n",
       "    </tr>\n",
       "    <tr>\n",
       "      <th>1</th>\n",
       "      <td>NaN</td>\n",
       "      <td>1/1/2011 0:26</td>\n",
       "      <td>$14.00</td>\n",
       "      <td>24</td>\n",
       "      <td>6</td>\n",
       "      <td>1</td>\n",
       "      <td>0</td>\n",
       "      <td>163</td>\n",
       "    </tr>\n",
       "    <tr>\n",
       "      <th>2</th>\n",
       "      <td>NaN</td>\n",
       "      <td>1/1/2011 0:54</td>\n",
       "      <td>$6.00</td>\n",
       "      <td>44</td>\n",
       "      <td>15</td>\n",
       "      <td>0</td>\n",
       "      <td>0</td>\n",
       "      <td>37159</td>\n",
       "    </tr>\n",
       "  </tbody>\n",
       "</table>\n",
       "</div>"
      ],
      "text/plain": [
       "  Entry Time      Exit Time    Gross  Lane  Lot  Rate  Ticket  \\\n",
       "0        NaN  1/1/2011 0:06   $9.00     46   17     1       0   \n",
       "1        NaN  1/1/2011 0:26  $14.00     24    6     1       0   \n",
       "2        NaN  1/1/2011 0:54   $6.00     44   15     0       0   \n",
       "\n",
       "   Transaction Number  \n",
       "0                 133  \n",
       "1                 163  \n",
       "2               37159  "
      ]
     },
     "execution_count": 15,
     "metadata": {},
     "output_type": "execute_result"
    }
   ],
   "source": [
    "df.head(3)"
   ]
  },
  {
   "cell_type": "code",
   "execution_count": 49,
   "metadata": {
    "collapsed": false
   },
   "outputs": [],
   "source": [
    "# Drop NaN, which is primarily from exit times from parking before midnight\n",
    "df = df.dropna()\n",
    "\n",
    "# Delete all entry events that happened before the beginning of 2011\n",
    "df = df[df.entry >= \"2011-01-01\"]"
   ]
  },
  {
   "cell_type": "code",
   "execution_count": 53,
   "metadata": {
    "collapsed": false
   },
   "outputs": [
    {
     "data": {
      "text/plain": [
       "991102"
      ]
     },
     "execution_count": 53,
     "metadata": {},
     "output_type": "execute_result"
    }
   ],
   "source": [
    "# Still a good amount of observations\n",
    "len(df)"
   ]
  },
  {
   "cell_type": "code",
   "execution_count": 38,
   "metadata": {
    "collapsed": false
   },
   "outputs": [],
   "source": [
    "# Create datetime of entry and exit times\n",
    "df[\"entry\"] = pd.to_datetime(df[\"Entry Time\"])\n",
    "df[\"exit\"] = pd.to_datetime(df[\"Exit Time\"])"
   ]
  },
  {
   "cell_type": "code",
   "execution_count": 60,
   "metadata": {
    "collapsed": true
   },
   "outputs": [],
   "source": [
    "# Make Gross currently string into float\n",
    "df[\"paid\"] = df[\"Gross\"].replace('[\\$,]', '', regex=True).astype(float)"
   ]
  },
  {
   "cell_type": "code",
   "execution_count": 43,
   "metadata": {
    "collapsed": false
   },
   "outputs": [],
   "source": [
    "df.set_index(pd.DatetimeIndex(df.entry), inplace=True)"
   ]
  },
  {
   "cell_type": "code",
   "execution_count": 61,
   "metadata": {
    "collapsed": false
   },
   "outputs": [
    {
     "data": {
      "text/html": [
       "<div>\n",
       "<table border=\"1\" class=\"dataframe\">\n",
       "  <thead>\n",
       "    <tr style=\"text-align: right;\">\n",
       "      <th></th>\n",
       "      <th>Entry Time</th>\n",
       "      <th>Exit Time</th>\n",
       "      <th>Gross</th>\n",
       "      <th>Lane</th>\n",
       "      <th>Lot</th>\n",
       "      <th>Rate</th>\n",
       "      <th>Ticket</th>\n",
       "      <th>Transaction Number</th>\n",
       "      <th>entry</th>\n",
       "      <th>exit</th>\n",
       "      <th>paid</th>\n",
       "    </tr>\n",
       "  </thead>\n",
       "  <tbody>\n",
       "    <tr>\n",
       "      <th>2011-01-01 00:04:00</th>\n",
       "      <td>1/1/2011 0:04</td>\n",
       "      <td>1/1/2011 1:06</td>\n",
       "      <td>$2.00</td>\n",
       "      <td>20</td>\n",
       "      <td>8</td>\n",
       "      <td>3</td>\n",
       "      <td>25016</td>\n",
       "      <td>233</td>\n",
       "      <td>2011-01-01 00:04:00</td>\n",
       "      <td>2011-01-01 01:06:00</td>\n",
       "      <td>2.0</td>\n",
       "    </tr>\n",
       "    <tr>\n",
       "      <th>2011-01-01 00:08:00</th>\n",
       "      <td>1/1/2011 0:08</td>\n",
       "      <td>1/1/2011 2:55</td>\n",
       "      <td>$6.00</td>\n",
       "      <td>20</td>\n",
       "      <td>8</td>\n",
       "      <td>3</td>\n",
       "      <td>25017</td>\n",
       "      <td>309</td>\n",
       "      <td>2011-01-01 00:08:00</td>\n",
       "      <td>2011-01-01 02:55:00</td>\n",
       "      <td>6.0</td>\n",
       "    </tr>\n",
       "    <tr>\n",
       "      <th>2011-01-01 00:27:00</th>\n",
       "      <td>1/1/2011 0:27</td>\n",
       "      <td>1/1/2011 2:34</td>\n",
       "      <td>$5.00</td>\n",
       "      <td>23</td>\n",
       "      <td>4</td>\n",
       "      <td>1</td>\n",
       "      <td>75164</td>\n",
       "      <td>209</td>\n",
       "      <td>2011-01-01 00:27:00</td>\n",
       "      <td>2011-01-01 02:34:00</td>\n",
       "      <td>5.0</td>\n",
       "    </tr>\n",
       "  </tbody>\n",
       "</table>\n",
       "</div>"
      ],
      "text/plain": [
       "                        Entry Time      Exit Time   Gross  Lane  Lot  Rate  \\\n",
       "2011-01-01 00:04:00  1/1/2011 0:04  1/1/2011 1:06  $2.00     20    8     3   \n",
       "2011-01-01 00:08:00  1/1/2011 0:08  1/1/2011 2:55  $6.00     20    8     3   \n",
       "2011-01-01 00:27:00  1/1/2011 0:27  1/1/2011 2:34  $5.00     23    4     1   \n",
       "\n",
       "                     Ticket  Transaction Number               entry  \\\n",
       "2011-01-01 00:04:00   25016                 233 2011-01-01 00:04:00   \n",
       "2011-01-01 00:08:00   25017                 309 2011-01-01 00:08:00   \n",
       "2011-01-01 00:27:00   75164                 209 2011-01-01 00:27:00   \n",
       "\n",
       "                                   exit  paid  \n",
       "2011-01-01 00:04:00 2011-01-01 01:06:00   2.0  \n",
       "2011-01-01 00:08:00 2011-01-01 02:55:00   6.0  \n",
       "2011-01-01 00:27:00 2011-01-01 02:34:00   5.0  "
      ]
     },
     "execution_count": 61,
     "metadata": {},
     "output_type": "execute_result"
    }
   ],
   "source": [
    "df.head(3)"
   ]
  },
  {
   "cell_type": "code",
   "execution_count": 63,
   "metadata": {
    "collapsed": false
   },
   "outputs": [],
   "source": [
    "# Group by month counting number of transactions\n",
    "parking_count = df.groupby(pd.Grouper(key='entry', freq='M')).size()"
   ]
  },
  {
   "cell_type": "code",
   "execution_count": 64,
   "metadata": {
    "collapsed": false
   },
   "outputs": [],
   "source": [
    "# Group by month summing gross payments\n",
    "parking_paid = df.groupby(pd.Grouper(key='entry', freq='M')).sum().paid"
   ]
  },
  {
   "cell_type": "code",
   "execution_count": 182,
   "metadata": {
    "collapsed": false
   },
   "outputs": [
    {
     "data": {
      "image/png": "[encoded data removed]",
      "text/plain": [
       "<matplotlib.figure.Figure at 0x16788f1d0>"
      ]
     },
     "metadata": {},
     "output_type": "display_data"
    }
   ],
   "source": [
    "f, ax1 = plt.subplots(figsize=(12, 10))\n",
    "\n",
    "# Subtract by one month since the index rounds up from the last day of the month to the next month\n",
    "index = parking_count.index.map(lambda x: x - 1)\n",
    "\n",
    "ax1.bar(index, parking_count, 16, align='center')\n",
    "ax1.set_ylabel('Total Parking Transactions', fontsize=16)\n",
    "ax1.set_xlabel('Month of the Year', fontsize=16)\n",
    "\n",
    "ax1.set_title(\"Comparison of Total Parking Transactions with Total Gross Payments\", fontsize=18)\n",
    "\n",
    "ax2 = ax1.twinx()\n",
    "ax2.plot(index, parking_paid.values, \"r--\", linewidth=4, label=\"Gross Payments\")\n",
    "ax2.set_ylabel('Gross Payments in Dollars', fontsize=16)\n",
    "ax2.grid(b=None)\n",
    "\n",
    "ax2.legend(loc=1, fontsize=16)\n",
    "\n",
    "monthsFmt = DateFormatter(\"%b %Y\")\n",
    "ax1.xaxis.set_major_formatter(monthsFmt)\n",
    "\n",
    "f.autofmt_xdate()"
   ]
  },
  {
   "cell_type": "markdown",
   "metadata": {},
   "source": [
    "### Figure 1: Bar plot of monthly total parking transactions with comparison line showing gross payments per month."
   ]
  }
 ],
 "metadata": {
  "anaconda-cloud": {},
  "kernelspec": {
   "display_name": "Python [Root]",
   "language": "python",
   "name": "Python [Root]"
  },
  "language_info": {
   "codemirror_mode": {
    "name": "ipython",
    "version": 3
   },
   "file_extension": ".py",
   "mimetype": "text/x-python",
   "name": "python",
   "nbconvert_exporter": "python",
   "pygments_lexer": "ipython3",
   "version": "3.5.1"
  }
 },
 "nbformat": 4,
 "nbformat_minor": 0
}
