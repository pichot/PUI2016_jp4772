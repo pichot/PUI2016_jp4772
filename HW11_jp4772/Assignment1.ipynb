{
 "cells": [
  {
   "cell_type": "markdown",
   "metadata": {},
   "source": [
    "## Assignment 1\n",
    "Jonathan Pichot"
   ]
  },
  {
   "cell_type": "code",
   "execution_count": 77,
   "metadata": {
    "collapsed": true
   },
   "outputs": [],
   "source": [
    "from geopandas import GeoDataFrame\n",
    "import pandas as pd\n",
    "import shapely\n",
    "import os\n",
    "import zipfile\n",
    "\n",
    "from fiona.crs import from_epsg\n",
    "from descartes import PolygonPatch\n",
    "\n",
    "%matplotlib inline"
   ]
  },
  {
   "cell_type": "code",
   "execution_count": 7,
   "metadata": {
    "collapsed": false
   },
   "outputs": [],
   "source": [
    "if os.getenv(\"PUIDATA\"):\n",
    "    data_path = os.getenv(\"PUIDATA\")\n",
    "else:\n",
    "    os.system('mkdir data')\n",
    "    data_path = \"./data\""
   ]
  },
  {
   "cell_type": "markdown",
   "metadata": {},
   "source": [
    "1.. Find the census trck shape files online (American Fact Finder has them), http://www1.nyc.gov/ has them. The folder you should download is names nycb2010_16d. Load it as a geopandas file"
   ]
  },
  {
   "cell_type": "code",
   "execution_count": 9,
   "metadata": {
    "collapsed": true
   },
   "outputs": [],
   "source": [
    "tracts_path = data_path + \"/tracts.zip\"\n",
    "\n",
    "os.system(\"curl -o \" + tracts_path + \" http://www1.nyc.gov/assets/planning/download/zip/data-maps/open-data/nyct2010_16d.zip\")\n",
    "tracts_zip = zipfile.ZipFile(tracts_path)\n",
    "tracts_zip.extractall(data_path + '/tracts')"
   ]
  },
  {
   "cell_type": "code",
   "execution_count": 27,
   "metadata": {
    "collapsed": false
   },
   "outputs": [],
   "source": [
    "ct_shape = GeoDataFrame.from_file(data_path + '/tracts/nyct2010_16d/nyct2010.shp')"
   ]
  },
  {
   "cell_type": "code",
   "execution_count": 28,
   "metadata": {
    "collapsed": false
   },
   "outputs": [
    {
     "data": {
      "text/html": [
       "<div>\n",
       "<table border=\"1\" class=\"dataframe\">\n",
       "  <thead>\n",
       "    <tr style=\"text-align: right;\">\n",
       "      <th></th>\n",
       "      <th>BoroCT2010</th>\n",
       "      <th>BoroCode</th>\n",
       "      <th>BoroName</th>\n",
       "      <th>CDEligibil</th>\n",
       "      <th>CT2010</th>\n",
       "      <th>CTLabel</th>\n",
       "      <th>NTACode</th>\n",
       "      <th>NTAName</th>\n",
       "      <th>PUMA</th>\n",
       "      <th>Shape_Area</th>\n",
       "      <th>Shape_Leng</th>\n",
       "      <th>geometry</th>\n",
       "    </tr>\n",
       "  </thead>\n",
       "  <tbody>\n",
       "    <tr>\n",
       "      <th>0</th>\n",
       "      <td>5000900</td>\n",
       "      <td>5</td>\n",
       "      <td>Staten Island</td>\n",
       "      <td>I</td>\n",
       "      <td>000900</td>\n",
       "      <td>9</td>\n",
       "      <td>SI22</td>\n",
       "      <td>West New Brighton-New Brighton-St. George</td>\n",
       "      <td>3903</td>\n",
       "      <td>2.497010e+06</td>\n",
       "      <td>7729.016794</td>\n",
       "      <td>POLYGON ((962269.1260375977 173705.5001831055,...</td>\n",
       "    </tr>\n",
       "    <tr>\n",
       "      <th>1</th>\n",
       "      <td>5007400</td>\n",
       "      <td>5</td>\n",
       "      <td>Staten Island</td>\n",
       "      <td>I</td>\n",
       "      <td>007400</td>\n",
       "      <td>74</td>\n",
       "      <td>SI14</td>\n",
       "      <td>Grasmere-Arrochar-Ft. Wadsworth</td>\n",
       "      <td>3902</td>\n",
       "      <td>5.788238e+06</td>\n",
       "      <td>9902.948473</td>\n",
       "      <td>POLYGON ((967656.8290405273 155637.1314086914,...</td>\n",
       "    </tr>\n",
       "  </tbody>\n",
       "</table>\n",
       "</div>"
      ],
      "text/plain": [
       "  BoroCT2010 BoroCode       BoroName CDEligibil  CT2010 CTLabel NTACode  \\\n",
       "0    5000900        5  Staten Island          I  000900       9    SI22   \n",
       "1    5007400        5  Staten Island          I  007400      74    SI14   \n",
       "\n",
       "                                     NTAName  PUMA    Shape_Area   Shape_Leng  \\\n",
       "0  West New Brighton-New Brighton-St. George  3903  2.497010e+06  7729.016794   \n",
       "1            Grasmere-Arrochar-Ft. Wadsworth  3902  5.788238e+06  9902.948473   \n",
       "\n",
       "                                            geometry  \n",
       "0  POLYGON ((962269.1260375977 173705.5001831055,...  \n",
       "1  POLYGON ((967656.8290405273 155637.1314086914,...  "
      ]
     },
     "execution_count": 28,
     "metadata": {},
     "output_type": "execute_result"
    }
   ],
   "source": [
    "ct_shape.head(2)"
   ]
  },
  {
   "cell_type": "markdown",
   "metadata": {},
   "source": [
    "2.. Extract only the Brooklyn shape polygons and convert the coordinates to lat/lon"
   ]
  },
  {
   "cell_type": "code",
   "execution_count": 29,
   "metadata": {
    "collapsed": true
   },
   "outputs": [],
   "source": [
    "ct_shape.crs = from_epsg(2263)"
   ]
  },
  {
   "cell_type": "code",
   "execution_count": 30,
   "metadata": {
    "collapsed": true
   },
   "outputs": [],
   "source": [
    "ct_latlon = ct_shape.to_crs(epsg=4326)"
   ]
  },
  {
   "cell_type": "code",
   "execution_count": 34,
   "metadata": {
    "collapsed": false
   },
   "outputs": [],
   "source": [
    "ct_latlon = ct_latlon[ct_latlon[\"BoroName\"] == \"Brooklyn\"]"
   ]
  },
  {
   "cell_type": "code",
   "execution_count": 35,
   "metadata": {
    "collapsed": false
   },
   "outputs": [
    {
     "data": {
      "text/html": [
       "<div>\n",
       "<table border=\"1\" class=\"dataframe\">\n",
       "  <thead>\n",
       "    <tr style=\"text-align: right;\">\n",
       "      <th></th>\n",
       "      <th>BoroCT2010</th>\n",
       "      <th>BoroCode</th>\n",
       "      <th>BoroName</th>\n",
       "      <th>CDEligibil</th>\n",
       "      <th>CT2010</th>\n",
       "      <th>CTLabel</th>\n",
       "      <th>NTACode</th>\n",
       "      <th>NTAName</th>\n",
       "      <th>PUMA</th>\n",
       "      <th>Shape_Area</th>\n",
       "      <th>Shape_Leng</th>\n",
       "      <th>geometry</th>\n",
       "    </tr>\n",
       "  </thead>\n",
       "  <tbody>\n",
       "    <tr>\n",
       "      <th>27</th>\n",
       "      <td>3000501</td>\n",
       "      <td>3</td>\n",
       "      <td>Brooklyn</td>\n",
       "      <td>I</td>\n",
       "      <td>000501</td>\n",
       "      <td>5.01</td>\n",
       "      <td>BK09</td>\n",
       "      <td>Brooklyn Heights-Cobble Hill</td>\n",
       "      <td>4004</td>\n",
       "      <td>9.015070e+05</td>\n",
       "      <td>4828.169912</td>\n",
       "      <td>POLYGON ((-73.99301822153384 40.69746236456678...</td>\n",
       "    </tr>\n",
       "    <tr>\n",
       "      <th>28</th>\n",
       "      <td>3002000</td>\n",
       "      <td>3</td>\n",
       "      <td>Brooklyn</td>\n",
       "      <td>I</td>\n",
       "      <td>002000</td>\n",
       "      <td>20</td>\n",
       "      <td>BK32</td>\n",
       "      <td>Sunset Park West</td>\n",
       "      <td>4012</td>\n",
       "      <td>1.620770e+06</td>\n",
       "      <td>5426.067279</td>\n",
       "      <td>POLYGON ((-74.01266264860631 40.64925555478156...</td>\n",
       "    </tr>\n",
       "  </tbody>\n",
       "</table>\n",
       "</div>"
      ],
      "text/plain": [
       "   BoroCT2010 BoroCode  BoroName CDEligibil  CT2010 CTLabel NTACode  \\\n",
       "27    3000501        3  Brooklyn          I  000501    5.01    BK09   \n",
       "28    3002000        3  Brooklyn          I  002000      20    BK32   \n",
       "\n",
       "                         NTAName  PUMA    Shape_Area   Shape_Leng  \\\n",
       "27  Brooklyn Heights-Cobble Hill  4004  9.015070e+05  4828.169912   \n",
       "28              Sunset Park West  4012  1.620770e+06  5426.067279   \n",
       "\n",
       "                                             geometry  \n",
       "27  POLYGON ((-73.99301822153384 40.69746236456678...  \n",
       "28  POLYGON ((-74.01266264860631 40.64925555478156...  "
      ]
     },
     "execution_count": 35,
     "metadata": {},
     "output_type": "execute_result"
    }
   ],
   "source": [
    "ct_latlon.head(2)"
   ]
  },
  {
   "cell_type": "markdown",
   "metadata": {},
   "source": [
    "3.. Find the coordinates of CUSP: 1 MetroTech Brooklyn. Create a Point shapely geometry with the coordinates of CUSP"
   ]
  },
  {
   "cell_type": "markdown",
   "metadata": {},
   "source": [
    "From latlong.net, the coordinates of CUSP are: (40.693217, -73.986403)"
   ]
  },
  {
   "cell_type": "code",
   "execution_count": 50,
   "metadata": {
    "collapsed": true
   },
   "outputs": [],
   "source": [
    "cusp = shapely.geometry.Point(-73.986403, 40.693217)"
   ]
  },
  {
   "cell_type": "markdown",
   "metadata": {},
   "source": [
    "4.. Loop over the Brookly polygons (nearly 10000) and assess find in which geometry the polygon is contained"
   ]
  },
  {
   "cell_type": "code",
   "execution_count": 54,
   "metadata": {
    "collapsed": false
   },
   "outputs": [
    {
     "name": "stdout",
     "output_type": "stream",
     "text": [
      "CUSP is contained in POLYGON ((-73.98514306089652 40.6948851429698, -73.98516822349798 40.69435907630041, -73.9851960499562 40.69377775320608, -73.98519903380242 40.69371550175662, -73.98523569188235 40.69304536291662, -73.98527941476607 40.69215769710565, -73.98536391830876 40.69066661360505, -73.98633134976359 40.69105051063072, -73.9864643625356 40.69110361177523, -73.98734787420081 40.69145766844002, -73.9882070139312 40.69180696020943, -73.98893356311615 40.69208664198882, -73.98902944698999 40.69212386151998, -73.98910541743069 40.69215331402466, -73.9894723855446 40.69229549434763, -73.99066626290963 40.6924971765605, -73.99097186899587 40.69254880038537, -73.99085041475469 40.6927982506494, -73.99072896048503 40.6930477014476, -73.99058794464069 40.69339137896954, -73.99045286506302 40.69372058427398, -73.99044474094237 40.69382825143359, -73.99066605587349 40.69456882398396, -73.99080803777389 40.6950271337944, -73.99073995964307 40.69503174773607, -73.9900911495747 40.69507576478843, -73.98902945206235 40.69502921113776, -73.98891478435502 40.69502350036718, -73.98884531151906 40.6950215305692, -73.98875574890583 40.69501835106358, -73.98861349022471 40.69501329500623, -73.98716132813911 40.69496169586319, -73.98616899959613 40.69492406481098, -73.98514306089652 40.6948851429698))\n"
     ]
    }
   ],
   "source": [
    "# you will need to use \n",
    "# - ct_latlon.geometry (the polygons you are looping over)\n",
    "# - shapely.geometry.asShape(<the polygon>).contain(<the point>)\n",
    "# - save the index of the polygon that contains the CUSP\n",
    "for i, ct in enumerate(ct_latlon.geometry.values):\n",
    "    if shapely.geometry.asShape(ct).contains(cusp):\n",
    "        cusp_ct = ct\n",
    "        print('CUSP is contained in', ct)"
   ]
  },
  {
   "cell_type": "markdown",
   "metadata": {},
   "source": [
    "5.. Plot one every 10 polygons of brooklyn (using the geopandas datafame method plot) and overplot the locati`on of cusp as a point (using pylab.scatter) Overplot also the census track that contains cusp in red (using the geopandas datafame method plot)"
   ]
  },
  {
   "cell_type": "code",
   "execution_count": 85,
   "metadata": {
    "collapsed": false
   },
   "outputs": [
    {
     "data": {
      "text/plain": [
       "<matplotlib.collections.PathCollection at 0x1293bf668>"
      ]
     },
     "execution_count": 85,
     "metadata": {},
     "output_type": "execute_result"
    },
    {
     "data": {
      "image/png": "[encoded data removed]",
      "text/plain": [
       "<matplotlib.figure.Figure at 0x1305901d0>"
      ]
     },
     "metadata": {},
     "output_type": "display_data"
    }
   ],
   "source": [
    "ax = ct_latlon.iloc[::10, :].plot(figsize=(28, 8))\n",
    "tmp = ax.axis('off')\n",
    "\n",
    "cusp_patch = PolygonPatch(cusp_ct, alpha=0.5, color=\"r\")\n",
    "ax.add_patch(cusp_patch)\n",
    "\n",
    "ax.scatter(-73.986403, 40.693217)"
   ]
  }
 ],
 "metadata": {
  "anaconda-cloud": {},
  "kernelspec": {
   "display_name": "Python [Root]",
   "language": "python",
   "name": "Python [Root]"
  },
  "language_info": {
   "codemirror_mode": {
    "name": "ipython",
    "version": 3
   },
   "file_extension": ".py",
   "mimetype": "text/x-python",
   "name": "python",
   "nbconvert_exporter": "python",
   "pygments_lexer": "ipython3",
   "version": "3.5.1"
  }
 },
 "nbformat": 4,
 "nbformat_minor": 0
}
